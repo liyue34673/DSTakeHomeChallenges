{
 "cells": [
  {
   "cell_type": "markdown",
   "metadata": {},
   "source": [
    "We have access to a specific bank loan data. We have data about all loans asked to the bank, whether the bank decided to grant it and, finally, whether the borrower managed to repay it. We also have info about the borrower at the moment she is asking for the loan."
   ]
  },
  {
   "cell_type": "code",
   "execution_count": 121,
   "metadata": {},
   "outputs": [],
   "source": [
    "import warnings\n",
    "warnings.simplefilter('ignore')\n",
    "\n",
    "import numpy as np\n",
    "import pandas as pd\n",
    "import seaborn as sns\n",
    "import matplotlib.pyplot as plt\n",
    "from sklearn.metrics import auc, roc_curve, classification_report, confusion_matrix\n",
    "from sklearn.tree import DecisionTreeClassifier\n",
    "from sklearn.model_selection import train_test_split,cross_val_score\n",
    "from sklearn import tree\n",
    "from sklearn.preprocessing import LabelEncoder\n",
    "import lightgbm as lgb\n",
    "    \n",
    "from matplotlib.legend_handler import HandlerLine2D\n",
    "\n",
    "import h2o\n",
    "from h2o.frame import H2OFrame\n",
    "from h2o.estimators.random_forest import H2ORandomForestEstimator\n",
    "from h2o.grid.grid_search import H2OGridSearch\n",
    "from h2o.estimators.gbm import H2OGradientBoostingEstimator\n",
    "from h2o.estimators.stackedensemble import H2OStackedEnsembleEstimator\n",
    "from __future__ import print_function\n",
    "import graphviz\n",
    "\n",
    "%matplotlib inline"
   ]
  },
  {
   "cell_type": "markdown",
   "metadata": {},
   "source": [
    "# Load Dataset"
   ]
  },
  {
   "cell_type": "code",
   "execution_count": 2,
   "metadata": {},
   "outputs": [],
   "source": [
    "loan = pd.read_csv('../DS_Challenges/Loan_Granting/loan_table.csv')\n",
    "borrower = pd.read_csv('../DS_Challenges/Loan_Granting/borrower_table.csv')"
   ]
  },
  {
   "cell_type": "code",
   "execution_count": 3,
   "metadata": {},
   "outputs": [
    {
     "data": {
      "text/html": [
       "<div>\n",
       "<style scoped>\n",
       "    .dataframe tbody tr th:only-of-type {\n",
       "        vertical-align: middle;\n",
       "    }\n",
       "\n",
       "    .dataframe tbody tr th {\n",
       "        vertical-align: top;\n",
       "    }\n",
       "\n",
       "    .dataframe thead th {\n",
       "        text-align: right;\n",
       "    }\n",
       "</style>\n",
       "<table border=\"1\" class=\"dataframe\">\n",
       "  <thead>\n",
       "    <tr style=\"text-align: right;\">\n",
       "      <th></th>\n",
       "      <th>loan_id</th>\n",
       "      <th>loan_purpose</th>\n",
       "      <th>date</th>\n",
       "      <th>loan_granted</th>\n",
       "      <th>loan_repaid</th>\n",
       "    </tr>\n",
       "  </thead>\n",
       "  <tbody>\n",
       "    <tr>\n",
       "      <th>0</th>\n",
       "      <td>19454</td>\n",
       "      <td>investment</td>\n",
       "      <td>2012-03-15</td>\n",
       "      <td>0</td>\n",
       "      <td>NaN</td>\n",
       "    </tr>\n",
       "    <tr>\n",
       "      <th>1</th>\n",
       "      <td>496811</td>\n",
       "      <td>investment</td>\n",
       "      <td>2012-01-17</td>\n",
       "      <td>0</td>\n",
       "      <td>NaN</td>\n",
       "    </tr>\n",
       "    <tr>\n",
       "      <th>2</th>\n",
       "      <td>929493</td>\n",
       "      <td>other</td>\n",
       "      <td>2012-02-09</td>\n",
       "      <td>0</td>\n",
       "      <td>NaN</td>\n",
       "    </tr>\n",
       "    <tr>\n",
       "      <th>3</th>\n",
       "      <td>580653</td>\n",
       "      <td>other</td>\n",
       "      <td>2012-06-27</td>\n",
       "      <td>1</td>\n",
       "      <td>1.0</td>\n",
       "    </tr>\n",
       "    <tr>\n",
       "      <th>4</th>\n",
       "      <td>172419</td>\n",
       "      <td>business</td>\n",
       "      <td>2012-05-21</td>\n",
       "      <td>1</td>\n",
       "      <td>0.0</td>\n",
       "    </tr>\n",
       "  </tbody>\n",
       "</table>\n",
       "</div>"
      ],
      "text/plain": [
       "   loan_id loan_purpose        date  loan_granted  loan_repaid\n",
       "0    19454   investment  2012-03-15             0          NaN\n",
       "1   496811   investment  2012-01-17             0          NaN\n",
       "2   929493        other  2012-02-09             0          NaN\n",
       "3   580653        other  2012-06-27             1          1.0\n",
       "4   172419     business  2012-05-21             1          0.0"
      ]
     },
     "execution_count": 3,
     "metadata": {},
     "output_type": "execute_result"
    }
   ],
   "source": [
    "loan.head()"
   ]
  },
  {
   "cell_type": "code",
   "execution_count": 4,
   "metadata": {},
   "outputs": [
    {
     "data": {
      "text/html": [
       "<div>\n",
       "<style scoped>\n",
       "    .dataframe tbody tr th:only-of-type {\n",
       "        vertical-align: middle;\n",
       "    }\n",
       "\n",
       "    .dataframe tbody tr th {\n",
       "        vertical-align: top;\n",
       "    }\n",
       "\n",
       "    .dataframe thead th {\n",
       "        text-align: right;\n",
       "    }\n",
       "</style>\n",
       "<table border=\"1\" class=\"dataframe\">\n",
       "  <thead>\n",
       "    <tr style=\"text-align: right;\">\n",
       "      <th></th>\n",
       "      <th>loan_id</th>\n",
       "      <th>is_first_loan</th>\n",
       "      <th>fully_repaid_previous_loans</th>\n",
       "      <th>currently_repaying_other_loans</th>\n",
       "      <th>total_credit_card_limit</th>\n",
       "      <th>avg_percentage_credit_card_limit_used_last_year</th>\n",
       "      <th>saving_amount</th>\n",
       "      <th>checking_amount</th>\n",
       "      <th>is_employed</th>\n",
       "      <th>yearly_salary</th>\n",
       "      <th>age</th>\n",
       "      <th>dependent_number</th>\n",
       "    </tr>\n",
       "  </thead>\n",
       "  <tbody>\n",
       "    <tr>\n",
       "      <th>0</th>\n",
       "      <td>289774</td>\n",
       "      <td>1</td>\n",
       "      <td>NaN</td>\n",
       "      <td>NaN</td>\n",
       "      <td>8000</td>\n",
       "      <td>0.49</td>\n",
       "      <td>3285</td>\n",
       "      <td>1073</td>\n",
       "      <td>0</td>\n",
       "      <td>0</td>\n",
       "      <td>47</td>\n",
       "      <td>3</td>\n",
       "    </tr>\n",
       "    <tr>\n",
       "      <th>1</th>\n",
       "      <td>482590</td>\n",
       "      <td>0</td>\n",
       "      <td>1.0</td>\n",
       "      <td>0.0</td>\n",
       "      <td>4500</td>\n",
       "      <td>1.03</td>\n",
       "      <td>636</td>\n",
       "      <td>5299</td>\n",
       "      <td>1</td>\n",
       "      <td>13500</td>\n",
       "      <td>33</td>\n",
       "      <td>1</td>\n",
       "    </tr>\n",
       "    <tr>\n",
       "      <th>2</th>\n",
       "      <td>135565</td>\n",
       "      <td>1</td>\n",
       "      <td>NaN</td>\n",
       "      <td>NaN</td>\n",
       "      <td>6900</td>\n",
       "      <td>0.82</td>\n",
       "      <td>2085</td>\n",
       "      <td>3422</td>\n",
       "      <td>1</td>\n",
       "      <td>24500</td>\n",
       "      <td>38</td>\n",
       "      <td>8</td>\n",
       "    </tr>\n",
       "    <tr>\n",
       "      <th>3</th>\n",
       "      <td>207797</td>\n",
       "      <td>0</td>\n",
       "      <td>1.0</td>\n",
       "      <td>0.0</td>\n",
       "      <td>1200</td>\n",
       "      <td>0.82</td>\n",
       "      <td>358</td>\n",
       "      <td>3388</td>\n",
       "      <td>0</td>\n",
       "      <td>0</td>\n",
       "      <td>24</td>\n",
       "      <td>1</td>\n",
       "    </tr>\n",
       "    <tr>\n",
       "      <th>4</th>\n",
       "      <td>828078</td>\n",
       "      <td>0</td>\n",
       "      <td>0.0</td>\n",
       "      <td>0.0</td>\n",
       "      <td>6900</td>\n",
       "      <td>0.80</td>\n",
       "      <td>2138</td>\n",
       "      <td>4282</td>\n",
       "      <td>1</td>\n",
       "      <td>18100</td>\n",
       "      <td>36</td>\n",
       "      <td>1</td>\n",
       "    </tr>\n",
       "  </tbody>\n",
       "</table>\n",
       "</div>"
      ],
      "text/plain": [
       "   loan_id  is_first_loan  fully_repaid_previous_loans  \\\n",
       "0   289774              1                          NaN   \n",
       "1   482590              0                          1.0   \n",
       "2   135565              1                          NaN   \n",
       "3   207797              0                          1.0   \n",
       "4   828078              0                          0.0   \n",
       "\n",
       "   currently_repaying_other_loans  total_credit_card_limit  \\\n",
       "0                             NaN                     8000   \n",
       "1                             0.0                     4500   \n",
       "2                             NaN                     6900   \n",
       "3                             0.0                     1200   \n",
       "4                             0.0                     6900   \n",
       "\n",
       "   avg_percentage_credit_card_limit_used_last_year  saving_amount  \\\n",
       "0                                             0.49           3285   \n",
       "1                                             1.03            636   \n",
       "2                                             0.82           2085   \n",
       "3                                             0.82            358   \n",
       "4                                             0.80           2138   \n",
       "\n",
       "   checking_amount  is_employed  yearly_salary  age  dependent_number  \n",
       "0             1073            0              0   47                 3  \n",
       "1             5299            1          13500   33                 1  \n",
       "2             3422            1          24500   38                 8  \n",
       "3             3388            0              0   24                 1  \n",
       "4             4282            1          18100   36                 1  "
      ]
     },
     "execution_count": 4,
     "metadata": {},
     "output_type": "execute_result"
    }
   ],
   "source": [
    "borrower.head()"
   ]
  },
  {
   "cell_type": "code",
   "execution_count": 5,
   "metadata": {},
   "outputs": [
    {
     "name": "stdout",
     "output_type": "stream",
     "text": [
      "<class 'pandas.core.frame.DataFrame'>\n",
      "RangeIndex: 101100 entries, 0 to 101099\n",
      "Data columns (total 5 columns):\n",
      " #   Column        Non-Null Count   Dtype  \n",
      "---  ------        --------------   -----  \n",
      " 0   loan_id       101100 non-null  int64  \n",
      " 1   loan_purpose  101100 non-null  object \n",
      " 2   date          101100 non-null  object \n",
      " 3   loan_granted  101100 non-null  int64  \n",
      " 4   loan_repaid   47654 non-null   float64\n",
      "dtypes: float64(1), int64(2), object(2)\n",
      "memory usage: 3.9+ MB\n"
     ]
    }
   ],
   "source": [
    "loan.info()"
   ]
  },
  {
   "cell_type": "code",
   "execution_count": 6,
   "metadata": {},
   "outputs": [
    {
     "name": "stdout",
     "output_type": "stream",
     "text": [
      "<class 'pandas.core.frame.DataFrame'>\n",
      "RangeIndex: 101100 entries, 0 to 101099\n",
      "Data columns (total 12 columns):\n",
      " #   Column                                           Non-Null Count   Dtype  \n",
      "---  ------                                           --------------   -----  \n",
      " 0   loan_id                                          101100 non-null  int64  \n",
      " 1   is_first_loan                                    101100 non-null  int64  \n",
      " 2   fully_repaid_previous_loans                      46153 non-null   float64\n",
      " 3   currently_repaying_other_loans                   46153 non-null   float64\n",
      " 4   total_credit_card_limit                          101100 non-null  int64  \n",
      " 5   avg_percentage_credit_card_limit_used_last_year  94128 non-null   float64\n",
      " 6   saving_amount                                    101100 non-null  int64  \n",
      " 7   checking_amount                                  101100 non-null  int64  \n",
      " 8   is_employed                                      101100 non-null  int64  \n",
      " 9   yearly_salary                                    101100 non-null  int64  \n",
      " 10  age                                              101100 non-null  int64  \n",
      " 11  dependent_number                                 101100 non-null  int64  \n",
      "dtypes: float64(3), int64(9)\n",
      "memory usage: 9.3 MB\n"
     ]
    }
   ],
   "source": [
    "borrower.info()"
   ]
  },
  {
   "cell_type": "markdown",
   "metadata": {},
   "source": [
    "# Question 1"
   ]
  },
  {
   "cell_type": "markdown",
   "metadata": {},
   "source": [
    "Build a model which is better than the bank model. For simplicity, assume that:\n",
    "\n",
    "    - If you grant the loan and the it doesn't get repaid, you lose 1\n",
    "    - If you grant the loan and the it does get repaid, you gain 1\n",
    "    - If you don't grant the loan, you gain 0\n",
    "  "
   ]
  },
  {
   "cell_type": "markdown",
   "metadata": {},
   "source": [
    "Using the rules above, compare bank profitability vs your model profitability"
   ]
  },
  {
   "cell_type": "code",
   "execution_count": 7,
   "metadata": {},
   "outputs": [],
   "source": [
    "loan['date'] = pd.to_datetime(loan.date)"
   ]
  },
  {
   "cell_type": "code",
   "execution_count": 8,
   "metadata": {},
   "outputs": [],
   "source": [
    "data = loan.merge(borrower, on = 'loan_id')"
   ]
  },
  {
   "cell_type": "code",
   "execution_count": 9,
   "metadata": {},
   "outputs": [
    {
     "name": "stdout",
     "output_type": "stream",
     "text": [
      "<class 'pandas.core.frame.DataFrame'>\n",
      "Int64Index: 101100 entries, 0 to 101099\n",
      "Data columns (total 16 columns):\n",
      " #   Column                                           Non-Null Count   Dtype         \n",
      "---  ------                                           --------------   -----         \n",
      " 0   loan_id                                          101100 non-null  int64         \n",
      " 1   loan_purpose                                     101100 non-null  object        \n",
      " 2   date                                             101100 non-null  datetime64[ns]\n",
      " 3   loan_granted                                     101100 non-null  int64         \n",
      " 4   loan_repaid                                      47654 non-null   float64       \n",
      " 5   is_first_loan                                    101100 non-null  int64         \n",
      " 6   fully_repaid_previous_loans                      46153 non-null   float64       \n",
      " 7   currently_repaying_other_loans                   46153 non-null   float64       \n",
      " 8   total_credit_card_limit                          101100 non-null  int64         \n",
      " 9   avg_percentage_credit_card_limit_used_last_year  94128 non-null   float64       \n",
      " 10  saving_amount                                    101100 non-null  int64         \n",
      " 11  checking_amount                                  101100 non-null  int64         \n",
      " 12  is_employed                                      101100 non-null  int64         \n",
      " 13  yearly_salary                                    101100 non-null  int64         \n",
      " 14  age                                              101100 non-null  int64         \n",
      " 15  dependent_number                                 101100 non-null  int64         \n",
      "dtypes: datetime64[ns](1), float64(4), int64(10), object(1)\n",
      "memory usage: 13.1+ MB\n"
     ]
    }
   ],
   "source": [
    "data.info()"
   ]
  },
  {
   "cell_type": "code",
   "execution_count": 10,
   "metadata": {},
   "outputs": [
    {
     "name": "stdout",
     "output_type": "stream",
     "text": [
      "<class 'pandas.core.frame.DataFrame'>\n",
      "Int64Index: 47654 entries, 3 to 101098\n",
      "Data columns (total 16 columns):\n",
      " #   Column                                           Non-Null Count  Dtype         \n",
      "---  ------                                           --------------  -----         \n",
      " 0   loan_id                                          47654 non-null  int64         \n",
      " 1   loan_purpose                                     47654 non-null  object        \n",
      " 2   date                                             47654 non-null  datetime64[ns]\n",
      " 3   loan_granted                                     47654 non-null  int64         \n",
      " 4   loan_repaid                                      47654 non-null  float64       \n",
      " 5   is_first_loan                                    47654 non-null  int64         \n",
      " 6   fully_repaid_previous_loans                      21865 non-null  float64       \n",
      " 7   currently_repaying_other_loans                   21865 non-null  float64       \n",
      " 8   total_credit_card_limit                          47654 non-null  int64         \n",
      " 9   avg_percentage_credit_card_limit_used_last_year  46751 non-null  float64       \n",
      " 10  saving_amount                                    47654 non-null  int64         \n",
      " 11  checking_amount                                  47654 non-null  int64         \n",
      " 12  is_employed                                      47654 non-null  int64         \n",
      " 13  yearly_salary                                    47654 non-null  int64         \n",
      " 14  age                                              47654 non-null  int64         \n",
      " 15  dependent_number                                 47654 non-null  int64         \n",
      "dtypes: datetime64[ns](1), float64(4), int64(10), object(1)\n",
      "memory usage: 6.2+ MB\n"
     ]
    }
   ],
   "source": [
    "# choose data with loan granted \n",
    "# the data with loan not granted is not useful for profit calculation\n",
    "data = data[data['loan_granted'] == 1]\n",
    "data.info()"
   ]
  },
  {
   "cell_type": "markdown",
   "metadata": {},
   "source": [
    "## initial modelling without feature engineering"
   ]
  },
  {
   "cell_type": "code",
   "execution_count": 9,
   "metadata": {},
   "outputs": [
    {
     "name": "stdout",
     "output_type": "stream",
     "text": [
      "Checking whether there is an H2O instance running at http://localhost:54321 ..... not found.\n",
      "Attempting to start a local H2O server...\n",
      "  Java Version: openjdk version \"11.0.6\" 2020-01-14; OpenJDK Runtime Environment (build 11.0.6+8-b765.1); OpenJDK 64-Bit Server VM (build 11.0.6+8-b765.1, mixed mode)\n",
      "  Starting server from /Users/yli/opt/anaconda3/lib/python3.8/site-packages/h2o/backend/bin/h2o.jar\n",
      "  Ice root: /var/folders/df/669jwmvs7m78zz36wmxbr_zm0000gn/T/tmptovjf9iv\n",
      "  JVM stdout: /var/folders/df/669jwmvs7m78zz36wmxbr_zm0000gn/T/tmptovjf9iv/h2o_yli_started_from_python.out\n",
      "  JVM stderr: /var/folders/df/669jwmvs7m78zz36wmxbr_zm0000gn/T/tmptovjf9iv/h2o_yli_started_from_python.err\n",
      "  Server is running at http://127.0.0.1:54321\n",
      "Connecting to H2O server at http://127.0.0.1:54321 ... successful.\n"
     ]
    },
    {
     "data": {
      "text/html": [
       "<div style=\"overflow:auto\"><table style=\"width:50%\"><tr><td>H2O_cluster_uptime:</td>\n",
       "<td>02 secs</td></tr>\n",
       "<tr><td>H2O_cluster_timezone:</td>\n",
       "<td>Asia/Shanghai</td></tr>\n",
       "<tr><td>H2O_data_parsing_timezone:</td>\n",
       "<td>UTC</td></tr>\n",
       "<tr><td>H2O_cluster_version:</td>\n",
       "<td>3.32.0.2</td></tr>\n",
       "<tr><td>H2O_cluster_version_age:</td>\n",
       "<td>1 month and 11 days </td></tr>\n",
       "<tr><td>H2O_cluster_name:</td>\n",
       "<td>H2O_from_python_yli_uruy5n</td></tr>\n",
       "<tr><td>H2O_cluster_total_nodes:</td>\n",
       "<td>1</td></tr>\n",
       "<tr><td>H2O_cluster_free_memory:</td>\n",
       "<td>4 Gb</td></tr>\n",
       "<tr><td>H2O_cluster_total_cores:</td>\n",
       "<td>8</td></tr>\n",
       "<tr><td>H2O_cluster_allowed_cores:</td>\n",
       "<td>8</td></tr>\n",
       "<tr><td>H2O_cluster_status:</td>\n",
       "<td>accepting new members, healthy</td></tr>\n",
       "<tr><td>H2O_connection_url:</td>\n",
       "<td>http://127.0.0.1:54321</td></tr>\n",
       "<tr><td>H2O_connection_proxy:</td>\n",
       "<td>{\"http\": null, \"https\": null}</td></tr>\n",
       "<tr><td>H2O_internal_security:</td>\n",
       "<td>False</td></tr>\n",
       "<tr><td>H2O_API_Extensions:</td>\n",
       "<td>Amazon S3, XGBoost, Algos, AutoML, Core V3, TargetEncoder, Core V4</td></tr>\n",
       "<tr><td>Python_version:</td>\n",
       "<td>3.8.2 final</td></tr></table></div>"
      ],
      "text/plain": [
       "--------------------------  ------------------------------------------------------------------\n",
       "H2O_cluster_uptime:         02 secs\n",
       "H2O_cluster_timezone:       Asia/Shanghai\n",
       "H2O_data_parsing_timezone:  UTC\n",
       "H2O_cluster_version:        3.32.0.2\n",
       "H2O_cluster_version_age:    1 month and 11 days\n",
       "H2O_cluster_name:           H2O_from_python_yli_uruy5n\n",
       "H2O_cluster_total_nodes:    1\n",
       "H2O_cluster_free_memory:    4 Gb\n",
       "H2O_cluster_total_cores:    8\n",
       "H2O_cluster_allowed_cores:  8\n",
       "H2O_cluster_status:         accepting new members, healthy\n",
       "H2O_connection_url:         http://127.0.0.1:54321\n",
       "H2O_connection_proxy:       {\"http\": null, \"https\": null}\n",
       "H2O_internal_security:      False\n",
       "H2O_API_Extensions:         Amazon S3, XGBoost, Algos, AutoML, Core V3, TargetEncoder, Core V4\n",
       "Python_version:             3.8.2 final\n",
       "--------------------------  ------------------------------------------------------------------"
      ]
     },
     "metadata": {},
     "output_type": "display_data"
    }
   ],
   "source": [
    "# Initialize H2O cluster\n",
    "h2o.init()\n",
    "h2o.remove_all()"
   ]
  },
  {
   "cell_type": "code",
   "execution_count": 12,
   "metadata": {},
   "outputs": [
    {
     "name": "stdout",
     "output_type": "stream",
     "text": [
      "Parse progress: |█████████████████████████████████████████████████████████| 100%\n",
      "<class 'pandas.core.frame.DataFrame'>\n",
      "Int64Index: 101100 entries, 0 to 101099\n",
      "Data columns (total 16 columns):\n",
      " #   Column                                           Non-Null Count   Dtype  \n",
      "---  ------                                           --------------   -----  \n",
      " 0   loan_id                                          101100 non-null  int64  \n",
      " 1   loan_purpose                                     101100 non-null  object \n",
      " 2   date                                             101100 non-null  object \n",
      " 3   loan_granted                                     101100 non-null  int64  \n",
      " 4   loan_repaid                                      47654 non-null   float64\n",
      " 5   is_first_loan                                    101100 non-null  int64  \n",
      " 6   fully_repaid_previous_loans                      46153 non-null   float64\n",
      " 7   currently_repaying_other_loans                   46153 non-null   float64\n",
      " 8   total_credit_card_limit                          101100 non-null  int64  \n",
      " 9   avg_percentage_credit_card_limit_used_last_year  94128 non-null   float64\n",
      " 10  saving_amount                                    101100 non-null  int64  \n",
      " 11  checking_amount                                  101100 non-null  int64  \n",
      " 12  is_employed                                      101100 non-null  int64  \n",
      " 13  yearly_salary                                    101100 non-null  int64  \n",
      " 14  age                                              101100 non-null  int64  \n",
      " 15  dependent_number                                 101100 non-null  int64  \n",
      "dtypes: float64(4), int64(10), object(2)\n",
      "memory usage: 13.1+ MB\n"
     ]
    }
   ],
   "source": [
    "# Transform to H2O Frame, and make sure the target variable is categorical\n",
    "h2o_df = H2OFrame(data)\n",
    "data.info()"
   ]
  },
  {
   "cell_type": "code",
   "execution_count": 13,
   "metadata": {},
   "outputs": [
    {
     "data": {
      "text/html": [
       "<table>\n",
       "<thead>\n",
       "<tr><th>       </th><th>loan_id          </th><th>loan_purpose   </th><th>date               </th><th>loan_granted  </th><th>loan_repaid  </th><th>is_first_loan  </th><th>fully_repaid_previous_loans  </th><th>currently_repaying_other_loans  </th><th>total_credit_card_limit  </th><th>avg_percentage_credit_card_limit_used_last_year  </th><th>saving_amount    </th><th>checking_amount  </th><th>is_employed  </th><th>yearly_salary    </th><th>age               </th><th>dependent_number  </th></tr>\n",
       "</thead>\n",
       "<tbody>\n",
       "<tr><td>type   </td><td>int              </td><td>enum           </td><td>time               </td><td>enum          </td><td>enum         </td><td>enum           </td><td>enum                         </td><td>enum                            </td><td>int                      </td><td>real                                             </td><td>int              </td><td>int              </td><td>enum         </td><td>int              </td><td>int               </td><td>int               </td></tr>\n",
       "<tr><td>mins   </td><td>30.0             </td><td>               </td><td>1325462400000.0    </td><td>              </td><td>             </td><td>               </td><td>                             </td><td>                                </td><td>0.0                      </td><td>0.0                                              </td><td>0.0              </td><td>0.0              </td><td>             </td><td>0.0              </td><td>18.0              </td><td>0.0               </td></tr>\n",
       "<tr><td>mean   </td><td>499666.8267260164</td><td>               </td><td>1341022408451.0457 </td><td>              </td><td>             </td><td>               </td><td>                             </td><td>                                </td><td>4112.743818001983        </td><td>0.7241396821349663                               </td><td>1799.617616221567</td><td>3177.150820969348</td><td>             </td><td>21020.72799208714</td><td>41.49163204747762 </td><td>3.8647477744807226</td></tr>\n",
       "<tr><td>maxs   </td><td>999987.0         </td><td>               </td><td>1356652800000.0    </td><td>              </td><td>             </td><td>               </td><td>                             </td><td>                                </td><td>13500.0                  </td><td>1.09                                             </td><td>10641.0          </td><td>13906.0          </td><td>             </td><td>97200.0          </td><td>79.0              </td><td>8.0               </td></tr>\n",
       "<tr><td>sigma  </td><td>288662.0069285392</td><td>               </td><td>9070558460.709177  </td><td>              </td><td>             </td><td>               </td><td>                             </td><td>                                </td><td>2129.121462019133        </td><td>0.18648306602295645                              </td><td>1400.545140731874</td><td>2044.448154632104</td><td>             </td><td>18937.58141515658</td><td>12.825569638708254</td><td>2.635490684139471 </td></tr>\n",
       "<tr><td>zeros  </td><td>0                </td><td>               </td><td>0                  </td><td>              </td><td>             </td><td>               </td><td>                             </td><td>                                </td><td>6972                     </td><td>2                                                </td><td>8                </td><td>2                </td><td>             </td><td>34521            </td><td>0                 </td><td>3432              </td></tr>\n",
       "<tr><td>missing</td><td>0                </td><td>0              </td><td>0                  </td><td>0             </td><td>0            </td><td>0              </td><td>0                            </td><td>0                               </td><td>0                        </td><td>6972                                             </td><td>0                </td><td>0                </td><td>0            </td><td>0                </td><td>0                 </td><td>0                 </td></tr>\n",
       "<tr><td>0      </td><td>19454.0          </td><td>investment     </td><td>2012-03-15 00:00:00</td><td>0             </td><td>nan          </td><td>1              </td><td>nan                          </td><td>nan                             </td><td>8600.0                   </td><td>0.79                                             </td><td>1491.0           </td><td>6285.0           </td><td>1            </td><td>45200.0          </td><td>42.0              </td><td>7.0               </td></tr>\n",
       "<tr><td>1      </td><td>496811.0         </td><td>investment     </td><td>2012-01-17 00:00:00</td><td>0             </td><td>nan          </td><td>1              </td><td>nan                          </td><td>nan                             </td><td>5300.0                   </td><td>0.52                                             </td><td>141.0            </td><td>5793.0           </td><td>0            </td><td>0.0              </td><td>42.0              </td><td>5.0               </td></tr>\n",
       "<tr><td>2      </td><td>929493.0         </td><td>other          </td><td>2012-02-09 00:00:00</td><td>0             </td><td>nan          </td><td>1              </td><td>nan                          </td><td>nan                             </td><td>0.0                      </td><td>nan                                              </td><td>660.0            </td><td>3232.0           </td><td>1            </td><td>26500.0          </td><td>60.0              </td><td>4.0               </td></tr>\n",
       "<tr><td>3      </td><td>580653.0         </td><td>other          </td><td>2012-06-27 00:00:00</td><td>1             </td><td>1.0          </td><td>0              </td><td>1.0                          </td><td>0.0                             </td><td>5400.0                   </td><td>0.52                                             </td><td>3345.0           </td><td>2764.0           </td><td>1            </td><td>15800.0          </td><td>58.0              </td><td>4.0               </td></tr>\n",
       "<tr><td>4      </td><td>172419.0         </td><td>business       </td><td>2012-05-21 00:00:00</td><td>1             </td><td>0.0          </td><td>1              </td><td>nan                          </td><td>nan                             </td><td>2900.0                   </td><td>0.76                                             </td><td>1050.0           </td><td>3695.0           </td><td>1            </td><td>34800.0          </td><td>31.0              </td><td>4.0               </td></tr>\n",
       "<tr><td>5      </td><td>77085.0          </td><td>other          </td><td>2012-08-31 00:00:00</td><td>0             </td><td>nan          </td><td>1              </td><td>nan                          </td><td>nan                             </td><td>3000.0                   </td><td>0.82                                             </td><td>1028.0           </td><td>3269.0           </td><td>0            </td><td>0.0              </td><td>45.0              </td><td>3.0               </td></tr>\n",
       "<tr><td>6      </td><td>780070.0         </td><td>business       </td><td>2012-03-14 00:00:00</td><td>1             </td><td>1.0          </td><td>0              </td><td>1.0                          </td><td>0.0                             </td><td>7800.0                   </td><td>0.3                                              </td><td>4206.0           </td><td>4368.0           </td><td>1            </td><td>51100.0          </td><td>51.0              </td><td>2.0               </td></tr>\n",
       "<tr><td>7      </td><td>303138.0         </td><td>emergency_funds</td><td>2012-08-31 00:00:00</td><td>1             </td><td>0.0          </td><td>0              </td><td>0.0                          </td><td>1.0                             </td><td>4300.0                   </td><td>1.02                                             </td><td>886.0            </td><td>1597.0           </td><td>1            </td><td>15000.0          </td><td>59.0              </td><td>2.0               </td></tr>\n",
       "<tr><td>8      </td><td>91475.0          </td><td>investment     </td><td>2012-05-25 00:00:00</td><td>1             </td><td>1.0          </td><td>0              </td><td>1.0                          </td><td>0.0                             </td><td>3900.0                   </td><td>0.65                                             </td><td>1837.0           </td><td>3795.0           </td><td>1            </td><td>12000.0          </td><td>24.0              </td><td>1.0               </td></tr>\n",
       "<tr><td>9      </td><td>422392.0         </td><td>business       </td><td>2012-10-25 00:00:00</td><td>0             </td><td>nan          </td><td>0              </td><td>1.0                          </td><td>1.0                             </td><td>1000.0                   </td><td>1.09                                             </td><td>134.0            </td><td>1408.0           </td><td>0            </td><td>0.0              </td><td>36.0              </td><td>2.0               </td></tr>\n",
       "</tbody>\n",
       "</table>"
      ]
     },
     "metadata": {},
     "output_type": "display_data"
    }
   ],
   "source": [
    "# change to categorical variables\n",
    "h2o_df['loan_granted'] = h2o_df['loan_granted'].asfactor()\n",
    "h2o_df['is_first_loan'] = h2o_df['is_first_loan'].asfactor()\n",
    "h2o_df['fully_repaid_previous_loans'] = h2o_df['fully_repaid_previous_loans'].asfactor()\n",
    "h2o_df['currently_repaying_other_loans'] = h2o_df['currently_repaying_other_loans'].asfactor()\n",
    "h2o_df['is_employed'] = h2o_df['is_employed'].asfactor()\n",
    "\n",
    "h2o_df.summary()"
   ]
  },
  {
   "cell_type": "code",
   "execution_count": 15,
   "metadata": {},
   "outputs": [
    {
     "data": {
      "text/plain": [
       "['loan_id',\n",
       " 'loan_purpose',\n",
       " 'date',\n",
       " 'loan_granted',\n",
       " 'loan_repaid',\n",
       " 'is_first_loan',\n",
       " 'fully_repaid_previous_loans',\n",
       " 'currently_repaying_other_loans',\n",
       " 'total_credit_card_limit',\n",
       " 'avg_percentage_credit_card_limit_used_last_year',\n",
       " 'saving_amount',\n",
       " 'checking_amount',\n",
       " 'is_employed',\n",
       " 'yearly_salary',\n",
       " 'age',\n",
       " 'dependent_number']"
      ]
     },
     "execution_count": 15,
     "metadata": {},
     "output_type": "execute_result"
    }
   ],
   "source": [
    "h2o_df.columns"
   ]
  },
  {
   "cell_type": "code",
   "execution_count": 19,
   "metadata": {},
   "outputs": [
    {
     "name": "stdout",
     "output_type": "stream",
     "text": [
      "drf Model Build progress: |███████████████████████████████████████████████| 100%\n"
     ]
    }
   ],
   "source": [
    "# Split into 75% training and 25% test dataset\n",
    "strat_split = h2o_df['loan_granted'].stratified_split(test_frac=0.25, seed=42)\n",
    "\n",
    "train = h2o_df[strat_split == 'train']\n",
    "test = h2o_df[strat_split == 'test']\n",
    "\n",
    "feature = ['loan_purpose',\n",
    " 'is_first_loan',\n",
    " 'fully_repaid_previous_loans',\n",
    " 'currently_repaying_other_loans',\n",
    " 'total_credit_card_limit',\n",
    " 'avg_percentage_credit_card_limit_used_last_year',\n",
    " 'saving_amount',\n",
    " 'checking_amount',\n",
    " 'is_employed',\n",
    " 'yearly_salary',\n",
    " 'age',\n",
    " 'dependent_number']\n",
    "\n",
    "target = 'loan_granted'\n",
    "\n",
    "\n",
    "# Build random forest model\n",
    "model = H2ORandomForestEstimator(balance_classes=True, ntrees=100, max_depth=20,\n",
    "                                 mtries=-1, seed=42, score_each_iteration=True)\n",
    "\n",
    "model.train(x=feature, y=target, training_frame=train)"
   ]
  },
  {
   "cell_type": "code",
   "execution_count": 20,
   "metadata": {},
   "outputs": [
    {
     "data": {
      "image/png": "[encoded data removed]",
      "text/plain": [
       "<Figure size 1008x720 with 1 Axes>"
      ]
     },
     "metadata": {
      "needs_background": "light"
     },
     "output_type": "display_data"
    }
   ],
   "source": [
    "# variable importance plot\n",
    "model.varimp_plot()"
   ]
  },
  {
   "cell_type": "code",
   "execution_count": 21,
   "metadata": {},
   "outputs": [],
   "source": [
    "# Feature importance\n",
    "importance = model.varimp(use_pandas=True)"
   ]
  },
  {
   "cell_type": "code",
   "execution_count": 22,
   "metadata": {},
   "outputs": [
    {
     "data": {
      "image/png": "[encoded data removed]",
      "text/plain": [
       "<Figure size 720x576 with 1 Axes>"
      ]
     },
     "metadata": {
      "needs_background": "light"
     },
     "output_type": "display_data"
    }
   ],
   "source": [
    "fig, ax = plt.subplots(figsize=(10, 8))\n",
    "sns.barplot(x='scaled_importance', y='variable', data=importance)\n",
    "plt.show()"
   ]
  },
  {
   "cell_type": "code",
   "execution_count": 24,
   "metadata": {},
   "outputs": [
    {
     "name": "stdout",
     "output_type": "stream",
     "text": [
      "drf prediction progress: |████████████████████████████████████████████████| 100%\n",
      "drf prediction progress: |████████████████████████████████████████████████| 100%\n"
     ]
    }
   ],
   "source": [
    "# Make predictions\n",
    "train_true = train.as_data_frame()['loan_granted'].values\n",
    "test_true = test.as_data_frame()['loan_granted'].values\n",
    "train_pred = model.predict(train).as_data_frame()['p1'].values\n",
    "test_pred = model.predict(test).as_data_frame()['p1'].values\n",
    "\n",
    "train_fpr, train_tpr, _ = roc_curve(train_true, train_pred)\n",
    "test_fpr, test_tpr, _ = roc_curve(test_true, test_pred)\n",
    "train_auc = np.round(auc(train_fpr, train_tpr), 3)\n",
    "test_auc = np.round(auc(test_fpr, test_tpr), 3)"
   ]
  },
  {
   "cell_type": "code",
   "execution_count": 25,
   "metadata": {},
   "outputs": [
    {
     "name": "stdout",
     "output_type": "stream",
     "text": [
      "              precision    recall  f1-score   support\n",
      "\n",
      "           0       0.87      0.68      0.77     13362\n",
      "           1       0.71      0.89      0.79     11914\n",
      "\n",
      "    accuracy                           0.78     25276\n",
      "   macro avg       0.79      0.78      0.78     25276\n",
      "weighted avg       0.80      0.78      0.78     25276\n",
      "\n"
     ]
    },
    {
     "data": {
      "image/png": "[encoded data removed]",
      "text/plain": [
       "<Figure size 576x432 with 1 Axes>"
      ]
     },
     "metadata": {
      "needs_background": "light"
     },
     "output_type": "display_data"
    }
   ],
   "source": [
    "# Classification report\n",
    "print(classification_report(y_true=test_true, y_pred=(test_pred > 0.5).astype(int)))\n",
    "\n",
    "# AUC plot\n",
    "fig, ax = plt.subplots(figsize=(8, 6))\n",
    "ax.plot(train_fpr, train_tpr, label='Train AUC: ' + str(train_auc))\n",
    "ax.plot(test_fpr, test_tpr, label='Test AUC: ' + str(test_auc))\n",
    "ax.set_xlabel('False Positive Rate', fontsize=12)\n",
    "ax.set_ylabel('True Positive Rate', fontsize=12)\n",
    "ax.legend(fontsize=12)\n",
    "plt.show()"
   ]
  },
  {
   "cell_type": "code",
   "execution_count": 26,
   "metadata": {},
   "outputs": [
    {
     "name": "stdout",
     "output_type": "stream",
     "text": [
      "PartialDependencePlot progress: |█████████████████████████████████████████| 100%\n"
     ]
    },
    {
     "data": {
      "image/png": "[encoded data removed]",
      "text/plain": [
       "<Figure size 576x1080 with 12 Axes>"
      ]
     },
     "metadata": {
      "needs_background": "light"
     },
     "output_type": "display_data"
    }
   ],
   "source": [
    "# partial_plot\n",
    "## the blue block represents the confidence interval\n",
    "_ = model.partial_plot(train, cols=feature, figsize=(8, 15))"
   ]
  },
  {
   "cell_type": "markdown",
   "metadata": {},
   "source": [
    "## initial comparison"
   ]
  },
  {
   "cell_type": "code",
   "execution_count": 43,
   "metadata": {},
   "outputs": [
    {
     "data": {
      "text/plain": [
       "h2o.frame.H2OFrame"
      ]
     },
     "execution_count": 43,
     "metadata": {},
     "output_type": "execute_result"
    }
   ],
   "source": [
    "type(test)"
   ]
  },
  {
   "cell_type": "code",
   "execution_count": 48,
   "metadata": {},
   "outputs": [],
   "source": [
    "test_df = h2o.as_list(test)"
   ]
  },
  {
   "cell_type": "code",
   "execution_count": 50,
   "metadata": {},
   "outputs": [
    {
     "data": {
      "text/plain": [
       "pandas.core.frame.DataFrame"
      ]
     },
     "execution_count": 50,
     "metadata": {},
     "output_type": "execute_result"
    }
   ],
   "source": [
    "type(test_df)"
   ]
  },
  {
   "cell_type": "code",
   "execution_count": 53,
   "metadata": {},
   "outputs": [
    {
     "data": {
      "text/plain": [
       "3488"
      ]
     },
     "execution_count": 53,
     "metadata": {},
     "output_type": "execute_result"
    }
   ],
   "source": [
    "# The profitability of Bank's model\n",
    "test_df.loc[(test_df['loan_granted']==1)&(test_df['loan_repaid']==1)].shape[0]-test_df.loc[(test_df['loan_granted']==1)&(test_df['loan_repaid']==0)].shape[0]"
   ]
  },
  {
   "cell_type": "code",
   "execution_count": 56,
   "metadata": {},
   "outputs": [
    {
     "name": "stdout",
     "output_type": "stream",
     "text": [
      "drf prediction progress: |████████████████████████████████████████████████| 100%\n"
     ]
    },
    {
     "data": {
      "text/plain": [
       "pandas.core.series.Series"
      ]
     },
     "execution_count": 56,
     "metadata": {},
     "output_type": "execute_result"
    }
   ],
   "source": [
    "test_predict_mymodel = model.predict(test).as_data_frame()['predict']\n",
    "type(test_predict_mymodel)"
   ]
  },
  {
   "cell_type": "code",
   "execution_count": 58,
   "metadata": {},
   "outputs": [],
   "source": [
    "test_mine = test_df.copy()\n",
    "del test_mine['loan_granted']\n",
    "test_mine['loan_granted'] = test_predict_mymodel"
   ]
  },
  {
   "cell_type": "code",
   "execution_count": 59,
   "metadata": {},
   "outputs": [
    {
     "data": {
      "text/html": [
       "<div>\n",
       "<style scoped>\n",
       "    .dataframe tbody tr th:only-of-type {\n",
       "        vertical-align: middle;\n",
       "    }\n",
       "\n",
       "    .dataframe tbody tr th {\n",
       "        vertical-align: top;\n",
       "    }\n",
       "\n",
       "    .dataframe thead th {\n",
       "        text-align: right;\n",
       "    }\n",
       "</style>\n",
       "<table border=\"1\" class=\"dataframe\">\n",
       "  <thead>\n",
       "    <tr style=\"text-align: right;\">\n",
       "      <th></th>\n",
       "      <th>loan_id</th>\n",
       "      <th>loan_purpose</th>\n",
       "      <th>date</th>\n",
       "      <th>loan_repaid</th>\n",
       "      <th>is_first_loan</th>\n",
       "      <th>fully_repaid_previous_loans</th>\n",
       "      <th>currently_repaying_other_loans</th>\n",
       "      <th>total_credit_card_limit</th>\n",
       "      <th>avg_percentage_credit_card_limit_used_last_year</th>\n",
       "      <th>saving_amount</th>\n",
       "      <th>checking_amount</th>\n",
       "      <th>is_employed</th>\n",
       "      <th>yearly_salary</th>\n",
       "      <th>age</th>\n",
       "      <th>dependent_number</th>\n",
       "      <th>loan_granted</th>\n",
       "    </tr>\n",
       "  </thead>\n",
       "  <tbody>\n",
       "    <tr>\n",
       "      <th>0</th>\n",
       "      <td>77085</td>\n",
       "      <td>other</td>\n",
       "      <td>1346371200000</td>\n",
       "      <td>NaN</td>\n",
       "      <td>1</td>\n",
       "      <td>NaN</td>\n",
       "      <td>NaN</td>\n",
       "      <td>3000</td>\n",
       "      <td>0.82</td>\n",
       "      <td>1028</td>\n",
       "      <td>3269</td>\n",
       "      <td>0</td>\n",
       "      <td>0</td>\n",
       "      <td>45</td>\n",
       "      <td>3</td>\n",
       "      <td>0</td>\n",
       "    </tr>\n",
       "    <tr>\n",
       "      <th>1</th>\n",
       "      <td>303138</td>\n",
       "      <td>emergency_funds</td>\n",
       "      <td>1346371200000</td>\n",
       "      <td>0.0</td>\n",
       "      <td>0</td>\n",
       "      <td>0.0</td>\n",
       "      <td>1.0</td>\n",
       "      <td>4300</td>\n",
       "      <td>1.02</td>\n",
       "      <td>886</td>\n",
       "      <td>1597</td>\n",
       "      <td>1</td>\n",
       "      <td>15000</td>\n",
       "      <td>59</td>\n",
       "      <td>2</td>\n",
       "      <td>0</td>\n",
       "    </tr>\n",
       "    <tr>\n",
       "      <th>2</th>\n",
       "      <td>484791</td>\n",
       "      <td>investment</td>\n",
       "      <td>1341878400000</td>\n",
       "      <td>NaN</td>\n",
       "      <td>1</td>\n",
       "      <td>NaN</td>\n",
       "      <td>NaN</td>\n",
       "      <td>5100</td>\n",
       "      <td>0.73</td>\n",
       "      <td>4923</td>\n",
       "      <td>9067</td>\n",
       "      <td>1</td>\n",
       "      <td>13600</td>\n",
       "      <td>33</td>\n",
       "      <td>2</td>\n",
       "      <td>1</td>\n",
       "    </tr>\n",
       "    <tr>\n",
       "      <th>3</th>\n",
       "      <td>751153</td>\n",
       "      <td>home</td>\n",
       "      <td>1355788800000</td>\n",
       "      <td>1.0</td>\n",
       "      <td>0</td>\n",
       "      <td>1.0</td>\n",
       "      <td>0.0</td>\n",
       "      <td>4600</td>\n",
       "      <td>0.85</td>\n",
       "      <td>1915</td>\n",
       "      <td>8509</td>\n",
       "      <td>1</td>\n",
       "      <td>79700</td>\n",
       "      <td>58</td>\n",
       "      <td>3</td>\n",
       "      <td>1</td>\n",
       "    </tr>\n",
       "    <tr>\n",
       "      <th>4</th>\n",
       "      <td>584158</td>\n",
       "      <td>investment</td>\n",
       "      <td>1328659200000</td>\n",
       "      <td>NaN</td>\n",
       "      <td>0</td>\n",
       "      <td>1.0</td>\n",
       "      <td>0.0</td>\n",
       "      <td>7500</td>\n",
       "      <td>0.62</td>\n",
       "      <td>861</td>\n",
       "      <td>3973</td>\n",
       "      <td>0</td>\n",
       "      <td>0</td>\n",
       "      <td>37</td>\n",
       "      <td>6</td>\n",
       "      <td>0</td>\n",
       "    </tr>\n",
       "    <tr>\n",
       "      <th>...</th>\n",
       "      <td>...</td>\n",
       "      <td>...</td>\n",
       "      <td>...</td>\n",
       "      <td>...</td>\n",
       "      <td>...</td>\n",
       "      <td>...</td>\n",
       "      <td>...</td>\n",
       "      <td>...</td>\n",
       "      <td>...</td>\n",
       "      <td>...</td>\n",
       "      <td>...</td>\n",
       "      <td>...</td>\n",
       "      <td>...</td>\n",
       "      <td>...</td>\n",
       "      <td>...</td>\n",
       "      <td>...</td>\n",
       "    </tr>\n",
       "    <tr>\n",
       "      <th>25271</th>\n",
       "      <td>382682</td>\n",
       "      <td>business</td>\n",
       "      <td>1347926400000</td>\n",
       "      <td>1.0</td>\n",
       "      <td>0</td>\n",
       "      <td>1.0</td>\n",
       "      <td>0.0</td>\n",
       "      <td>7000</td>\n",
       "      <td>0.43</td>\n",
       "      <td>1207</td>\n",
       "      <td>1882</td>\n",
       "      <td>1</td>\n",
       "      <td>44400</td>\n",
       "      <td>40</td>\n",
       "      <td>4</td>\n",
       "      <td>1</td>\n",
       "    </tr>\n",
       "    <tr>\n",
       "      <th>25272</th>\n",
       "      <td>316509</td>\n",
       "      <td>investment</td>\n",
       "      <td>1344988800000</td>\n",
       "      <td>1.0</td>\n",
       "      <td>1</td>\n",
       "      <td>NaN</td>\n",
       "      <td>NaN</td>\n",
       "      <td>2600</td>\n",
       "      <td>0.90</td>\n",
       "      <td>2241</td>\n",
       "      <td>2673</td>\n",
       "      <td>1</td>\n",
       "      <td>32100</td>\n",
       "      <td>55</td>\n",
       "      <td>4</td>\n",
       "      <td>1</td>\n",
       "    </tr>\n",
       "    <tr>\n",
       "      <th>25273</th>\n",
       "      <td>981107</td>\n",
       "      <td>home</td>\n",
       "      <td>1346976000000</td>\n",
       "      <td>1.0</td>\n",
       "      <td>0</td>\n",
       "      <td>1.0</td>\n",
       "      <td>0.0</td>\n",
       "      <td>6900</td>\n",
       "      <td>0.86</td>\n",
       "      <td>3943</td>\n",
       "      <td>9302</td>\n",
       "      <td>1</td>\n",
       "      <td>21800</td>\n",
       "      <td>48</td>\n",
       "      <td>8</td>\n",
       "      <td>1</td>\n",
       "    </tr>\n",
       "    <tr>\n",
       "      <th>25274</th>\n",
       "      <td>628418</td>\n",
       "      <td>home</td>\n",
       "      <td>1326844800000</td>\n",
       "      <td>NaN</td>\n",
       "      <td>1</td>\n",
       "      <td>NaN</td>\n",
       "      <td>NaN</td>\n",
       "      <td>0</td>\n",
       "      <td>NaN</td>\n",
       "      <td>1581</td>\n",
       "      <td>1454</td>\n",
       "      <td>1</td>\n",
       "      <td>21500</td>\n",
       "      <td>40</td>\n",
       "      <td>8</td>\n",
       "      <td>0</td>\n",
       "    </tr>\n",
       "    <tr>\n",
       "      <th>25275</th>\n",
       "      <td>259670</td>\n",
       "      <td>business</td>\n",
       "      <td>1352160000000</td>\n",
       "      <td>1.0</td>\n",
       "      <td>1</td>\n",
       "      <td>NaN</td>\n",
       "      <td>NaN</td>\n",
       "      <td>2900</td>\n",
       "      <td>0.55</td>\n",
       "      <td>980</td>\n",
       "      <td>5118</td>\n",
       "      <td>1</td>\n",
       "      <td>41000</td>\n",
       "      <td>47</td>\n",
       "      <td>3</td>\n",
       "      <td>1</td>\n",
       "    </tr>\n",
       "  </tbody>\n",
       "</table>\n",
       "<p>25276 rows × 16 columns</p>\n",
       "</div>"
      ],
      "text/plain": [
       "       loan_id     loan_purpose           date  loan_repaid  is_first_loan  \\\n",
       "0        77085            other  1346371200000          NaN              1   \n",
       "1       303138  emergency_funds  1346371200000          0.0              0   \n",
       "2       484791       investment  1341878400000          NaN              1   \n",
       "3       751153             home  1355788800000          1.0              0   \n",
       "4       584158       investment  1328659200000          NaN              0   \n",
       "...        ...              ...            ...          ...            ...   \n",
       "25271   382682         business  1347926400000          1.0              0   \n",
       "25272   316509       investment  1344988800000          1.0              1   \n",
       "25273   981107             home  1346976000000          1.0              0   \n",
       "25274   628418             home  1326844800000          NaN              1   \n",
       "25275   259670         business  1352160000000          1.0              1   \n",
       "\n",
       "       fully_repaid_previous_loans  currently_repaying_other_loans  \\\n",
       "0                              NaN                             NaN   \n",
       "1                              0.0                             1.0   \n",
       "2                              NaN                             NaN   \n",
       "3                              1.0                             0.0   \n",
       "4                              1.0                             0.0   \n",
       "...                            ...                             ...   \n",
       "25271                          1.0                             0.0   \n",
       "25272                          NaN                             NaN   \n",
       "25273                          1.0                             0.0   \n",
       "25274                          NaN                             NaN   \n",
       "25275                          NaN                             NaN   \n",
       "\n",
       "       total_credit_card_limit  \\\n",
       "0                         3000   \n",
       "1                         4300   \n",
       "2                         5100   \n",
       "3                         4600   \n",
       "4                         7500   \n",
       "...                        ...   \n",
       "25271                     7000   \n",
       "25272                     2600   \n",
       "25273                     6900   \n",
       "25274                        0   \n",
       "25275                     2900   \n",
       "\n",
       "       avg_percentage_credit_card_limit_used_last_year  saving_amount  \\\n",
       "0                                                 0.82           1028   \n",
       "1                                                 1.02            886   \n",
       "2                                                 0.73           4923   \n",
       "3                                                 0.85           1915   \n",
       "4                                                 0.62            861   \n",
       "...                                                ...            ...   \n",
       "25271                                             0.43           1207   \n",
       "25272                                             0.90           2241   \n",
       "25273                                             0.86           3943   \n",
       "25274                                              NaN           1581   \n",
       "25275                                             0.55            980   \n",
       "\n",
       "       checking_amount  is_employed  yearly_salary  age  dependent_number  \\\n",
       "0                 3269            0              0   45                 3   \n",
       "1                 1597            1          15000   59                 2   \n",
       "2                 9067            1          13600   33                 2   \n",
       "3                 8509            1          79700   58                 3   \n",
       "4                 3973            0              0   37                 6   \n",
       "...                ...          ...            ...  ...               ...   \n",
       "25271             1882            1          44400   40                 4   \n",
       "25272             2673            1          32100   55                 4   \n",
       "25273             9302            1          21800   48                 8   \n",
       "25274             1454            1          21500   40                 8   \n",
       "25275             5118            1          41000   47                 3   \n",
       "\n",
       "       loan_granted  \n",
       "0                 0  \n",
       "1                 0  \n",
       "2                 1  \n",
       "3                 1  \n",
       "4                 0  \n",
       "...             ...  \n",
       "25271             1  \n",
       "25272             1  \n",
       "25273             1  \n",
       "25274             0  \n",
       "25275             1  \n",
       "\n",
       "[25276 rows x 16 columns]"
      ]
     },
     "execution_count": 59,
     "metadata": {},
     "output_type": "execute_result"
    }
   ],
   "source": [
    "test_mine"
   ]
  },
  {
   "cell_type": "code",
   "execution_count": 61,
   "metadata": {},
   "outputs": [
    {
     "data": {
      "text/plain": [
       "4223"
      ]
     },
     "execution_count": 61,
     "metadata": {},
     "output_type": "execute_result"
    }
   ],
   "source": [
    "# The profitability of my model\n",
    "test_mine.loc[(test_mine['loan_granted']==1)&(test_mine['loan_repaid']==1)].shape[0]-test_mine.loc[(test_mine['loan_granted']==1)&(test_mine['loan_repaid']==0)].shape[0]"
   ]
  },
  {
   "cell_type": "markdown",
   "metadata": {},
   "source": [
    "As we can see from above number that 4223 is bigger than 3488, thus my initial model earns more and is already better than bank's model."
   ]
  },
  {
   "cell_type": "code",
   "execution_count": 62,
   "metadata": {},
   "outputs": [
    {
     "name": "stdout",
     "output_type": "stream",
     "text": [
      "H2O session _sid_9d9b closed.\n"
     ]
    }
   ],
   "source": [
    "# Shutdown h2o instance\n",
    "h2o.cluster().shutdown()"
   ]
  },
  {
   "cell_type": "markdown",
   "metadata": {},
   "source": [
    "## QUESTION 2"
   ]
  },
  {
   "cell_type": "markdown",
   "metadata": {},
   "source": [
    "Describe the impact of the most important variables on the prediction. Also, focus on the variable \"is_employed\", which describes whether the borrower is employed when she asks for the loan. How does this variable impact the model? Explain why"
   ]
  },
  {
   "cell_type": "markdown",
   "metadata": {},
   "source": [
    "As we can see from the plot below that, the most important variable is `yearly_salary`.\n",
    "\n",
    "The variable `is_employed` is the second important variable to the model which means it's very important."
   ]
  },
  {
   "cell_type": "code",
   "execution_count": 22,
   "metadata": {},
   "outputs": [
    {
     "data": {
      "image/png": "[encoded data removed]",
      "text/plain": [
       "<Figure size 720x576 with 1 Axes>"
      ]
     },
     "metadata": {
      "needs_background": "light"
     },
     "output_type": "display_data"
    }
   ],
   "source": [
    "fig, ax = plt.subplots(figsize=(10, 8))\n",
    "sns.barplot(x='scaled_importance', y='variable', data=importance)\n",
    "plt.show()"
   ]
  },
  {
   "cell_type": "code",
   "execution_count": 74,
   "metadata": {},
   "outputs": [
    {
     "data": {
      "text/plain": [
       "<AxesSubplot:xlabel='loan_granted', ylabel='yearly_salary'>"
      ]
     },
     "execution_count": 74,
     "metadata": {},
     "output_type": "execute_result"
    },
    {
     "data": {
      "image/png": "[encoded data removed]",
      "text/plain": [
       "<Figure size 864x504 with 2 Axes>"
      ]
     },
     "metadata": {
      "needs_background": "light"
     },
     "output_type": "display_data"
    }
   ],
   "source": [
    "## let's dig more\n",
    "## It's clear that tne bank grant loan much more to those have a high yearly-salary\n",
    "fig, ax = plt.subplots(nrows = 1, ncols = 2, figsize = (12,7))\n",
    "sns.boxplot(data = data, y = 'yearly_salary',ax = ax[0])\n",
    "sns.barplot(data = data, y = 'yearly_salary',x = 'loan_granted',ax = ax[1])"
   ]
  },
  {
   "cell_type": "markdown",
   "metadata": {},
   "source": [
    "## QUESTION 3"
   ]
  },
  {
   "cell_type": "markdown",
   "metadata": {},
   "source": [
    "Are there any other variables, not in the data provided, that you'd have liked to include in\n",
    "the model?"
   ]
  },
  {
   "cell_type": "markdown",
   "metadata": {},
   "source": [
    "The following variables could be added to the model:\n",
    "\n",
    "    Number of open accounts\n",
    "    Total available credit\n",
    "    Average (payment/amount due)\n",
    "    Maximum delinquency past 24 months\n",
    "    Ever bankrupt?\n",
    "    Age of oldest open account\n",
    "    Length of residence\n",
    "    Own/rent\n",
    "    Cash advances over past 12 months\n",
    "    Mortgage LTV…"
   ]
  },
  {
   "cell_type": "markdown",
   "metadata": {},
   "source": [
    "# Improved Framework"
   ]
  },
  {
   "cell_type": "markdown",
   "metadata": {},
   "source": [
    "## Feature engineering"
   ]
  },
  {
   "cell_type": "markdown",
   "metadata": {},
   "source": [
    "### Leave out the unnecessary features"
   ]
  },
  {
   "cell_type": "markdown",
   "metadata": {},
   "source": [
    "1. As we can see below that if the borrower is NOT employed, then their salary is 0, which do make sense. However, there're some borrowers whose salary is 0 but they are employed. Since the number of these borrowers is not so large so I decide to leave them. Meanwhile, since `is_employed` and `yearly_salary` nearly represent the same meaning since if someone is employed then his or her salary will be mostly greater than 0, otherwise his salary is 0. Therefore, we could remove one of these two variables, I choose to remove `is_employed`.\n",
    "\n",
    "2. We also have some missing values in `fully_repaid_previous_loans` and `currently_repaying_other_loans`, which represent situations that borrowers take this as the first loan. Thus I will replace NAN with '-1' which represents the first loan."
   ]
  },
  {
   "cell_type": "code",
   "execution_count": 11,
   "metadata": {},
   "outputs": [
    {
     "data": {
      "text/plain": [
       "0    4297\n",
       "Name: yearly_salary, dtype: int64"
      ]
     },
     "execution_count": 11,
     "metadata": {},
     "output_type": "execute_result"
    }
   ],
   "source": [
    "data.loc[data['is_employed']==0,'yearly_salary'].value_counts()"
   ]
  },
  {
   "cell_type": "code",
   "execution_count": 12,
   "metadata": {},
   "outputs": [
    {
     "data": {
      "text/html": [
       "<div>\n",
       "<style scoped>\n",
       "    .dataframe tbody tr th:only-of-type {\n",
       "        vertical-align: middle;\n",
       "    }\n",
       "\n",
       "    .dataframe tbody tr th {\n",
       "        vertical-align: top;\n",
       "    }\n",
       "\n",
       "    .dataframe thead th {\n",
       "        text-align: right;\n",
       "    }\n",
       "</style>\n",
       "<table border=\"1\" class=\"dataframe\">\n",
       "  <thead>\n",
       "    <tr style=\"text-align: right;\">\n",
       "      <th></th>\n",
       "      <th>loan_id</th>\n",
       "      <th>loan_purpose</th>\n",
       "      <th>date</th>\n",
       "      <th>loan_granted</th>\n",
       "      <th>loan_repaid</th>\n",
       "      <th>is_first_loan</th>\n",
       "      <th>fully_repaid_previous_loans</th>\n",
       "      <th>currently_repaying_other_loans</th>\n",
       "      <th>total_credit_card_limit</th>\n",
       "      <th>avg_percentage_credit_card_limit_used_last_year</th>\n",
       "      <th>saving_amount</th>\n",
       "      <th>checking_amount</th>\n",
       "      <th>is_employed</th>\n",
       "      <th>yearly_salary</th>\n",
       "      <th>age</th>\n",
       "      <th>dependent_number</th>\n",
       "    </tr>\n",
       "  </thead>\n",
       "  <tbody>\n",
       "    <tr>\n",
       "      <th>12230</th>\n",
       "      <td>830900</td>\n",
       "      <td>other</td>\n",
       "      <td>2012-05-03</td>\n",
       "      <td>1</td>\n",
       "      <td>1.0</td>\n",
       "      <td>0</td>\n",
       "      <td>1.0</td>\n",
       "      <td>0.0</td>\n",
       "      <td>6500</td>\n",
       "      <td>0.73</td>\n",
       "      <td>2902</td>\n",
       "      <td>3646</td>\n",
       "      <td>1</td>\n",
       "      <td>0</td>\n",
       "      <td>49</td>\n",
       "      <td>1</td>\n",
       "    </tr>\n",
       "    <tr>\n",
       "      <th>14402</th>\n",
       "      <td>155108</td>\n",
       "      <td>investment</td>\n",
       "      <td>2012-10-02</td>\n",
       "      <td>1</td>\n",
       "      <td>1.0</td>\n",
       "      <td>1</td>\n",
       "      <td>NaN</td>\n",
       "      <td>NaN</td>\n",
       "      <td>4800</td>\n",
       "      <td>0.69</td>\n",
       "      <td>3062</td>\n",
       "      <td>2220</td>\n",
       "      <td>1</td>\n",
       "      <td>0</td>\n",
       "      <td>31</td>\n",
       "      <td>1</td>\n",
       "    </tr>\n",
       "    <tr>\n",
       "      <th>19273</th>\n",
       "      <td>705528</td>\n",
       "      <td>business</td>\n",
       "      <td>2012-02-21</td>\n",
       "      <td>1</td>\n",
       "      <td>1.0</td>\n",
       "      <td>1</td>\n",
       "      <td>NaN</td>\n",
       "      <td>NaN</td>\n",
       "      <td>4100</td>\n",
       "      <td>0.58</td>\n",
       "      <td>2603</td>\n",
       "      <td>6074</td>\n",
       "      <td>1</td>\n",
       "      <td>0</td>\n",
       "      <td>33</td>\n",
       "      <td>0</td>\n",
       "    </tr>\n",
       "    <tr>\n",
       "      <th>24062</th>\n",
       "      <td>793669</td>\n",
       "      <td>investment</td>\n",
       "      <td>2012-01-12</td>\n",
       "      <td>1</td>\n",
       "      <td>1.0</td>\n",
       "      <td>1</td>\n",
       "      <td>NaN</td>\n",
       "      <td>NaN</td>\n",
       "      <td>9400</td>\n",
       "      <td>0.77</td>\n",
       "      <td>1552</td>\n",
       "      <td>5119</td>\n",
       "      <td>1</td>\n",
       "      <td>0</td>\n",
       "      <td>68</td>\n",
       "      <td>5</td>\n",
       "    </tr>\n",
       "    <tr>\n",
       "      <th>32193</th>\n",
       "      <td>657937</td>\n",
       "      <td>investment</td>\n",
       "      <td>2012-09-21</td>\n",
       "      <td>1</td>\n",
       "      <td>1.0</td>\n",
       "      <td>1</td>\n",
       "      <td>NaN</td>\n",
       "      <td>NaN</td>\n",
       "      <td>6500</td>\n",
       "      <td>0.43</td>\n",
       "      <td>271</td>\n",
       "      <td>4007</td>\n",
       "      <td>1</td>\n",
       "      <td>0</td>\n",
       "      <td>49</td>\n",
       "      <td>1</td>\n",
       "    </tr>\n",
       "    <tr>\n",
       "      <th>73726</th>\n",
       "      <td>828379</td>\n",
       "      <td>other</td>\n",
       "      <td>2012-04-25</td>\n",
       "      <td>1</td>\n",
       "      <td>1.0</td>\n",
       "      <td>1</td>\n",
       "      <td>NaN</td>\n",
       "      <td>NaN</td>\n",
       "      <td>1900</td>\n",
       "      <td>0.79</td>\n",
       "      <td>2753</td>\n",
       "      <td>2916</td>\n",
       "      <td>1</td>\n",
       "      <td>0</td>\n",
       "      <td>52</td>\n",
       "      <td>2</td>\n",
       "    </tr>\n",
       "    <tr>\n",
       "      <th>79012</th>\n",
       "      <td>139144</td>\n",
       "      <td>other</td>\n",
       "      <td>2012-10-17</td>\n",
       "      <td>1</td>\n",
       "      <td>0.0</td>\n",
       "      <td>1</td>\n",
       "      <td>NaN</td>\n",
       "      <td>NaN</td>\n",
       "      <td>2200</td>\n",
       "      <td>0.70</td>\n",
       "      <td>1807</td>\n",
       "      <td>2976</td>\n",
       "      <td>1</td>\n",
       "      <td>0</td>\n",
       "      <td>20</td>\n",
       "      <td>2</td>\n",
       "    </tr>\n",
       "    <tr>\n",
       "      <th>80039</th>\n",
       "      <td>632587</td>\n",
       "      <td>other</td>\n",
       "      <td>2012-06-19</td>\n",
       "      <td>1</td>\n",
       "      <td>0.0</td>\n",
       "      <td>1</td>\n",
       "      <td>NaN</td>\n",
       "      <td>NaN</td>\n",
       "      <td>4300</td>\n",
       "      <td>0.77</td>\n",
       "      <td>1345</td>\n",
       "      <td>2056</td>\n",
       "      <td>1</td>\n",
       "      <td>0</td>\n",
       "      <td>28</td>\n",
       "      <td>3</td>\n",
       "    </tr>\n",
       "    <tr>\n",
       "      <th>94163</th>\n",
       "      <td>416825</td>\n",
       "      <td>business</td>\n",
       "      <td>2012-01-11</td>\n",
       "      <td>1</td>\n",
       "      <td>1.0</td>\n",
       "      <td>0</td>\n",
       "      <td>1.0</td>\n",
       "      <td>0.0</td>\n",
       "      <td>5400</td>\n",
       "      <td>0.71</td>\n",
       "      <td>357</td>\n",
       "      <td>1737</td>\n",
       "      <td>1</td>\n",
       "      <td>0</td>\n",
       "      <td>69</td>\n",
       "      <td>1</td>\n",
       "    </tr>\n",
       "  </tbody>\n",
       "</table>\n",
       "</div>"
      ],
      "text/plain": [
       "       loan_id loan_purpose       date  loan_granted  loan_repaid  \\\n",
       "12230   830900        other 2012-05-03             1          1.0   \n",
       "14402   155108   investment 2012-10-02             1          1.0   \n",
       "19273   705528     business 2012-02-21             1          1.0   \n",
       "24062   793669   investment 2012-01-12             1          1.0   \n",
       "32193   657937   investment 2012-09-21             1          1.0   \n",
       "73726   828379        other 2012-04-25             1          1.0   \n",
       "79012   139144        other 2012-10-17             1          0.0   \n",
       "80039   632587        other 2012-06-19             1          0.0   \n",
       "94163   416825     business 2012-01-11             1          1.0   \n",
       "\n",
       "       is_first_loan  fully_repaid_previous_loans  \\\n",
       "12230              0                          1.0   \n",
       "14402              1                          NaN   \n",
       "19273              1                          NaN   \n",
       "24062              1                          NaN   \n",
       "32193              1                          NaN   \n",
       "73726              1                          NaN   \n",
       "79012              1                          NaN   \n",
       "80039              1                          NaN   \n",
       "94163              0                          1.0   \n",
       "\n",
       "       currently_repaying_other_loans  total_credit_card_limit  \\\n",
       "12230                             0.0                     6500   \n",
       "14402                             NaN                     4800   \n",
       "19273                             NaN                     4100   \n",
       "24062                             NaN                     9400   \n",
       "32193                             NaN                     6500   \n",
       "73726                             NaN                     1900   \n",
       "79012                             NaN                     2200   \n",
       "80039                             NaN                     4300   \n",
       "94163                             0.0                     5400   \n",
       "\n",
       "       avg_percentage_credit_card_limit_used_last_year  saving_amount  \\\n",
       "12230                                             0.73           2902   \n",
       "14402                                             0.69           3062   \n",
       "19273                                             0.58           2603   \n",
       "24062                                             0.77           1552   \n",
       "32193                                             0.43            271   \n",
       "73726                                             0.79           2753   \n",
       "79012                                             0.70           1807   \n",
       "80039                                             0.77           1345   \n",
       "94163                                             0.71            357   \n",
       "\n",
       "       checking_amount  is_employed  yearly_salary  age  dependent_number  \n",
       "12230             3646            1              0   49                 1  \n",
       "14402             2220            1              0   31                 1  \n",
       "19273             6074            1              0   33                 0  \n",
       "24062             5119            1              0   68                 5  \n",
       "32193             4007            1              0   49                 1  \n",
       "73726             2916            1              0   52                 2  \n",
       "79012             2976            1              0   20                 2  \n",
       "80039             2056            1              0   28                 3  \n",
       "94163             1737            1              0   69                 1  "
      ]
     },
     "execution_count": 12,
     "metadata": {},
     "output_type": "execute_result"
    }
   ],
   "source": [
    "data.loc[(data['is_employed']==1)&(data['yearly_salary']==0)]"
   ]
  },
  {
   "cell_type": "code",
   "execution_count": 13,
   "metadata": {},
   "outputs": [
    {
     "data": {
      "text/html": [
       "<div>\n",
       "<style scoped>\n",
       "    .dataframe tbody tr th:only-of-type {\n",
       "        vertical-align: middle;\n",
       "    }\n",
       "\n",
       "    .dataframe tbody tr th {\n",
       "        vertical-align: top;\n",
       "    }\n",
       "\n",
       "    .dataframe thead th {\n",
       "        text-align: right;\n",
       "    }\n",
       "</style>\n",
       "<table border=\"1\" class=\"dataframe\">\n",
       "  <thead>\n",
       "    <tr style=\"text-align: right;\">\n",
       "      <th></th>\n",
       "      <th>loan_id</th>\n",
       "      <th>loan_purpose</th>\n",
       "      <th>date</th>\n",
       "      <th>loan_granted</th>\n",
       "      <th>loan_repaid</th>\n",
       "      <th>is_first_loan</th>\n",
       "      <th>fully_repaid_previous_loans</th>\n",
       "      <th>currently_repaying_other_loans</th>\n",
       "      <th>total_credit_card_limit</th>\n",
       "      <th>avg_percentage_credit_card_limit_used_last_year</th>\n",
       "      <th>saving_amount</th>\n",
       "      <th>checking_amount</th>\n",
       "      <th>yearly_salary</th>\n",
       "      <th>age</th>\n",
       "      <th>dependent_number</th>\n",
       "    </tr>\n",
       "  </thead>\n",
       "  <tbody>\n",
       "    <tr>\n",
       "      <th>3</th>\n",
       "      <td>580653</td>\n",
       "      <td>other</td>\n",
       "      <td>2012-06-27</td>\n",
       "      <td>1</td>\n",
       "      <td>1.0</td>\n",
       "      <td>0</td>\n",
       "      <td>1.0</td>\n",
       "      <td>0.0</td>\n",
       "      <td>5400</td>\n",
       "      <td>0.52</td>\n",
       "      <td>3345</td>\n",
       "      <td>2764</td>\n",
       "      <td>15800</td>\n",
       "      <td>58</td>\n",
       "      <td>4</td>\n",
       "    </tr>\n",
       "    <tr>\n",
       "      <th>4</th>\n",
       "      <td>172419</td>\n",
       "      <td>business</td>\n",
       "      <td>2012-05-21</td>\n",
       "      <td>1</td>\n",
       "      <td>0.0</td>\n",
       "      <td>1</td>\n",
       "      <td>NaN</td>\n",
       "      <td>NaN</td>\n",
       "      <td>2900</td>\n",
       "      <td>0.76</td>\n",
       "      <td>1050</td>\n",
       "      <td>3695</td>\n",
       "      <td>34800</td>\n",
       "      <td>31</td>\n",
       "      <td>4</td>\n",
       "    </tr>\n",
       "    <tr>\n",
       "      <th>6</th>\n",
       "      <td>780070</td>\n",
       "      <td>business</td>\n",
       "      <td>2012-03-14</td>\n",
       "      <td>1</td>\n",
       "      <td>1.0</td>\n",
       "      <td>0</td>\n",
       "      <td>1.0</td>\n",
       "      <td>0.0</td>\n",
       "      <td>7800</td>\n",
       "      <td>0.30</td>\n",
       "      <td>4206</td>\n",
       "      <td>4368</td>\n",
       "      <td>51100</td>\n",
       "      <td>51</td>\n",
       "      <td>2</td>\n",
       "    </tr>\n",
       "  </tbody>\n",
       "</table>\n",
       "</div>"
      ],
      "text/plain": [
       "   loan_id loan_purpose       date  loan_granted  loan_repaid  is_first_loan  \\\n",
       "3   580653        other 2012-06-27             1          1.0              0   \n",
       "4   172419     business 2012-05-21             1          0.0              1   \n",
       "6   780070     business 2012-03-14             1          1.0              0   \n",
       "\n",
       "   fully_repaid_previous_loans  currently_repaying_other_loans  \\\n",
       "3                          1.0                             0.0   \n",
       "4                          NaN                             NaN   \n",
       "6                          1.0                             0.0   \n",
       "\n",
       "   total_credit_card_limit  avg_percentage_credit_card_limit_used_last_year  \\\n",
       "3                     5400                                             0.52   \n",
       "4                     2900                                             0.76   \n",
       "6                     7800                                             0.30   \n",
       "\n",
       "   saving_amount  checking_amount  yearly_salary  age  dependent_number  \n",
       "3           3345             2764          15800   58                 4  \n",
       "4           1050             3695          34800   31                 4  \n",
       "6           4206             4368          51100   51                 2  "
      ]
     },
     "execution_count": 13,
     "metadata": {},
     "output_type": "execute_result"
    }
   ],
   "source": [
    "# remove column 'is_employed'\n",
    "data.drop(columns = 'is_employed', inplace = True)\n",
    "data.head(3)"
   ]
  },
  {
   "cell_type": "code",
   "execution_count": 14,
   "metadata": {},
   "outputs": [],
   "source": [
    "# replace nan in fully_repaid_previous_loans and currently_repaying_other_loans\n",
    "data = data.fillna({'fully_repaid_previous_loans':-1,'currently_repaying_other_loans':-1})\n",
    "\n",
    "# redundant after filling missing in 'fully_repaid_previous_loans' and 'currently_repaying_other_loans'\n",
    "del data['is_first_loan']"
   ]
  },
  {
   "cell_type": "code",
   "execution_count": 15,
   "metadata": {},
   "outputs": [],
   "source": [
    "# fill missing values with median\n",
    "median = data['avg_percentage_credit_card_limit_used_last_year'].median()\n",
    "data = data.fillna({'avg_percentage_credit_card_limit_used_last_year': median})"
   ]
  },
  {
   "cell_type": "markdown",
   "metadata": {},
   "source": [
    "Since we only care about whether or not borrowers will pay the loan after granting loan, I decide to remove `loan_granted` which is redundant with `loan_repaid`."
   ]
  },
  {
   "cell_type": "code",
   "execution_count": 16,
   "metadata": {},
   "outputs": [],
   "source": [
    "# drop useless features\n",
    "data.drop(columns=['loan_id', 'date', 'loan_granted'], inplace = True)"
   ]
  },
  {
   "cell_type": "code",
   "execution_count": 17,
   "metadata": {},
   "outputs": [
    {
     "data": {
      "text/html": [
       "<div>\n",
       "<style scoped>\n",
       "    .dataframe tbody tr th:only-of-type {\n",
       "        vertical-align: middle;\n",
       "    }\n",
       "\n",
       "    .dataframe tbody tr th {\n",
       "        vertical-align: top;\n",
       "    }\n",
       "\n",
       "    .dataframe thead th {\n",
       "        text-align: right;\n",
       "    }\n",
       "</style>\n",
       "<table border=\"1\" class=\"dataframe\">\n",
       "  <thead>\n",
       "    <tr style=\"text-align: right;\">\n",
       "      <th></th>\n",
       "      <th>loan_purpose</th>\n",
       "      <th>loan_repaid</th>\n",
       "      <th>fully_repaid_previous_loans</th>\n",
       "      <th>currently_repaying_other_loans</th>\n",
       "      <th>total_credit_card_limit</th>\n",
       "      <th>avg_percentage_credit_card_limit_used_last_year</th>\n",
       "      <th>saving_amount</th>\n",
       "      <th>checking_amount</th>\n",
       "      <th>yearly_salary</th>\n",
       "      <th>age</th>\n",
       "      <th>dependent_number</th>\n",
       "    </tr>\n",
       "  </thead>\n",
       "  <tbody>\n",
       "    <tr>\n",
       "      <th>3</th>\n",
       "      <td>other</td>\n",
       "      <td>1.0</td>\n",
       "      <td>1.0</td>\n",
       "      <td>0.0</td>\n",
       "      <td>5400</td>\n",
       "      <td>0.52</td>\n",
       "      <td>3345</td>\n",
       "      <td>2764</td>\n",
       "      <td>15800</td>\n",
       "      <td>58</td>\n",
       "      <td>4</td>\n",
       "    </tr>\n",
       "    <tr>\n",
       "      <th>4</th>\n",
       "      <td>business</td>\n",
       "      <td>0.0</td>\n",
       "      <td>-1.0</td>\n",
       "      <td>-1.0</td>\n",
       "      <td>2900</td>\n",
       "      <td>0.76</td>\n",
       "      <td>1050</td>\n",
       "      <td>3695</td>\n",
       "      <td>34800</td>\n",
       "      <td>31</td>\n",
       "      <td>4</td>\n",
       "    </tr>\n",
       "    <tr>\n",
       "      <th>6</th>\n",
       "      <td>business</td>\n",
       "      <td>1.0</td>\n",
       "      <td>1.0</td>\n",
       "      <td>0.0</td>\n",
       "      <td>7800</td>\n",
       "      <td>0.30</td>\n",
       "      <td>4206</td>\n",
       "      <td>4368</td>\n",
       "      <td>51100</td>\n",
       "      <td>51</td>\n",
       "      <td>2</td>\n",
       "    </tr>\n",
       "    <tr>\n",
       "      <th>7</th>\n",
       "      <td>emergency_funds</td>\n",
       "      <td>0.0</td>\n",
       "      <td>0.0</td>\n",
       "      <td>1.0</td>\n",
       "      <td>4300</td>\n",
       "      <td>1.02</td>\n",
       "      <td>886</td>\n",
       "      <td>1597</td>\n",
       "      <td>15000</td>\n",
       "      <td>59</td>\n",
       "      <td>2</td>\n",
       "    </tr>\n",
       "    <tr>\n",
       "      <th>8</th>\n",
       "      <td>investment</td>\n",
       "      <td>1.0</td>\n",
       "      <td>1.0</td>\n",
       "      <td>0.0</td>\n",
       "      <td>3900</td>\n",
       "      <td>0.65</td>\n",
       "      <td>1837</td>\n",
       "      <td>3795</td>\n",
       "      <td>12000</td>\n",
       "      <td>24</td>\n",
       "      <td>1</td>\n",
       "    </tr>\n",
       "    <tr>\n",
       "      <th>...</th>\n",
       "      <td>...</td>\n",
       "      <td>...</td>\n",
       "      <td>...</td>\n",
       "      <td>...</td>\n",
       "      <td>...</td>\n",
       "      <td>...</td>\n",
       "      <td>...</td>\n",
       "      <td>...</td>\n",
       "      <td>...</td>\n",
       "      <td>...</td>\n",
       "      <td>...</td>\n",
       "    </tr>\n",
       "    <tr>\n",
       "      <th>101094</th>\n",
       "      <td>business</td>\n",
       "      <td>0.0</td>\n",
       "      <td>1.0</td>\n",
       "      <td>1.0</td>\n",
       "      <td>2600</td>\n",
       "      <td>0.83</td>\n",
       "      <td>1019</td>\n",
       "      <td>537</td>\n",
       "      <td>37100</td>\n",
       "      <td>37</td>\n",
       "      <td>4</td>\n",
       "    </tr>\n",
       "    <tr>\n",
       "      <th>101095</th>\n",
       "      <td>emergency_funds</td>\n",
       "      <td>0.0</td>\n",
       "      <td>1.0</td>\n",
       "      <td>0.0</td>\n",
       "      <td>2400</td>\n",
       "      <td>0.40</td>\n",
       "      <td>553</td>\n",
       "      <td>2372</td>\n",
       "      <td>37000</td>\n",
       "      <td>56</td>\n",
       "      <td>3</td>\n",
       "    </tr>\n",
       "    <tr>\n",
       "      <th>101096</th>\n",
       "      <td>business</td>\n",
       "      <td>0.0</td>\n",
       "      <td>-1.0</td>\n",
       "      <td>-1.0</td>\n",
       "      <td>3100</td>\n",
       "      <td>0.68</td>\n",
       "      <td>367</td>\n",
       "      <td>1957</td>\n",
       "      <td>22700</td>\n",
       "      <td>59</td>\n",
       "      <td>5</td>\n",
       "    </tr>\n",
       "    <tr>\n",
       "      <th>101097</th>\n",
       "      <td>other</td>\n",
       "      <td>1.0</td>\n",
       "      <td>-1.0</td>\n",
       "      <td>-1.0</td>\n",
       "      <td>4600</td>\n",
       "      <td>0.50</td>\n",
       "      <td>1134</td>\n",
       "      <td>1621</td>\n",
       "      <td>35200</td>\n",
       "      <td>49</td>\n",
       "      <td>1</td>\n",
       "    </tr>\n",
       "    <tr>\n",
       "      <th>101098</th>\n",
       "      <td>business</td>\n",
       "      <td>1.0</td>\n",
       "      <td>1.0</td>\n",
       "      <td>0.0</td>\n",
       "      <td>6500</td>\n",
       "      <td>0.70</td>\n",
       "      <td>661</td>\n",
       "      <td>4333</td>\n",
       "      <td>19600</td>\n",
       "      <td>51</td>\n",
       "      <td>4</td>\n",
       "    </tr>\n",
       "  </tbody>\n",
       "</table>\n",
       "<p>47654 rows × 11 columns</p>\n",
       "</div>"
      ],
      "text/plain": [
       "           loan_purpose  loan_repaid  fully_repaid_previous_loans  \\\n",
       "3                 other          1.0                          1.0   \n",
       "4              business          0.0                         -1.0   \n",
       "6              business          1.0                          1.0   \n",
       "7       emergency_funds          0.0                          0.0   \n",
       "8            investment          1.0                          1.0   \n",
       "...                 ...          ...                          ...   \n",
       "101094         business          0.0                          1.0   \n",
       "101095  emergency_funds          0.0                          1.0   \n",
       "101096         business          0.0                         -1.0   \n",
       "101097            other          1.0                         -1.0   \n",
       "101098         business          1.0                          1.0   \n",
       "\n",
       "        currently_repaying_other_loans  total_credit_card_limit  \\\n",
       "3                                  0.0                     5400   \n",
       "4                                 -1.0                     2900   \n",
       "6                                  0.0                     7800   \n",
       "7                                  1.0                     4300   \n",
       "8                                  0.0                     3900   \n",
       "...                                ...                      ...   \n",
       "101094                             1.0                     2600   \n",
       "101095                             0.0                     2400   \n",
       "101096                            -1.0                     3100   \n",
       "101097                            -1.0                     4600   \n",
       "101098                             0.0                     6500   \n",
       "\n",
       "        avg_percentage_credit_card_limit_used_last_year  saving_amount  \\\n",
       "3                                                  0.52           3345   \n",
       "4                                                  0.76           1050   \n",
       "6                                                  0.30           4206   \n",
       "7                                                  1.02            886   \n",
       "8                                                  0.65           1837   \n",
       "...                                                 ...            ...   \n",
       "101094                                             0.83           1019   \n",
       "101095                                             0.40            553   \n",
       "101096                                             0.68            367   \n",
       "101097                                             0.50           1134   \n",
       "101098                                             0.70            661   \n",
       "\n",
       "        checking_amount  yearly_salary  age  dependent_number  \n",
       "3                  2764          15800   58                 4  \n",
       "4                  3695          34800   31                 4  \n",
       "6                  4368          51100   51                 2  \n",
       "7                  1597          15000   59                 2  \n",
       "8                  3795          12000   24                 1  \n",
       "...                 ...            ...  ...               ...  \n",
       "101094              537          37100   37                 4  \n",
       "101095             2372          37000   56                 3  \n",
       "101096             1957          22700   59                 5  \n",
       "101097             1621          35200   49                 1  \n",
       "101098             4333          19600   51                 4  \n",
       "\n",
       "[47654 rows x 11 columns]"
      ]
     },
     "execution_count": 17,
     "metadata": {},
     "output_type": "execute_result"
    }
   ],
   "source": [
    "data"
   ]
  },
  {
   "cell_type": "markdown",
   "metadata": {},
   "source": [
    "### feature correlation"
   ]
  },
  {
   "cell_type": "code",
   "execution_count": 18,
   "metadata": {},
   "outputs": [
    {
     "data": {
      "image/png": "[encoded data removed]",
      "text/plain": [
       "<Figure size 864x720 with 2 Axes>"
      ]
     },
     "metadata": {
      "needs_background": "light"
     },
     "output_type": "display_data"
    }
   ],
   "source": [
    "fig, ax = plt.subplots(figsize=(12, 10))\n",
    "sns.heatmap(data.corr(), ax=ax)\n",
    "plt.show()"
   ]
  },
  {
   "cell_type": "markdown",
   "metadata": {},
   "source": [
    "## Modelling"
   ]
  },
  {
   "cell_type": "markdown",
   "metadata": {},
   "source": [
    "### data preprocessing"
   ]
  },
  {
   "cell_type": "code",
   "execution_count": 24,
   "metadata": {},
   "outputs": [],
   "source": [
    "# encoding 'loan_purpose'\n",
    "encoder = LabelEncoder()\n",
    "data['loan_purpose'] = encoder.fit_transform(data['loan_purpose'])"
   ]
  },
  {
   "cell_type": "code",
   "execution_count": 27,
   "metadata": {},
   "outputs": [],
   "source": [
    "# define categorical features\n",
    "categorical_feature = ['loan_purpose',  'fully_repaid_previous_loans', \n",
    "                       'currently_repaying_other_loans']\n",
    "target = 'loan_repaid'\n",
    "\n",
    "data[categorical_feature] = data[categorical_feature].astype('category')\n",
    "data[target] = data[target].astype('category')"
   ]
  },
  {
   "cell_type": "code",
   "execution_count": 28,
   "metadata": {},
   "outputs": [
    {
     "name": "stdout",
     "output_type": "stream",
     "text": [
      "<class 'pandas.core.frame.DataFrame'>\n",
      "Int64Index: 47654 entries, 3 to 101098\n",
      "Data columns (total 11 columns):\n",
      " #   Column                                           Non-Null Count  Dtype   \n",
      "---  ------                                           --------------  -----   \n",
      " 0   loan_purpose                                     47654 non-null  category\n",
      " 1   loan_repaid                                      47654 non-null  category\n",
      " 2   fully_repaid_previous_loans                      47654 non-null  category\n",
      " 3   currently_repaying_other_loans                   47654 non-null  category\n",
      " 4   total_credit_card_limit                          47654 non-null  int64   \n",
      " 5   avg_percentage_credit_card_limit_used_last_year  47654 non-null  float64 \n",
      " 6   saving_amount                                    47654 non-null  int64   \n",
      " 7   checking_amount                                  47654 non-null  int64   \n",
      " 8   yearly_salary                                    47654 non-null  int64   \n",
      " 9   age                                              47654 non-null  int64   \n",
      " 10  dependent_number                                 47654 non-null  int64   \n",
      "dtypes: category(4), float64(1), int64(6)\n",
      "memory usage: 3.1 MB\n"
     ]
    }
   ],
   "source": [
    "data.info()"
   ]
  },
  {
   "cell_type": "code",
   "execution_count": 30,
   "metadata": {},
   "outputs": [
    {
     "data": {
      "text/plain": [
       "1.0    0.644353\n",
       "0.0    0.355647\n",
       "Name: loan_repaid, dtype: float64"
      ]
     },
     "execution_count": 30,
     "metadata": {},
     "output_type": "execute_result"
    }
   ],
   "source": [
    "# it's imbalanced so maybe we need to do under sampling or over sampling, here I used under sampling\n",
    "data.loan_repaid.value_counts(normalize=True)"
   ]
  },
  {
   "cell_type": "code",
   "execution_count": 107,
   "metadata": {},
   "outputs": [
    {
     "data": {
      "text/html": [
       "<div>\n",
       "<style scoped>\n",
       "    .dataframe tbody tr th:only-of-type {\n",
       "        vertical-align: middle;\n",
       "    }\n",
       "\n",
       "    .dataframe tbody tr th {\n",
       "        vertical-align: top;\n",
       "    }\n",
       "\n",
       "    .dataframe thead th {\n",
       "        text-align: right;\n",
       "    }\n",
       "</style>\n",
       "<table border=\"1\" class=\"dataframe\">\n",
       "  <thead>\n",
       "    <tr style=\"text-align: right;\">\n",
       "      <th></th>\n",
       "      <th>loan_purpose</th>\n",
       "      <th>loan_repaid</th>\n",
       "      <th>fully_repaid_previous_loans</th>\n",
       "      <th>currently_repaying_other_loans</th>\n",
       "      <th>total_credit_card_limit</th>\n",
       "      <th>avg_percentage_credit_card_limit_used_last_year</th>\n",
       "      <th>saving_amount</th>\n",
       "      <th>checking_amount</th>\n",
       "      <th>yearly_salary</th>\n",
       "      <th>age</th>\n",
       "      <th>dependent_number</th>\n",
       "    </tr>\n",
       "  </thead>\n",
       "  <tbody>\n",
       "    <tr>\n",
       "      <th>15851</th>\n",
       "      <td>0</td>\n",
       "      <td>1.0</td>\n",
       "      <td>-1.0</td>\n",
       "      <td>-1.0</td>\n",
       "      <td>7700</td>\n",
       "      <td>0.64</td>\n",
       "      <td>2587</td>\n",
       "      <td>3594</td>\n",
       "      <td>39300</td>\n",
       "      <td>36</td>\n",
       "      <td>0</td>\n",
       "    </tr>\n",
       "    <tr>\n",
       "      <th>97479</th>\n",
       "      <td>3</td>\n",
       "      <td>1.0</td>\n",
       "      <td>-1.0</td>\n",
       "      <td>-1.0</td>\n",
       "      <td>3500</td>\n",
       "      <td>0.73</td>\n",
       "      <td>1782</td>\n",
       "      <td>9200</td>\n",
       "      <td>15000</td>\n",
       "      <td>35</td>\n",
       "      <td>0</td>\n",
       "    </tr>\n",
       "    <tr>\n",
       "      <th>32386</th>\n",
       "      <td>0</td>\n",
       "      <td>1.0</td>\n",
       "      <td>1.0</td>\n",
       "      <td>0.0</td>\n",
       "      <td>6400</td>\n",
       "      <td>0.64</td>\n",
       "      <td>3204</td>\n",
       "      <td>3195</td>\n",
       "      <td>27800</td>\n",
       "      <td>53</td>\n",
       "      <td>1</td>\n",
       "    </tr>\n",
       "    <tr>\n",
       "      <th>25473</th>\n",
       "      <td>3</td>\n",
       "      <td>1.0</td>\n",
       "      <td>1.0</td>\n",
       "      <td>0.0</td>\n",
       "      <td>3700</td>\n",
       "      <td>0.78</td>\n",
       "      <td>3592</td>\n",
       "      <td>3567</td>\n",
       "      <td>24000</td>\n",
       "      <td>45</td>\n",
       "      <td>1</td>\n",
       "    </tr>\n",
       "    <tr>\n",
       "      <th>3097</th>\n",
       "      <td>1</td>\n",
       "      <td>1.0</td>\n",
       "      <td>1.0</td>\n",
       "      <td>0.0</td>\n",
       "      <td>3400</td>\n",
       "      <td>0.58</td>\n",
       "      <td>1494</td>\n",
       "      <td>3005</td>\n",
       "      <td>18000</td>\n",
       "      <td>29</td>\n",
       "      <td>4</td>\n",
       "    </tr>\n",
       "  </tbody>\n",
       "</table>\n",
       "</div>"
      ],
      "text/plain": [
       "      loan_purpose loan_repaid fully_repaid_previous_loans  \\\n",
       "15851            0         1.0                        -1.0   \n",
       "97479            3         1.0                        -1.0   \n",
       "32386            0         1.0                         1.0   \n",
       "25473            3         1.0                         1.0   \n",
       "3097             1         1.0                         1.0   \n",
       "\n",
       "      currently_repaying_other_loans  total_credit_card_limit  \\\n",
       "15851                           -1.0                     7700   \n",
       "97479                           -1.0                     3500   \n",
       "32386                            0.0                     6400   \n",
       "25473                            0.0                     3700   \n",
       "3097                             0.0                     3400   \n",
       "\n",
       "       avg_percentage_credit_card_limit_used_last_year  saving_amount  \\\n",
       "15851                                             0.64           2587   \n",
       "97479                                             0.73           1782   \n",
       "32386                                             0.64           3204   \n",
       "25473                                             0.78           3592   \n",
       "3097                                              0.58           1494   \n",
       "\n",
       "       checking_amount  yearly_salary  age  dependent_number  \n",
       "15851             3594          39300   36                 0  \n",
       "97479             9200          15000   35                 0  \n",
       "32386             3195          27800   53                 1  \n",
       "25473             3567          24000   45                 1  \n",
       "3097              3005          18000   29                 4  "
      ]
     },
     "execution_count": 107,
     "metadata": {},
     "output_type": "execute_result"
    }
   ],
   "source": [
    "# under sampling - generate sample of class 1 tyeps to match number of class 1 types\n",
    "count1,count0 = data.loan_repaid.value_counts()\n",
    "repaid = data[data.loan_repaid==1]\n",
    "non_repaid = data[data.loan_repaid==0]\n",
    "under1 = repaid.sample(count0)\n",
    "model_dta = pd.concat([under1,non_repaid],axis = 0)\n",
    "model_dta.head()"
   ]
  },
  {
   "cell_type": "code",
   "execution_count": 108,
   "metadata": {},
   "outputs": [
    {
     "data": {
      "text/plain": [
       "(33896, 11)"
      ]
     },
     "execution_count": 108,
     "metadata": {},
     "output_type": "execute_result"
    }
   ],
   "source": [
    "model_dta.shape"
   ]
  },
  {
   "cell_type": "code",
   "execution_count": 109,
   "metadata": {},
   "outputs": [
    {
     "data": {
      "text/plain": [
       "1.0    16948\n",
       "0.0    16948\n",
       "Name: loan_repaid, dtype: int64"
      ]
     },
     "execution_count": 109,
     "metadata": {},
     "output_type": "execute_result"
    }
   ],
   "source": [
    "model_dta.loan_repaid.value_counts()"
   ]
  },
  {
   "cell_type": "markdown",
   "metadata": {},
   "source": [
    "### train the decision tree model and get the performance evaluation"
   ]
  },
  {
   "cell_type": "code",
   "execution_count": 111,
   "metadata": {},
   "outputs": [],
   "source": [
    "X = model_dta.drop(columns = 'loan_repaid')\n",
    "y = model_dta['loan_repaid']\n",
    "\n",
    "X_train,X_test,y_train,y_test = train_test_split(X,y,test_size = 0.25,random_state = 1024, stratify = y)"
   ]
  },
  {
   "cell_type": "code",
   "execution_count": 112,
   "metadata": {},
   "outputs": [],
   "source": [
    "# initial model\n",
    "dtree = DecisionTreeClassifier(max_depth = 4, random_state = 1024)\n",
    "dtree.fit(X_train,y_train)\n",
    "yhat = dtree.predict(X_test)"
   ]
  },
  {
   "cell_type": "code",
   "execution_count": 114,
   "metadata": {},
   "outputs": [
    {
     "name": "stdout",
     "output_type": "stream",
     "text": [
      "----------Accuracy----------\n",
      "0.89\n",
      "----------Performance-------\n",
      "              precision    recall  f1-score   support\n",
      "\n",
      "         0.0       0.84      0.97      0.90      4237\n",
      "         1.0       0.96      0.82      0.89      4237\n",
      "\n",
      "    accuracy                           0.89      8474\n",
      "   macro avg       0.90      0.89      0.89      8474\n",
      "weighted avg       0.90      0.89      0.89      8474\n",
      "\n"
     ]
    }
   ],
   "source": [
    "score = dtree.score(X_test,y_test)\n",
    "print('----------Accuracy----------')\n",
    "print(round(score,2))\n",
    "print('----------Performance-------')\n",
    "print(classification_report(y_test,yhat))"
   ]
  },
  {
   "cell_type": "code",
   "execution_count": 118,
   "metadata": {},
   "outputs": [
    {
     "name": "stdout",
     "output_type": "stream",
     "text": [
      "[[4111  126]\n",
      " [ 764 3473]]\n"
     ]
    },
    {
     "data": {
      "text/plain": [
       "<AxesSubplot:>"
      ]
     },
     "execution_count": 118,
     "metadata": {},
     "output_type": "execute_result"
    },
    {
     "data": {
      "image/png": "[encoded data removed]",
      "text/plain": [
       "<Figure size 432x288 with 2 Axes>"
      ]
     },
     "metadata": {
      "needs_background": "light"
     },
     "output_type": "display_data"
    }
   ],
   "source": [
    "cf_matrix = confusion_matrix(y_test,yhat)\n",
    "print(cf_matrix)\n",
    "sns.heatmap(cf_matrix/np.sum(cf_matrix,axis = 1),annot=True,fmt='.2%')"
   ]
  },
  {
   "cell_type": "code",
   "execution_count": 119,
   "metadata": {},
   "outputs": [
    {
     "data": {
      "text/plain": [
       "0.8949728581543546"
      ]
     },
     "execution_count": 119,
     "metadata": {},
     "output_type": "execute_result"
    }
   ],
   "source": [
    "# We will use AUC (Area Under Curve) as the evaluation metric. \n",
    "# Our target value is binary so it’s a binary classification problem.\n",
    "# AUC is a good way for evaluation for this type of problems.\n",
    "false_positive_rate, true_positive_rate, thresholds = roc_curve(y_test, yhat)\n",
    "roc_auc = auc(false_positive_rate, true_positive_rate)\n",
    "roc_auc"
   ]
  },
  {
   "cell_type": "markdown",
   "metadata": {},
   "source": [
    "### choose the best parameter "
   ]
  },
  {
   "cell_type": "markdown",
   "metadata": {},
   "source": [
    "1. `max_depth` : 6"
   ]
  },
  {
   "cell_type": "code",
   "execution_count": 130,
   "metadata": {},
   "outputs": [
    {
     "name": "stdout",
     "output_type": "stream",
     "text": [
      "max_depth_train: 32.0\n",
      "max_depth_test: 6.0\n"
     ]
    },
    {
     "data": {
      "image/png": "[encoded data removed]",
      "text/plain": [
       "<Figure size 432x288 with 1 Axes>"
      ]
     },
     "metadata": {
      "needs_background": "light"
     },
     "output_type": "display_data"
    }
   ],
   "source": [
    "max_depths = np.linspace(1, 32, 32, endpoint=True)\n",
    "train_results = []\n",
    "test_results = []\n",
    "\n",
    "for max_depth in max_depths:\n",
    "    dt = DecisionTreeClassifier(max_depth=max_depth, random_state = 1024)\n",
    "    dt.fit(X_train, y_train)\n",
    "    train_pred = dt.predict(X_train)\n",
    "    false_positive_rate, true_positive_rate, thresholds = roc_curve(y_train, train_pred)\n",
    "    roc_auc = auc(false_positive_rate, true_positive_rate)\n",
    "    # Add auc score to previous train results\n",
    "    train_results.append(roc_auc)\n",
    "    if roc_auc>=max(train_results):\n",
    "        train_max_d = max_depth\n",
    "    y_pred = dt.predict(X_test)\n",
    "    false_positive_rate, true_positive_rate, thresholds = roc_curve(y_test, y_pred)\n",
    "    roc_auc = auc(false_positive_rate, true_positive_rate)\n",
    "    # Add auc score to previous test results\n",
    "    test_results.append(roc_auc)\n",
    "    if roc_auc>=max(test_results):\n",
    "        test_max_d = max_depth\n",
    "print('max_depth_train:',train_max_d)\n",
    "print('max_depth_test:',test_max_d)\n",
    "\n",
    "line1, = plt.plot(max_depths, train_results, 'b', label='Train AUC')\n",
    "line2, = plt.plot(max_depths, test_results, 'r', label='Test AUC')\n",
    "plt.legend(handler_map={line1: HandlerLine2D(numpoints=2)})\n",
    "plt.ylabel('AUC score')\n",
    "plt.xlabel('Tree depth')\n",
    "plt.show()"
   ]
  },
  {
   "cell_type": "markdown",
   "metadata": {},
   "source": [
    "2. `min_samples_split`\n",
    "\n",
    "It shows that `min_samples_split`<=0.5"
   ]
  },
  {
   "cell_type": "code",
   "execution_count": 133,
   "metadata": {},
   "outputs": [
    {
     "name": "stdout",
     "output_type": "stream",
     "text": [
      "min_samples_split_train: 0.5\n",
      "min_samples_split_test: 0.5\n"
     ]
    },
    {
     "data": {
      "image/png": "[encoded data removed]",
      "text/plain": [
       "<Figure size 432x288 with 1 Axes>"
      ]
     },
     "metadata": {
      "needs_background": "light"
     },
     "output_type": "display_data"
    }
   ],
   "source": [
    "min_samples_splits = np.linspace(0.1, 1.0, 10, endpoint=True)\n",
    "train_results = []\n",
    "test_results = []\n",
    "for min_samples_split in min_samples_splits:\n",
    "    dt = DecisionTreeClassifier(min_samples_split=min_samples_split)\n",
    "    dt.fit(X_train, y_train)\n",
    "    train_pred = dt.predict(X_train)\n",
    "    false_positive_rate, true_positive_rate, thresholds = roc_curve(y_train, train_pred)\n",
    "    roc_auc = auc(false_positive_rate, true_positive_rate)\n",
    "    train_results.append(roc_auc)\n",
    "    if roc_auc>=max(train_results):\n",
    "        train_max_d = min_samples_split\n",
    "    y_pred = dt.predict(X_test)\n",
    "    false_positive_rate, true_positive_rate, thresholds = roc_curve(y_test, y_pred)\n",
    "    roc_auc = auc(false_positive_rate, true_positive_rate)\n",
    "    test_results.append(roc_auc)\n",
    "    if roc_auc>=max(test_results):\n",
    "        test_max_d = min_samples_split\n",
    "\n",
    "print('min_samples_split_train:',train_max_d)\n",
    "print('min_samples_split_test:',test_max_d)\n",
    "line1,= plt.plot(min_samples_splits, train_results, 'b', label='Train AUC')\n",
    "line2,= plt.plot(min_samples_splits, test_results, 'r', label='Test AUC')\n",
    "\n",
    "plt.legend(handler_map={line1: HandlerLine2D(numpoints=2)})\n",
    "plt.ylabel('AUC score')\n",
    "plt.xlabel('min samples split')\n",
    "plt.show()"
   ]
  },
  {
   "cell_type": "markdown",
   "metadata": {},
   "source": [
    "3. `min_samples_leaf`: 0.1"
   ]
  },
  {
   "cell_type": "code",
   "execution_count": 134,
   "metadata": {},
   "outputs": [
    {
     "data": {
      "image/png": "[encoded data removed]",
      "text/plain": [
       "<Figure size 432x288 with 1 Axes>"
      ]
     },
     "metadata": {
      "needs_background": "light"
     },
     "output_type": "display_data"
    }
   ],
   "source": [
    "min_samples_leafs = np.linspace(0.1, 0.5, 5, endpoint=True)\n",
    "train_results = []\n",
    "test_results = []\n",
    "for min_samples_leaf in min_samples_leafs:\n",
    "    dt = DecisionTreeClassifier(min_samples_leaf=min_samples_leaf)\n",
    "    dt.fit(X_train, y_train)\n",
    "    train_pred = dt.predict(X_train)\n",
    "    false_positive_rate, true_positive_rate, thresholds = roc_curve(y_train, train_pred)\n",
    "    roc_auc = auc(false_positive_rate, true_positive_rate)\n",
    "    train_results.append(roc_auc)\n",
    "    y_pred = dt.predict(X_test)\n",
    "    false_positive_rate, true_positive_rate, thresholds = roc_curve(y_test, y_pred)\n",
    "    roc_auc = auc(false_positive_rate, true_positive_rate)\n",
    "    test_results.append(roc_auc)\n",
    "from matplotlib.legend_handler import HandlerLine2D\n",
    "line1, = plt.plot(min_samples_leafs,train_results, 'b', label='Train AUC')\n",
    "line2, = plt.plot(min_samples_leafs,test_results, 'r', label='Test AUC')\n",
    "plt.legend(handler_map={line1: HandlerLine2D(numpoints=2)})\n",
    "plt.ylabel('AUC score')\n",
    "plt.xlabel('min samples leaf')\n",
    "plt.show()"
   ]
  },
  {
   "cell_type": "markdown",
   "metadata": {},
   "source": [
    "4. `max_features`"
   ]
  },
  {
   "cell_type": "code",
   "execution_count": 135,
   "metadata": {},
   "outputs": [
    {
     "data": {
      "image/png": "[encoded data removed]",
      "text/plain": [
       "<Figure size 432x288 with 1 Axes>"
      ]
     },
     "metadata": {
      "needs_background": "light"
     },
     "output_type": "display_data"
    }
   ],
   "source": [
    "max_features = list(range(1,data.shape[1]))\n",
    "train_results = []\n",
    "test_results = []\n",
    "for max_feature in max_features:\n",
    "    dt = DecisionTreeClassifier(max_features=max_feature)\n",
    "    dt.fit(X_train, y_train)\n",
    "    train_pred = dt.predict(X_train)\n",
    "    false_positive_rate, true_positive_rate, thresholds = roc_curve(y_train, train_pred)\n",
    "    roc_auc = auc(false_positive_rate, true_positive_rate)\n",
    "    train_results.append(roc_auc)\n",
    "    y_pred = dt.predict(X_test)\n",
    "    false_positive_rate, true_positive_rate, thresholds = roc_curve(y_test, y_pred)\n",
    "    roc_auc = auc(false_positive_rate, true_positive_rate)\n",
    "    test_results.append(roc_auc)\n",
    "    \n",
    "from matplotlib.legend_handler import HandlerLine2D\n",
    "\n",
    "line1, = plt.plot(max_features, train_results, 'b', label='Train AUC')\n",
    "line2, = plt.plot(max_features, test_results, 'r', label='Test AUC')\n",
    "plt.legend(handler_map={line1: HandlerLine2D(numpoints=2)})\n",
    "plt.ylabel('AUC score')\n",
    "plt.xlabel('max features')\n",
    "plt.show()"
   ]
  },
  {
   "cell_type": "markdown",
   "metadata": {},
   "source": [
    "### retrain the model according to the best parameters"
   ]
  },
  {
   "cell_type": "markdown",
   "metadata": {},
   "source": [
    "Auc raised from 0.895 to 0.907 "
   ]
  },
  {
   "cell_type": "code",
   "execution_count": 200,
   "metadata": {},
   "outputs": [
    {
     "name": "stdout",
     "output_type": "stream",
     "text": [
      "----------Accuracy----------\n",
      "0.91\n",
      "----------Performance-------\n",
      "              precision    recall  f1-score   support\n",
      "\n",
      "         0.0       0.87      0.96      0.91      4237\n",
      "         1.0       0.95      0.86      0.90      4237\n",
      "\n",
      "    accuracy                           0.91      8474\n",
      "   macro avg       0.91      0.91      0.91      8474\n",
      "weighted avg       0.91      0.91      0.91      8474\n",
      "\n",
      "[[4047  190]\n",
      " [ 594 3643]]\n"
     ]
    },
    {
     "data": {
      "text/plain": [
       "<AxesSubplot:>"
      ]
     },
     "execution_count": 200,
     "metadata": {},
     "output_type": "execute_result"
    },
    {
     "data": {
      "image/png": "[encoded data removed]",
      "text/plain": [
       "<Figure size 432x288 with 2 Axes>"
      ]
     },
     "metadata": {
      "needs_background": "light"
     },
     "output_type": "display_data"
    }
   ],
   "source": [
    "dtree = DecisionTreeClassifier(max_depth = 6, max_features = 10, random_state = 1024)\n",
    "dtree.fit(X_train,y_train)\n",
    "yhat = dtree.predict(X_test)\n",
    "\n",
    "score = dtree.score(X_test,y_test)\n",
    "print('----------Accuracy----------')\n",
    "print(round(score,2))\n",
    "print('----------Performance-------')\n",
    "print(classification_report(y_test,yhat))\n",
    "\n",
    "cf_matrix = confusion_matrix(y_test,yhat)\n",
    "print(cf_matrix)\n",
    "sns.heatmap(cf_matrix/np.sum(cf_matrix,axis = 1),annot=True,fmt='.2%')"
   ]
  },
  {
   "cell_type": "code",
   "execution_count": 146,
   "metadata": {},
   "outputs": [
    {
     "data": {
      "text/plain": [
       "0.9074817087561955"
      ]
     },
     "execution_count": 146,
     "metadata": {},
     "output_type": "execute_result"
    }
   ],
   "source": [
    "false_positive_rate, true_positive_rate, thresholds = roc_curve(y_test, yhat)\n",
    "roc_auc = auc(false_positive_rate, true_positive_rate)\n",
    "roc_auc"
   ]
  },
  {
   "cell_type": "markdown",
   "metadata": {},
   "source": [
    "### feature importance"
   ]
  },
  {
   "cell_type": "code",
   "execution_count": 149,
   "metadata": {},
   "outputs": [
    {
     "data": {
      "image/png": "[encoded data removed]",
      "text/plain": [
       "<Figure size 432x288 with 1 Axes>"
      ]
     },
     "metadata": {
      "needs_background": "light"
     },
     "output_type": "display_data"
    }
   ],
   "source": [
    "features = X.columns\n",
    "importances = dtree.feature_importances_\n",
    "indices = np.argsort(importances)\n",
    "\n",
    "plt.title('Feature Importance')\n",
    "plt.barh(range(len(indices)),importances[indices],color = '#3CAEA3', align = 'center')\n",
    "plt.yticks(range(len(indices)),[features[i] for i in indices])\n",
    "plt.xlabel('Relative Importance')\n",
    "plt.show()"
   ]
  },
  {
   "cell_type": "code",
   "execution_count": 162,
   "metadata": {},
   "outputs": [
    {
     "data": {
      "text/html": [
       "<div>\n",
       "<style scoped>\n",
       "    .dataframe tbody tr th:only-of-type {\n",
       "        vertical-align: middle;\n",
       "    }\n",
       "\n",
       "    .dataframe tbody tr th {\n",
       "        vertical-align: top;\n",
       "    }\n",
       "\n",
       "    .dataframe thead th {\n",
       "        text-align: right;\n",
       "    }\n",
       "</style>\n",
       "<table border=\"1\" class=\"dataframe\">\n",
       "  <thead>\n",
       "    <tr style=\"text-align: right;\">\n",
       "      <th></th>\n",
       "      <th>loan_purpose</th>\n",
       "      <th>loan_repaid</th>\n",
       "      <th>fully_repaid_previous_loans</th>\n",
       "      <th>currently_repaying_other_loans</th>\n",
       "      <th>total_credit_card_limit</th>\n",
       "      <th>avg_percentage_credit_card_limit_used_last_year</th>\n",
       "      <th>saving_amount</th>\n",
       "      <th>checking_amount</th>\n",
       "      <th>yearly_salary</th>\n",
       "      <th>age</th>\n",
       "      <th>dependent_number</th>\n",
       "    </tr>\n",
       "  </thead>\n",
       "  <tbody>\n",
       "    <tr>\n",
       "      <th>3</th>\n",
       "      <td>4</td>\n",
       "      <td>1.0</td>\n",
       "      <td>1.0</td>\n",
       "      <td>0.0</td>\n",
       "      <td>5400</td>\n",
       "      <td>0.52</td>\n",
       "      <td>3345</td>\n",
       "      <td>2764</td>\n",
       "      <td>15800</td>\n",
       "      <td>58</td>\n",
       "      <td>4</td>\n",
       "    </tr>\n",
       "    <tr>\n",
       "      <th>4</th>\n",
       "      <td>0</td>\n",
       "      <td>0.0</td>\n",
       "      <td>-1.0</td>\n",
       "      <td>-1.0</td>\n",
       "      <td>2900</td>\n",
       "      <td>0.76</td>\n",
       "      <td>1050</td>\n",
       "      <td>3695</td>\n",
       "      <td>34800</td>\n",
       "      <td>31</td>\n",
       "      <td>4</td>\n",
       "    </tr>\n",
       "    <tr>\n",
       "      <th>6</th>\n",
       "      <td>0</td>\n",
       "      <td>1.0</td>\n",
       "      <td>1.0</td>\n",
       "      <td>0.0</td>\n",
       "      <td>7800</td>\n",
       "      <td>0.30</td>\n",
       "      <td>4206</td>\n",
       "      <td>4368</td>\n",
       "      <td>51100</td>\n",
       "      <td>51</td>\n",
       "      <td>2</td>\n",
       "    </tr>\n",
       "    <tr>\n",
       "      <th>7</th>\n",
       "      <td>1</td>\n",
       "      <td>0.0</td>\n",
       "      <td>0.0</td>\n",
       "      <td>1.0</td>\n",
       "      <td>4300</td>\n",
       "      <td>1.02</td>\n",
       "      <td>886</td>\n",
       "      <td>1597</td>\n",
       "      <td>15000</td>\n",
       "      <td>59</td>\n",
       "      <td>2</td>\n",
       "    </tr>\n",
       "    <tr>\n",
       "      <th>8</th>\n",
       "      <td>3</td>\n",
       "      <td>1.0</td>\n",
       "      <td>1.0</td>\n",
       "      <td>0.0</td>\n",
       "      <td>3900</td>\n",
       "      <td>0.65</td>\n",
       "      <td>1837</td>\n",
       "      <td>3795</td>\n",
       "      <td>12000</td>\n",
       "      <td>24</td>\n",
       "      <td>1</td>\n",
       "    </tr>\n",
       "    <tr>\n",
       "      <th>...</th>\n",
       "      <td>...</td>\n",
       "      <td>...</td>\n",
       "      <td>...</td>\n",
       "      <td>...</td>\n",
       "      <td>...</td>\n",
       "      <td>...</td>\n",
       "      <td>...</td>\n",
       "      <td>...</td>\n",
       "      <td>...</td>\n",
       "      <td>...</td>\n",
       "      <td>...</td>\n",
       "    </tr>\n",
       "    <tr>\n",
       "      <th>101094</th>\n",
       "      <td>0</td>\n",
       "      <td>0.0</td>\n",
       "      <td>1.0</td>\n",
       "      <td>1.0</td>\n",
       "      <td>2600</td>\n",
       "      <td>0.83</td>\n",
       "      <td>1019</td>\n",
       "      <td>537</td>\n",
       "      <td>37100</td>\n",
       "      <td>37</td>\n",
       "      <td>4</td>\n",
       "    </tr>\n",
       "    <tr>\n",
       "      <th>101095</th>\n",
       "      <td>1</td>\n",
       "      <td>0.0</td>\n",
       "      <td>1.0</td>\n",
       "      <td>0.0</td>\n",
       "      <td>2400</td>\n",
       "      <td>0.40</td>\n",
       "      <td>553</td>\n",
       "      <td>2372</td>\n",
       "      <td>37000</td>\n",
       "      <td>56</td>\n",
       "      <td>3</td>\n",
       "    </tr>\n",
       "    <tr>\n",
       "      <th>101096</th>\n",
       "      <td>0</td>\n",
       "      <td>0.0</td>\n",
       "      <td>-1.0</td>\n",
       "      <td>-1.0</td>\n",
       "      <td>3100</td>\n",
       "      <td>0.68</td>\n",
       "      <td>367</td>\n",
       "      <td>1957</td>\n",
       "      <td>22700</td>\n",
       "      <td>59</td>\n",
       "      <td>5</td>\n",
       "    </tr>\n",
       "    <tr>\n",
       "      <th>101097</th>\n",
       "      <td>4</td>\n",
       "      <td>1.0</td>\n",
       "      <td>-1.0</td>\n",
       "      <td>-1.0</td>\n",
       "      <td>4600</td>\n",
       "      <td>0.50</td>\n",
       "      <td>1134</td>\n",
       "      <td>1621</td>\n",
       "      <td>35200</td>\n",
       "      <td>49</td>\n",
       "      <td>1</td>\n",
       "    </tr>\n",
       "    <tr>\n",
       "      <th>101098</th>\n",
       "      <td>0</td>\n",
       "      <td>1.0</td>\n",
       "      <td>1.0</td>\n",
       "      <td>0.0</td>\n",
       "      <td>6500</td>\n",
       "      <td>0.70</td>\n",
       "      <td>661</td>\n",
       "      <td>4333</td>\n",
       "      <td>19600</td>\n",
       "      <td>51</td>\n",
       "      <td>4</td>\n",
       "    </tr>\n",
       "  </tbody>\n",
       "</table>\n",
       "<p>47654 rows × 11 columns</p>\n",
       "</div>"
      ],
      "text/plain": [
       "       loan_purpose loan_repaid fully_repaid_previous_loans  \\\n",
       "3                 4         1.0                         1.0   \n",
       "4                 0         0.0                        -1.0   \n",
       "6                 0         1.0                         1.0   \n",
       "7                 1         0.0                         0.0   \n",
       "8                 3         1.0                         1.0   \n",
       "...             ...         ...                         ...   \n",
       "101094            0         0.0                         1.0   \n",
       "101095            1         0.0                         1.0   \n",
       "101096            0         0.0                        -1.0   \n",
       "101097            4         1.0                        -1.0   \n",
       "101098            0         1.0                         1.0   \n",
       "\n",
       "       currently_repaying_other_loans  total_credit_card_limit  \\\n",
       "3                                 0.0                     5400   \n",
       "4                                -1.0                     2900   \n",
       "6                                 0.0                     7800   \n",
       "7                                 1.0                     4300   \n",
       "8                                 0.0                     3900   \n",
       "...                               ...                      ...   \n",
       "101094                            1.0                     2600   \n",
       "101095                            0.0                     2400   \n",
       "101096                           -1.0                     3100   \n",
       "101097                           -1.0                     4600   \n",
       "101098                            0.0                     6500   \n",
       "\n",
       "        avg_percentage_credit_card_limit_used_last_year  saving_amount  \\\n",
       "3                                                  0.52           3345   \n",
       "4                                                  0.76           1050   \n",
       "6                                                  0.30           4206   \n",
       "7                                                  1.02            886   \n",
       "8                                                  0.65           1837   \n",
       "...                                                 ...            ...   \n",
       "101094                                             0.83           1019   \n",
       "101095                                             0.40            553   \n",
       "101096                                             0.68            367   \n",
       "101097                                             0.50           1134   \n",
       "101098                                             0.70            661   \n",
       "\n",
       "        checking_amount  yearly_salary  age  dependent_number  \n",
       "3                  2764          15800   58                 4  \n",
       "4                  3695          34800   31                 4  \n",
       "6                  4368          51100   51                 2  \n",
       "7                  1597          15000   59                 2  \n",
       "8                  3795          12000   24                 1  \n",
       "...                 ...            ...  ...               ...  \n",
       "101094              537          37100   37                 4  \n",
       "101095             2372          37000   56                 3  \n",
       "101096             1957          22700   59                 5  \n",
       "101097             1621          35200   49                 1  \n",
       "101098             4333          19600   51                 4  \n",
       "\n",
       "[47654 rows x 11 columns]"
      ]
     },
     "execution_count": 162,
     "metadata": {},
     "output_type": "execute_result"
    }
   ],
   "source": [
    "data"
   ]
  },
  {
   "cell_type": "markdown",
   "metadata": {},
   "source": [
    "## Questions"
   ]
  },
  {
   "cell_type": "markdown",
   "metadata": {},
   "source": [
    "### Question 1"
   ]
  },
  {
   "cell_type": "markdown",
   "metadata": {},
   "source": [
    "Build a model which is better than the bank model. For simplicity, assume that:\n",
    "\n",
    "    - If you grant the loan and the it doesn't get repaid, you lose 1\n",
    "    - If you grant the loan and the it does get repaid, you gain 1\n",
    "    - If you don't grant the loan, you gain 0"
   ]
  },
  {
   "cell_type": "code",
   "execution_count": 218,
   "metadata": {},
   "outputs": [
    {
     "data": {
      "text/plain": [
       "0"
      ]
     },
     "execution_count": 218,
     "metadata": {},
     "output_type": "execute_result"
    }
   ],
   "source": [
    "# claculate bank profit\n",
    "# equals to 0 since I did under sampling before to make the number of 0 equals to the number of 1\n",
    "repaid = y_test.values.astype(int)\n",
    "bank_profit = sum([-1 if i==0 else 1 for i in repaid])\n",
    "bank_profit"
   ]
  },
  {
   "cell_type": "code",
   "execution_count": 206,
   "metadata": {},
   "outputs": [],
   "source": [
    "def cal_profit(repaid, pred, threshold):\n",
    "    '''calculate the profit'''\n",
    "    profit = 0    \n",
    "    loan_granted = (pred>threshold).astype(int)\n",
    "    for i in range(len(repaid)):\n",
    "        if loan_granted[i]:\n",
    "            if repaid[i]==1:\n",
    "                profit+=1\n",
    "            else:\n",
    "                profit-=1\n",
    "    return profit"
   ]
  },
  {
   "cell_type": "code",
   "execution_count": 215,
   "metadata": {},
   "outputs": [
    {
     "data": {
      "text/plain": [
       "array([0.06257218, 1.        , 0.69456067, ..., 0.06257218, 0.06257218,\n",
       "       0.06257218])"
      ]
     },
     "execution_count": 215,
     "metadata": {},
     "output_type": "execute_result"
    }
   ],
   "source": [
    "yhat_con = dtree.predict_proba(X_test)\n",
    "yhat_con[:,1]"
   ]
  },
  {
   "cell_type": "code",
   "execution_count": 216,
   "metadata": {},
   "outputs": [],
   "source": [
    "# calculate the profit according to given threshold\n",
    "thresholds = list(np.linspace(0, 1, 100))\n",
    "profits = []\n",
    "\n",
    "for threshold in thresholds:\n",
    "    profits.append(cal_profit(repaid, yhat_con[:,1], threshold))"
   ]
  },
  {
   "cell_type": "code",
   "execution_count": 219,
   "metadata": {},
   "outputs": [
    {
     "data": {
      "image/png": "[encoded data removed]",
      "text/plain": [
       "<Figure size 576x432 with 1 Axes>"
      ]
     },
     "metadata": {
      "needs_background": "light"
     },
     "output_type": "display_data"
    }
   ],
   "source": [
    "fig, ax = plt.subplots(figsize=(8, 6))\n",
    "ax.plot(thresholds, profits, label='New Decision Tree Model')\n",
    "ax.plot(thresholds, [bank_profit] * len(thresholds), label='Bank Model')\n",
    "ax.set_xlabel('Threshold', fontsize=12)\n",
    "ax.set_ylabel('Profit', fontsize=12)\n",
    "ax.legend(fontsize=12)\n",
    "plt.tight_layout()\n",
    "plt.show()"
   ]
  },
  {
   "cell_type": "code",
   "execution_count": 223,
   "metadata": {},
   "outputs": [
    {
     "data": {
      "text/plain": [
       "threshold       0.505051\n",
       "profits      3453.000000\n",
       "Name: 50, dtype: float64"
      ]
     },
     "execution_count": 223,
     "metadata": {},
     "output_type": "execute_result"
    }
   ],
   "source": [
    "threshold_profits = pd.DataFrame({'threshold':thresholds,'profits':profits})\n",
    "temp = threshold_profits.loc[ threshold_profits.profits.argmax(),:]\n",
    "temp"
   ]
  },
  {
   "cell_type": "markdown",
   "metadata": {},
   "source": [
    "Clearly, the new model outperforms the original model used by the bank."
   ]
  },
  {
   "cell_type": "markdown",
   "metadata": {},
   "source": [
    "## Question 2"
   ]
  },
  {
   "cell_type": "markdown",
   "metadata": {},
   "source": [
    "Describe the impact of the most important variables on the prediction. Also, focus on the variable `is_employed`, which describes whether the borrower is employed when she asks for the loan. How does this variable impact the model? Explain why"
   ]
  },
  {
   "cell_type": "markdown",
   "metadata": {},
   "source": [
    "*Answer to question 2*\n",
    "\n",
    "according to above plot, the most important feature is `saving amount`. This makes perfect sense. Money in the saving account, meaure a person's ability to control his financial situation. More money in the saving account, more likely the borrower can repay.\n",
    "\n",
    "as I mentioned, in my model, `is_employed` is merged into feature `yearly_salary`, which correspond to the case 'yearly_salary=0'. according to above plot, yearly_salary is also a strong feature.\n",
    "\n",
    "* if not employed, then yearly_salary=0, which will impact negatively on 'grant decision'. that is very easy to understand, a person without any financial input, will be very unlikely to repay.\n",
    "\n",
    "* but even the person is employed, whether grant the loan or not, depends on his salary. higher salary indicates strong ability to repay."
   ]
  },
  {
   "cell_type": "markdown",
   "metadata": {},
   "source": [
    "## Question 3"
   ]
  },
  {
   "cell_type": "markdown",
   "metadata": {},
   "source": [
    "Are there any other variables, not in the data provided, that you'd have liked to include in the model?"
   ]
  },
  {
   "cell_type": "markdown",
   "metadata": {},
   "source": [
    "*Answer to question 3*\n",
    "\n",
    "Some useful feature which may include:\n",
    "\n",
    "* Marriage status.\n",
    "    - Because even a borrow cannot repay, if he/she is married, his/her spouse can help to repay.\n",
    "* Housing status, has his/her own house, or rent appartments? if renting, how much is monthly rent?\n",
    "    - Because even the borrower cannot repay, if he/she has house, the house can be sold to repay the debt\n",
    "* Educational level\n",
    "    - Normally a person who received higher education, has stronger capability to earn money to repay, and has higher moral standard to repay."
   ]
  },
  {
   "cell_type": "code",
   "execution_count": null,
   "metadata": {},
   "outputs": [],
   "source": []
  }
 ],
 "metadata": {
  "kernelspec": {
   "display_name": "Python 3",
   "language": "python",
   "name": "python3"
  },
  "language_info": {
   "codemirror_mode": {
    "name": "ipython",
    "version": 3
   },
   "file_extension": ".py",
   "mimetype": "text/x-python",
   "name": "python",
   "nbconvert_exporter": "python",
   "pygments_lexer": "ipython3",
   "version": "3.8.2"
  },
  "toc": {
   "base_numbering": 1,
   "nav_menu": {},
   "number_sections": true,
   "sideBar": true,
   "skip_h1_title": false,
   "title_cell": "Table of Contents",
   "title_sidebar": "Contents",
   "toc_cell": false,
   "toc_position": {
    "height": "calc(100% - 180px)",
    "left": "10px",
    "top": "150px",
    "width": "288px"
   },
   "toc_section_display": true,
   "toc_window_display": false
  }
 },
 "nbformat": 4,
 "nbformat_minor": 4
}
