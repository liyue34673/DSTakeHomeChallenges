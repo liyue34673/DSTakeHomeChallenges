{
 "cells": [
  {
   "cell_type": "code",
   "execution_count": 81,
   "metadata": {},
   "outputs": [],
   "source": [
    "import warnings\n",
    "warnings.simplefilter('ignore')\n",
    "\n",
    "import numpy as np\n",
    "import pandas as pd\n",
    "import seaborn as sns\n",
    "import matplotlib.pyplot as plt\n",
    "from sklearn.metrics import auc, roc_curve, classification_report\n",
    "from sklearn.tree import DecisionTreeClassifier\n",
    "from sklearn.model_selection import train_test_split,cross_val_score\n",
    "from sklearn import tree\n",
    "\n",
    "import h2o\n",
    "from h2o.frame import H2OFrame\n",
    "from h2o.estimators.random_forest import H2ORandomForestEstimator\n",
    "from h2o.grid.grid_search import H2OGridSearch\n",
    "from h2o.estimators.gbm import H2OGradientBoostingEstimator\n",
    "from h2o.estimators.stackedensemble import H2OStackedEnsembleEstimator\n",
    "from __future__ import print_function\n",
    "import graphviz"
   ]
  },
  {
   "cell_type": "markdown",
   "metadata": {},
   "source": [
    "# Load Dataset"
   ]
  },
  {
   "cell_type": "code",
   "execution_count": 2,
   "metadata": {},
   "outputs": [],
   "source": [
    "e_open = pd.read_csv('../DS_Challenges/Marketing_Email_Campaign/email_opened_table.csv')\n",
    "e_click = pd.read_csv('../DS_Challenges/Marketing_Email_Campaign/link_clicked_table.csv')\n",
    "email = pd.read_csv('../DS_Challenges/Marketing_Email_Campaign/email_table.csv')"
   ]
  },
  {
   "cell_type": "code",
   "execution_count": 3,
   "metadata": {},
   "outputs": [
    {
     "data": {
      "text/html": [
       "<div>\n",
       "<style scoped>\n",
       "    .dataframe tbody tr th:only-of-type {\n",
       "        vertical-align: middle;\n",
       "    }\n",
       "\n",
       "    .dataframe tbody tr th {\n",
       "        vertical-align: top;\n",
       "    }\n",
       "\n",
       "    .dataframe thead th {\n",
       "        text-align: right;\n",
       "    }\n",
       "</style>\n",
       "<table border=\"1\" class=\"dataframe\">\n",
       "  <thead>\n",
       "    <tr style=\"text-align: right;\">\n",
       "      <th></th>\n",
       "      <th>email_id</th>\n",
       "    </tr>\n",
       "  </thead>\n",
       "  <tbody>\n",
       "    <tr>\n",
       "      <th>0</th>\n",
       "      <td>284534</td>\n",
       "    </tr>\n",
       "    <tr>\n",
       "      <th>1</th>\n",
       "      <td>609056</td>\n",
       "    </tr>\n",
       "    <tr>\n",
       "      <th>2</th>\n",
       "      <td>220820</td>\n",
       "    </tr>\n",
       "    <tr>\n",
       "      <th>3</th>\n",
       "      <td>905936</td>\n",
       "    </tr>\n",
       "    <tr>\n",
       "      <th>4</th>\n",
       "      <td>164034</td>\n",
       "    </tr>\n",
       "  </tbody>\n",
       "</table>\n",
       "</div>"
      ],
      "text/plain": [
       "   email_id\n",
       "0    284534\n",
       "1    609056\n",
       "2    220820\n",
       "3    905936\n",
       "4    164034"
      ]
     },
     "execution_count": 3,
     "metadata": {},
     "output_type": "execute_result"
    }
   ],
   "source": [
    "e_open.head()"
   ]
  },
  {
   "cell_type": "code",
   "execution_count": 4,
   "metadata": {},
   "outputs": [
    {
     "data": {
      "text/html": [
       "<div>\n",
       "<style scoped>\n",
       "    .dataframe tbody tr th:only-of-type {\n",
       "        vertical-align: middle;\n",
       "    }\n",
       "\n",
       "    .dataframe tbody tr th {\n",
       "        vertical-align: top;\n",
       "    }\n",
       "\n",
       "    .dataframe thead th {\n",
       "        text-align: right;\n",
       "    }\n",
       "</style>\n",
       "<table border=\"1\" class=\"dataframe\">\n",
       "  <thead>\n",
       "    <tr style=\"text-align: right;\">\n",
       "      <th></th>\n",
       "      <th>email_id</th>\n",
       "    </tr>\n",
       "  </thead>\n",
       "  <tbody>\n",
       "    <tr>\n",
       "      <th>0</th>\n",
       "      <td>609056</td>\n",
       "    </tr>\n",
       "    <tr>\n",
       "      <th>1</th>\n",
       "      <td>870980</td>\n",
       "    </tr>\n",
       "    <tr>\n",
       "      <th>2</th>\n",
       "      <td>935124</td>\n",
       "    </tr>\n",
       "    <tr>\n",
       "      <th>3</th>\n",
       "      <td>158501</td>\n",
       "    </tr>\n",
       "    <tr>\n",
       "      <th>4</th>\n",
       "      <td>177561</td>\n",
       "    </tr>\n",
       "  </tbody>\n",
       "</table>\n",
       "</div>"
      ],
      "text/plain": [
       "   email_id\n",
       "0    609056\n",
       "1    870980\n",
       "2    935124\n",
       "3    158501\n",
       "4    177561"
      ]
     },
     "execution_count": 4,
     "metadata": {},
     "output_type": "execute_result"
    }
   ],
   "source": [
    "e_click.head()"
   ]
  },
  {
   "cell_type": "code",
   "execution_count": 5,
   "metadata": {},
   "outputs": [
    {
     "data": {
      "text/html": [
       "<div>\n",
       "<style scoped>\n",
       "    .dataframe tbody tr th:only-of-type {\n",
       "        vertical-align: middle;\n",
       "    }\n",
       "\n",
       "    .dataframe tbody tr th {\n",
       "        vertical-align: top;\n",
       "    }\n",
       "\n",
       "    .dataframe thead th {\n",
       "        text-align: right;\n",
       "    }\n",
       "</style>\n",
       "<table border=\"1\" class=\"dataframe\">\n",
       "  <thead>\n",
       "    <tr style=\"text-align: right;\">\n",
       "      <th></th>\n",
       "      <th>email_id</th>\n",
       "      <th>email_text</th>\n",
       "      <th>email_version</th>\n",
       "      <th>hour</th>\n",
       "      <th>weekday</th>\n",
       "      <th>user_country</th>\n",
       "      <th>user_past_purchases</th>\n",
       "    </tr>\n",
       "  </thead>\n",
       "  <tbody>\n",
       "    <tr>\n",
       "      <th>0</th>\n",
       "      <td>85120</td>\n",
       "      <td>short_email</td>\n",
       "      <td>personalized</td>\n",
       "      <td>2</td>\n",
       "      <td>Sunday</td>\n",
       "      <td>US</td>\n",
       "      <td>5</td>\n",
       "    </tr>\n",
       "    <tr>\n",
       "      <th>1</th>\n",
       "      <td>966622</td>\n",
       "      <td>long_email</td>\n",
       "      <td>personalized</td>\n",
       "      <td>12</td>\n",
       "      <td>Sunday</td>\n",
       "      <td>UK</td>\n",
       "      <td>2</td>\n",
       "    </tr>\n",
       "    <tr>\n",
       "      <th>2</th>\n",
       "      <td>777221</td>\n",
       "      <td>long_email</td>\n",
       "      <td>personalized</td>\n",
       "      <td>11</td>\n",
       "      <td>Wednesday</td>\n",
       "      <td>US</td>\n",
       "      <td>2</td>\n",
       "    </tr>\n",
       "    <tr>\n",
       "      <th>3</th>\n",
       "      <td>493711</td>\n",
       "      <td>short_email</td>\n",
       "      <td>generic</td>\n",
       "      <td>6</td>\n",
       "      <td>Monday</td>\n",
       "      <td>UK</td>\n",
       "      <td>1</td>\n",
       "    </tr>\n",
       "    <tr>\n",
       "      <th>4</th>\n",
       "      <td>106887</td>\n",
       "      <td>long_email</td>\n",
       "      <td>generic</td>\n",
       "      <td>14</td>\n",
       "      <td>Monday</td>\n",
       "      <td>US</td>\n",
       "      <td>6</td>\n",
       "    </tr>\n",
       "  </tbody>\n",
       "</table>\n",
       "</div>"
      ],
      "text/plain": [
       "   email_id   email_text email_version  hour    weekday user_country  \\\n",
       "0     85120  short_email  personalized     2     Sunday           US   \n",
       "1    966622   long_email  personalized    12     Sunday           UK   \n",
       "2    777221   long_email  personalized    11  Wednesday           US   \n",
       "3    493711  short_email       generic     6     Monday           UK   \n",
       "4    106887   long_email       generic    14     Monday           US   \n",
       "\n",
       "   user_past_purchases  \n",
       "0                    5  \n",
       "1                    2  \n",
       "2                    2  \n",
       "3                    1  \n",
       "4                    6  "
      ]
     },
     "execution_count": 5,
     "metadata": {},
     "output_type": "execute_result"
    }
   ],
   "source": [
    "email.head()"
   ]
  },
  {
   "cell_type": "code",
   "execution_count": 6,
   "metadata": {},
   "outputs": [
    {
     "name": "stdout",
     "output_type": "stream",
     "text": [
      "<class 'pandas.core.frame.DataFrame'>\n",
      "RangeIndex: 2119 entries, 0 to 2118\n",
      "Data columns (total 1 columns):\n",
      " #   Column    Non-Null Count  Dtype\n",
      "---  ------    --------------  -----\n",
      " 0   email_id  2119 non-null   int64\n",
      "dtypes: int64(1)\n",
      "memory usage: 16.7 KB\n"
     ]
    }
   ],
   "source": [
    "e_click.info()"
   ]
  },
  {
   "cell_type": "code",
   "execution_count": 9,
   "metadata": {},
   "outputs": [
    {
     "data": {
      "text/plain": [
       "2119"
      ]
     },
     "execution_count": 9,
     "metadata": {},
     "output_type": "execute_result"
    }
   ],
   "source": [
    "# unique email_id in click\n",
    "len(e_click['email_id'].unique())"
   ]
  },
  {
   "cell_type": "code",
   "execution_count": 7,
   "metadata": {},
   "outputs": [
    {
     "name": "stdout",
     "output_type": "stream",
     "text": [
      "<class 'pandas.core.frame.DataFrame'>\n",
      "RangeIndex: 10345 entries, 0 to 10344\n",
      "Data columns (total 1 columns):\n",
      " #   Column    Non-Null Count  Dtype\n",
      "---  ------    --------------  -----\n",
      " 0   email_id  10345 non-null  int64\n",
      "dtypes: int64(1)\n",
      "memory usage: 80.9 KB\n"
     ]
    }
   ],
   "source": [
    "e_open.info()"
   ]
  },
  {
   "cell_type": "code",
   "execution_count": 10,
   "metadata": {},
   "outputs": [
    {
     "data": {
      "text/plain": [
       "10345"
      ]
     },
     "execution_count": 10,
     "metadata": {},
     "output_type": "execute_result"
    }
   ],
   "source": [
    "# unique email_id in open\n",
    "len(e_open['email_id'].unique())"
   ]
  },
  {
   "cell_type": "code",
   "execution_count": 11,
   "metadata": {},
   "outputs": [
    {
     "name": "stdout",
     "output_type": "stream",
     "text": [
      "<class 'pandas.core.frame.DataFrame'>\n",
      "RangeIndex: 100000 entries, 0 to 99999\n",
      "Data columns (total 7 columns):\n",
      " #   Column               Non-Null Count   Dtype \n",
      "---  ------               --------------   ----- \n",
      " 0   email_id             100000 non-null  int64 \n",
      " 1   email_text           100000 non-null  object\n",
      " 2   email_version        100000 non-null  object\n",
      " 3   hour                 100000 non-null  int64 \n",
      " 4   weekday              100000 non-null  object\n",
      " 5   user_country         100000 non-null  object\n",
      " 6   user_past_purchases  100000 non-null  int64 \n",
      "dtypes: int64(3), object(4)\n",
      "memory usage: 5.3+ MB\n"
     ]
    }
   ],
   "source": [
    "email.info()"
   ]
  },
  {
   "cell_type": "code",
   "execution_count": 12,
   "metadata": {},
   "outputs": [
    {
     "data": {
      "text/plain": [
       "100000"
      ]
     },
     "execution_count": 12,
     "metadata": {},
     "output_type": "execute_result"
    }
   ],
   "source": [
    "# unique email_id in email\n",
    "len(email.email_id.unique())"
   ]
  },
  {
   "cell_type": "markdown",
   "metadata": {},
   "source": [
    "# Data Processing and Cleaning"
   ]
  },
  {
   "cell_type": "code",
   "execution_count": 15,
   "metadata": {},
   "outputs": [],
   "source": [
    "# add columns to e_open and e_click\n",
    "e_open['open'] = 1\n",
    "e_click['click'] = 1"
   ]
  },
  {
   "cell_type": "code",
   "execution_count": 20,
   "metadata": {},
   "outputs": [
    {
     "data": {
      "text/html": [
       "<div>\n",
       "<style scoped>\n",
       "    .dataframe tbody tr th:only-of-type {\n",
       "        vertical-align: middle;\n",
       "    }\n",
       "\n",
       "    .dataframe tbody tr th {\n",
       "        vertical-align: top;\n",
       "    }\n",
       "\n",
       "    .dataframe thead th {\n",
       "        text-align: right;\n",
       "    }\n",
       "</style>\n",
       "<table border=\"1\" class=\"dataframe\">\n",
       "  <thead>\n",
       "    <tr style=\"text-align: right;\">\n",
       "      <th></th>\n",
       "      <th>email_id</th>\n",
       "      <th>email_text</th>\n",
       "      <th>email_version</th>\n",
       "      <th>hour</th>\n",
       "      <th>weekday</th>\n",
       "      <th>user_country</th>\n",
       "      <th>user_past_purchases</th>\n",
       "      <th>open</th>\n",
       "      <th>click</th>\n",
       "    </tr>\n",
       "  </thead>\n",
       "  <tbody>\n",
       "    <tr>\n",
       "      <th>0</th>\n",
       "      <td>85120</td>\n",
       "      <td>short_email</td>\n",
       "      <td>personalized</td>\n",
       "      <td>2</td>\n",
       "      <td>Sunday</td>\n",
       "      <td>US</td>\n",
       "      <td>5</td>\n",
       "      <td>NaN</td>\n",
       "      <td>NaN</td>\n",
       "    </tr>\n",
       "    <tr>\n",
       "      <th>1</th>\n",
       "      <td>966622</td>\n",
       "      <td>long_email</td>\n",
       "      <td>personalized</td>\n",
       "      <td>12</td>\n",
       "      <td>Sunday</td>\n",
       "      <td>UK</td>\n",
       "      <td>2</td>\n",
       "      <td>1.0</td>\n",
       "      <td>1.0</td>\n",
       "    </tr>\n",
       "    <tr>\n",
       "      <th>2</th>\n",
       "      <td>777221</td>\n",
       "      <td>long_email</td>\n",
       "      <td>personalized</td>\n",
       "      <td>11</td>\n",
       "      <td>Wednesday</td>\n",
       "      <td>US</td>\n",
       "      <td>2</td>\n",
       "      <td>NaN</td>\n",
       "      <td>NaN</td>\n",
       "    </tr>\n",
       "    <tr>\n",
       "      <th>3</th>\n",
       "      <td>493711</td>\n",
       "      <td>short_email</td>\n",
       "      <td>generic</td>\n",
       "      <td>6</td>\n",
       "      <td>Monday</td>\n",
       "      <td>UK</td>\n",
       "      <td>1</td>\n",
       "      <td>NaN</td>\n",
       "      <td>NaN</td>\n",
       "    </tr>\n",
       "    <tr>\n",
       "      <th>4</th>\n",
       "      <td>106887</td>\n",
       "      <td>long_email</td>\n",
       "      <td>generic</td>\n",
       "      <td>14</td>\n",
       "      <td>Monday</td>\n",
       "      <td>US</td>\n",
       "      <td>6</td>\n",
       "      <td>NaN</td>\n",
       "      <td>NaN</td>\n",
       "    </tr>\n",
       "  </tbody>\n",
       "</table>\n",
       "</div>"
      ],
      "text/plain": [
       "   email_id   email_text email_version  hour    weekday user_country  \\\n",
       "0     85120  short_email  personalized     2     Sunday           US   \n",
       "1    966622   long_email  personalized    12     Sunday           UK   \n",
       "2    777221   long_email  personalized    11  Wednesday           US   \n",
       "3    493711  short_email       generic     6     Monday           UK   \n",
       "4    106887   long_email       generic    14     Monday           US   \n",
       "\n",
       "   user_past_purchases  open  click  \n",
       "0                    5   NaN    NaN  \n",
       "1                    2   1.0    1.0  \n",
       "2                    2   NaN    NaN  \n",
       "3                    1   NaN    NaN  \n",
       "4                    6   NaN    NaN  "
      ]
     },
     "execution_count": 20,
     "metadata": {},
     "output_type": "execute_result"
    }
   ],
   "source": [
    "# merge three datasets\n",
    "data = email.merge(e_open, on = 'email_id', how = 'left').merge(e_click, on = 'email_id', how = 'left')\n",
    "data.head()"
   ]
  },
  {
   "cell_type": "code",
   "execution_count": 24,
   "metadata": {},
   "outputs": [
    {
     "data": {
      "text/plain": [
       "email_id                   0\n",
       "email_text                 0\n",
       "email_version              0\n",
       "hour                       0\n",
       "weekday                    0\n",
       "user_country               0\n",
       "user_past_purchases        0\n",
       "open                   89655\n",
       "click                  97881\n",
       "dtype: int64"
      ]
     },
     "execution_count": 24,
     "metadata": {},
     "output_type": "execute_result"
    }
   ],
   "source": [
    "data.isnull().sum()"
   ]
  },
  {
   "cell_type": "code",
   "execution_count": 26,
   "metadata": {},
   "outputs": [],
   "source": [
    "data = data.fillna(0)"
   ]
  },
  {
   "cell_type": "markdown",
   "metadata": {},
   "source": [
    "# Question 1"
   ]
  },
  {
   "cell_type": "markdown",
   "metadata": {},
   "source": [
    "### What percentage of users opened the email ?"
   ]
  },
  {
   "cell_type": "code",
   "execution_count": 29,
   "metadata": {},
   "outputs": [
    {
     "name": "stdout",
     "output_type": "stream",
     "text": [
      "10.345 % of users opened the email.\n"
     ]
    }
   ],
   "source": [
    "print(f\"{data['open'].mean()*100} % of users opened the email.\")"
   ]
  },
  {
   "cell_type": "markdown",
   "metadata": {},
   "source": [
    "### what percentage clicked on the link within the email?"
   ]
  },
  {
   "cell_type": "code",
   "execution_count": 30,
   "metadata": {},
   "outputs": [
    {
     "name": "stdout",
     "output_type": "stream",
     "text": [
      "2.119 % of users clicked on the link within the email.\n"
     ]
    }
   ],
   "source": [
    "print(f\"{data['click'].mean()*100} % of users clicked on the link within the email.\")"
   ]
  },
  {
   "cell_type": "markdown",
   "metadata": {},
   "source": [
    "# Question 2"
   ]
  },
  {
   "cell_type": "markdown",
   "metadata": {},
   "source": [
    "## Feature engineering"
   ]
  },
  {
   "cell_type": "code",
   "execution_count": 32,
   "metadata": {},
   "outputs": [
    {
     "name": "stdout",
     "output_type": "stream",
     "text": [
      "<class 'pandas.core.frame.DataFrame'>\n",
      "Int64Index: 100000 entries, 0 to 99999\n",
      "Data columns (total 9 columns):\n",
      " #   Column               Non-Null Count   Dtype  \n",
      "---  ------               --------------   -----  \n",
      " 0   email_id             100000 non-null  int64  \n",
      " 1   email_text           100000 non-null  object \n",
      " 2   email_version        100000 non-null  object \n",
      " 3   hour                 100000 non-null  int64  \n",
      " 4   weekday              100000 non-null  object \n",
      " 5   user_country         100000 non-null  object \n",
      " 6   user_past_purchases  100000 non-null  int64  \n",
      " 7   open                 100000 non-null  float64\n",
      " 8   click                100000 non-null  float64\n",
      "dtypes: float64(2), int64(3), object(4)\n",
      "memory usage: 10.1+ MB\n"
     ]
    }
   ],
   "source": [
    "data.info()"
   ]
  },
  {
   "cell_type": "markdown",
   "metadata": {},
   "source": [
    "short_email, personalized email, high user-past-purchase, noon/23/24pm, user from UK and US, weekdays except for friday tend to have high click ratio."
   ]
  },
  {
   "cell_type": "markdown",
   "metadata": {},
   "source": [
    "### Visualization of `email_text`"
   ]
  },
  {
   "cell_type": "code",
   "execution_count": 73,
   "metadata": {},
   "outputs": [
    {
     "data": {
      "image/png": "[encoded data removed]",
      "text/plain": [
       "<Figure size 1296x432 with 2 Axes>"
      ]
     },
     "metadata": {
      "needs_background": "light"
     },
     "output_type": "display_data"
    }
   ],
   "source": [
    "fig, ax = plt.subplots(nrows=1, ncols=2, figsize=(18, 6))\n",
    "sns.countplot(x='email_text', data=data, ax=ax[0])\n",
    "ax[0].set_xlabel('Email Text', fontsize=12)\n",
    "ax[0].set_ylabel('Count', fontsize=12)\n",
    "ax[0].set_title('Count Plot of Email Text', fontsize=16)\n",
    "\n",
    "sns.barplot(x='email_text', y='click', data=data, ax=ax[1])\n",
    "ax[1].set_xlabel('Email Text', fontsize=12)\n",
    "ax[1].set_ylabel('Click Through Rate', fontsize=12)\n",
    "ax[1].set_title('Click Through Rate vs. Email Text', fontsize=16)\n",
    "plt.tight_layout()\n",
    "plt.show()"
   ]
  },
  {
   "cell_type": "markdown",
   "metadata": {},
   "source": [
    "### Visualization of `email_version`"
   ]
  },
  {
   "cell_type": "code",
   "execution_count": 74,
   "metadata": {},
   "outputs": [
    {
     "data": {
      "image/png": "[encoded data removed]",
      "text/plain": [
       "<Figure size 1296x432 with 2 Axes>"
      ]
     },
     "metadata": {
      "needs_background": "light"
     },
     "output_type": "display_data"
    }
   ],
   "source": [
    "fig, ax = plt.subplots(nrows=1, ncols=2, figsize=(18, 6))\n",
    "sns.countplot(x='email_version', data=data, ax=ax[0])\n",
    "ax[0].set_xlabel('Email Version', fontsize=12)\n",
    "ax[0].set_ylabel('Count', fontsize=12)\n",
    "ax[0].set_title('Count Plot of Email Version', fontsize=16)\n",
    "\n",
    "sns.barplot(x='email_version', y='click', data=data, ax=ax[1])\n",
    "ax[1].set_xlabel('Email Version', fontsize=12)\n",
    "ax[1].set_ylabel('Click Through Rate', fontsize=12)\n",
    "ax[1].set_title('Click Through Rate vs. Email Version', fontsize=16)\n",
    "plt.tight_layout()\n",
    "plt.show()"
   ]
  },
  {
   "cell_type": "markdown",
   "metadata": {},
   "source": [
    "### Visualization of `hour`"
   ]
  },
  {
   "cell_type": "code",
   "execution_count": 75,
   "metadata": {},
   "outputs": [
    {
     "data": {
      "image/png": "[encoded data removed]",
      "text/plain": [
       "<Figure size 1296x432 with 2 Axes>"
      ]
     },
     "metadata": {
      "needs_background": "light"
     },
     "output_type": "display_data"
    }
   ],
   "source": [
    "fig, ax = plt.subplots(nrows=1, ncols=2, figsize=(18, 6))\n",
    "sns.countplot(x='hour', data=data, ax=ax[0])\n",
    "ax[0].set_xlabel('Email Sent Hour', fontsize=12)\n",
    "ax[0].set_ylabel('Count', fontsize=12)\n",
    "ax[0].set_title('Count Plot of Email Sent Hour', fontsize=16)\n",
    "\n",
    "sns.barplot(x='hour', y='click', data=data, ax=ax[1])\n",
    "ax[1].set_xlabel('Email Sent Hour', fontsize=12)\n",
    "ax[1].set_ylabel('Click Through Rate', fontsize=12)\n",
    "ax[1].set_title('Click Through Rate vs. Email Sent Hour', fontsize=16)\n",
    "plt.tight_layout()\n",
    "plt.show()"
   ]
  },
  {
   "cell_type": "markdown",
   "metadata": {},
   "source": [
    "### Visualization of `weekday`"
   ]
  },
  {
   "cell_type": "code",
   "execution_count": 76,
   "metadata": {},
   "outputs": [
    {
     "data": {
      "image/png": "[encoded data removed]",
      "text/plain": [
       "<Figure size 1296x432 with 2 Axes>"
      ]
     },
     "metadata": {
      "needs_background": "light"
     },
     "output_type": "display_data"
    }
   ],
   "source": [
    "fig, ax = plt.subplots(nrows=1, ncols=2, figsize=(18, 6))\n",
    "sns.countplot(x='weekday', data=data, ax=ax[0])\n",
    "ax[0].set_xlabel('Email Sent Weekday', fontsize=12)\n",
    "ax[0].set_ylabel('Count', fontsize=12)\n",
    "ax[0].set_title('Count Plot of Email Sent Weekday', fontsize=16)\n",
    "\n",
    "sns.barplot(x='weekday', y='click', data=data, ax=ax[1])\n",
    "ax[1].set_xlabel('Email Sent Weekday', fontsize=12)\n",
    "ax[1].set_ylabel('Click Through Rate', fontsize=12)\n",
    "ax[1].set_title('Click Through Rate vs. Email Sent Weekday', fontsize=16)\n",
    "plt.tight_layout()\n",
    "plt.show()"
   ]
  },
  {
   "cell_type": "markdown",
   "metadata": {},
   "source": [
    "### Visualization of `user_country`"
   ]
  },
  {
   "cell_type": "code",
   "execution_count": 77,
   "metadata": {},
   "outputs": [
    {
     "data": {
      "image/png": "[encoded data removed]",
      "text/plain": [
       "<Figure size 1296x432 with 2 Axes>"
      ]
     },
     "metadata": {
      "needs_background": "light"
     },
     "output_type": "display_data"
    }
   ],
   "source": [
    "fig, ax = plt.subplots(nrows=1, ncols=2, figsize=(18, 6))\n",
    "sns.countplot(x='user_country', data=data, ax=ax[0])\n",
    "ax[0].set_xlabel('User Country', fontsize=12)\n",
    "ax[0].set_ylabel('Count', fontsize=12)\n",
    "ax[0].set_title('Count Plot of User Country', fontsize=16)\n",
    "\n",
    "sns.barplot(x='user_country', y='click', data=data, ax=ax[1])\n",
    "ax[1].set_xlabel('User Country', fontsize=12)\n",
    "ax[1].set_ylabel('Click Through Rate', fontsize=12)\n",
    "ax[1].set_title('Click Through Rate vs. User Country', fontsize=16)\n",
    "plt.tight_layout()\n",
    "plt.show()"
   ]
  },
  {
   "cell_type": "markdown",
   "metadata": {},
   "source": [
    "### Visualization of `user_past_purchases`"
   ]
  },
  {
   "cell_type": "code",
   "execution_count": 78,
   "metadata": {},
   "outputs": [
    {
     "data": {
      "image/png": "[encoded data removed]",
      "text/plain": [
       "<Figure size 1296x432 with 2 Axes>"
      ]
     },
     "metadata": {
      "needs_background": "light"
     },
     "output_type": "display_data"
    }
   ],
   "source": [
    "fig, ax = plt.subplots(nrows=1, ncols=2, figsize=(18, 6))\n",
    "sns.countplot(x='user_past_purchases', data=data, ax=ax[0])\n",
    "ax[0].set_xlabel('User Past Purchases', fontsize=12)\n",
    "ax[0].set_ylabel('Count', fontsize=12)\n",
    "ax[0].set_title('Count Plot of User Past Purchases', fontsize=16)\n",
    "\n",
    "sns.barplot(x='user_past_purchases', y='click', data=data, ax=ax[1])\n",
    "ax[1].set_xlabel('User Past Purchases', fontsize=12)\n",
    "ax[1].set_ylabel('Click Through Rate', fontsize=12)\n",
    "ax[1].set_title('Click Through Rate vs. User Past Purchases', fontsize=16)\n",
    "plt.tight_layout()\n",
    "plt.show()"
   ]
  },
  {
   "cell_type": "markdown",
   "metadata": {},
   "source": [
    "## Modelling"
   ]
  },
  {
   "cell_type": "markdown",
   "metadata": {},
   "source": [
    "### Decision Tree"
   ]
  },
  {
   "cell_type": "code",
   "execution_count": 42,
   "metadata": {},
   "outputs": [],
   "source": [
    "# One-Hot-Encoding on categorical features\n",
    "dummy = pd.get_dummies(data)"
   ]
  },
  {
   "cell_type": "code",
   "execution_count": 46,
   "metadata": {},
   "outputs": [],
   "source": [
    "# a categorical feature of K unique values, only need K-1 vectors\n",
    "# I don't use 'drop_first' parameter in get_dummies, since it cannot specify which level to drop\n",
    "del dummy['email_text_long_email']\n",
    "del dummy['email_version_generic']\n",
    "del dummy['weekday_Monday']\n",
    "del dummy['user_country_FR']"
   ]
  },
  {
   "cell_type": "code",
   "execution_count": 47,
   "metadata": {},
   "outputs": [],
   "source": [
    "X = dummy.drop(columns = ['email_id','open','click'])\n",
    "y = dummy.loc[:,'click']"
   ]
  },
  {
   "cell_type": "code",
   "execution_count": 55,
   "metadata": {},
   "outputs": [
    {
     "data": {
      "image/svg+xml": [
       "<?xml version=\"1.0\" encoding=\"UTF-8\" standalone=\"no\"?>\n",
       "<!DOCTYPE svg PUBLIC \"-//W3C//DTD SVG 1.1//EN\"\n",
       " \"http://www.w3.org/Graphics/SVG/1.1/DTD/svg11.dtd\">\n",
       "<!-- Generated by graphviz version 2.40.1 (20161225.0304)\n",
       " -->\n",
       "<!-- Title: Tree Pages: 1 -->\n",
       "<svg width=\"2277pt\" height=\"485pt\"\n",
       " viewBox=\"0.00 0.00 2277.00 484.50\" xmlns=\"http://www.w3.org/2000/svg\" xmlns:xlink=\"http://www.w3.org/1999/xlink\">\n",
       "<g id=\"graph0\" class=\"graph\" transform=\"scale(1 1) rotate(0) translate(4 480.5)\">\n",
       "<title>Tree</title>\n",
       "<polygon fill=\"#ffffff\" stroke=\"transparent\" points=\"-4,4 -4,-480.5 2273,-480.5 2273,4 -4,4\"/>\n",
       "<!-- 0 -->\n",
       "<g id=\"node1\" class=\"node\">\n",
       "<title>0</title>\n",
       "<polygon fill=\"none\" stroke=\"#000000\" points=\"1126.5,-476.5 954.5,-476.5 954.5,-408.5 1126.5,-408.5 1126.5,-476.5\"/>\n",
       "<text text-anchor=\"middle\" x=\"1040.5\" y=\"-461.3\" font-family=\"Times,serif\" font-size=\"14.00\" fill=\"#000000\">user_past_purchases &lt;= 5.5</text>\n",
       "<text text-anchor=\"middle\" x=\"1040.5\" y=\"-446.3\" font-family=\"Times,serif\" font-size=\"14.00\" fill=\"#000000\">gini = 0.041</text>\n",
       "<text text-anchor=\"middle\" x=\"1040.5\" y=\"-431.3\" font-family=\"Times,serif\" font-size=\"14.00\" fill=\"#000000\">samples = 100.0%</text>\n",
       "<text text-anchor=\"middle\" x=\"1040.5\" y=\"-416.3\" font-family=\"Times,serif\" font-size=\"14.00\" fill=\"#000000\">value = [0.979, 0.021]</text>\n",
       "</g>\n",
       "<!-- 1 -->\n",
       "<g id=\"node2\" class=\"node\">\n",
       "<title>1</title>\n",
       "<polygon fill=\"none\" stroke=\"#000000\" points=\"840.5,-372.5 668.5,-372.5 668.5,-304.5 840.5,-304.5 840.5,-372.5\"/>\n",
       "<text text-anchor=\"middle\" x=\"754.5\" y=\"-357.3\" font-family=\"Times,serif\" font-size=\"14.00\" fill=\"#000000\">user_past_purchases &lt;= 0.5</text>\n",
       "<text text-anchor=\"middle\" x=\"754.5\" y=\"-342.3\" font-family=\"Times,serif\" font-size=\"14.00\" fill=\"#000000\">gini = 0.027</text>\n",
       "<text text-anchor=\"middle\" x=\"754.5\" y=\"-327.3\" font-family=\"Times,serif\" font-size=\"14.00\" fill=\"#000000\">samples = 72.7%</text>\n",
       "<text text-anchor=\"middle\" x=\"754.5\" y=\"-312.3\" font-family=\"Times,serif\" font-size=\"14.00\" fill=\"#000000\">value = [0.986, 0.014]</text>\n",
       "</g>\n",
       "<!-- 0&#45;&gt;1 -->\n",
       "<g id=\"edge1\" class=\"edge\">\n",
       "<title>0&#45;&gt;1</title>\n",
       "<path fill=\"none\" stroke=\"#000000\" d=\"M954.3027,-411.1555C921.3784,-399.1831 883.657,-385.4662 849.9225,-373.1991\"/>\n",
       "<polygon fill=\"#000000\" stroke=\"#000000\" points=\"851.1148,-369.9085 840.5207,-369.7803 848.7225,-376.487 851.1148,-369.9085\"/>\n",
       "<text text-anchor=\"middle\" x=\"851.0929\" y=\"-388.7348\" font-family=\"Times,serif\" font-size=\"14.00\" fill=\"#000000\">True</text>\n",
       "</g>\n",
       "<!-- 14 -->\n",
       "<g id=\"node15\" class=\"node\">\n",
       "<title>14</title>\n",
       "<polygon fill=\"none\" stroke=\"#000000\" points=\"1441,-372.5 1262,-372.5 1262,-304.5 1441,-304.5 1441,-372.5\"/>\n",
       "<text text-anchor=\"middle\" x=\"1351.5\" y=\"-357.3\" font-family=\"Times,serif\" font-size=\"14.00\" fill=\"#000000\">user_past_purchases &lt;= 13.5</text>\n",
       "<text text-anchor=\"middle\" x=\"1351.5\" y=\"-342.3\" font-family=\"Times,serif\" font-size=\"14.00\" fill=\"#000000\">gini = 0.077</text>\n",
       "<text text-anchor=\"middle\" x=\"1351.5\" y=\"-327.3\" font-family=\"Times,serif\" font-size=\"14.00\" fill=\"#000000\">samples = 27.3%</text>\n",
       "<text text-anchor=\"middle\" x=\"1351.5\" y=\"-312.3\" font-family=\"Times,serif\" font-size=\"14.00\" fill=\"#000000\">value = [0.96, 0.04]</text>\n",
       "</g>\n",
       "<!-- 0&#45;&gt;14 -->\n",
       "<g id=\"edge14\" class=\"edge\">\n",
       "<title>0&#45;&gt;14</title>\n",
       "<path fill=\"none\" stroke=\"#000000\" d=\"M1126.7178,-413.6683C1165.6605,-400.6457 1211.8902,-385.1863 1252.2688,-371.6834\"/>\n",
       "<polygon fill=\"#000000\" stroke=\"#000000\" points=\"1253.4868,-374.9667 1261.8605,-368.4759 1251.2667,-368.3281 1253.4868,-374.9667\"/>\n",
       "<text text-anchor=\"middle\" x=\"1250.7018\" y=\"-387.1474\" font-family=\"Times,serif\" font-size=\"14.00\" fill=\"#000000\">False</text>\n",
       "</g>\n",
       "<!-- 2 -->\n",
       "<g id=\"node3\" class=\"node\">\n",
       "<title>2</title>\n",
       "<polygon fill=\"none\" stroke=\"#000000\" points=\"359,-268.5 204,-268.5 204,-200.5 359,-200.5 359,-268.5\"/>\n",
       "<text text-anchor=\"middle\" x=\"281.5\" y=\"-253.3\" font-family=\"Times,serif\" font-size=\"14.00\" fill=\"#000000\">user_country_US &lt;= 0.5</text>\n",
       "<text text-anchor=\"middle\" x=\"281.5\" y=\"-238.3\" font-family=\"Times,serif\" font-size=\"14.00\" fill=\"#000000\">gini = 0.001</text>\n",
       "<text text-anchor=\"middle\" x=\"281.5\" y=\"-223.3\" font-family=\"Times,serif\" font-size=\"14.00\" fill=\"#000000\">samples = 14.0%</text>\n",
       "<text text-anchor=\"middle\" x=\"281.5\" y=\"-208.3\" font-family=\"Times,serif\" font-size=\"14.00\" fill=\"#000000\">value = [1.0, 0.0]</text>\n",
       "</g>\n",
       "<!-- 1&#45;&gt;2 -->\n",
       "<g id=\"edge2\" class=\"edge\">\n",
       "<title>1&#45;&gt;2</title>\n",
       "<path fill=\"none\" stroke=\"#000000\" d=\"M668.2945,-319.5457C583.4542,-300.8916 454.5535,-272.5498 369.2002,-253.7829\"/>\n",
       "<polygon fill=\"#000000\" stroke=\"#000000\" points=\"369.7904,-250.3291 359.272,-251.6 368.2871,-257.1658 369.7904,-250.3291\"/>\n",
       "</g>\n",
       "<!-- 7 -->\n",
       "<g id=\"node8\" class=\"node\">\n",
       "<title>7</title>\n",
       "<polygon fill=\"none\" stroke=\"#000000\" points=\"861.5,-268.5 647.5,-268.5 647.5,-200.5 861.5,-200.5 861.5,-268.5\"/>\n",
       "<text text-anchor=\"middle\" x=\"754.5\" y=\"-253.3\" font-family=\"Times,serif\" font-size=\"14.00\" fill=\"#000000\">email_version_personalized &lt;= 0.5</text>\n",
       "<text text-anchor=\"middle\" x=\"754.5\" y=\"-238.3\" font-family=\"Times,serif\" font-size=\"14.00\" fill=\"#000000\">gini = 0.034</text>\n",
       "<text text-anchor=\"middle\" x=\"754.5\" y=\"-223.3\" font-family=\"Times,serif\" font-size=\"14.00\" fill=\"#000000\">samples = 58.8%</text>\n",
       "<text text-anchor=\"middle\" x=\"754.5\" y=\"-208.3\" font-family=\"Times,serif\" font-size=\"14.00\" fill=\"#000000\">value = [0.983, 0.017]</text>\n",
       "</g>\n",
       "<!-- 1&#45;&gt;7 -->\n",
       "<g id=\"edge7\" class=\"edge\">\n",
       "<title>1&#45;&gt;7</title>\n",
       "<path fill=\"none\" stroke=\"#000000\" d=\"M754.5,-304.4465C754.5,-296.276 754.5,-287.4318 754.5,-278.8697\"/>\n",
       "<polygon fill=\"#000000\" stroke=\"#000000\" points=\"758.0001,-278.63 754.5,-268.63 751.0001,-278.63 758.0001,-278.63\"/>\n",
       "</g>\n",
       "<!-- 3 -->\n",
       "<g id=\"node4\" class=\"node\">\n",
       "<title>3</title>\n",
       "<polygon fill=\"none\" stroke=\"#000000\" points=\"113,-53 0,-53 0,0 113,0 113,-53\"/>\n",
       "<text text-anchor=\"middle\" x=\"56.5\" y=\"-37.8\" font-family=\"Times,serif\" font-size=\"14.00\" fill=\"#000000\">gini = 0.0</text>\n",
       "<text text-anchor=\"middle\" x=\"56.5\" y=\"-22.8\" font-family=\"Times,serif\" font-size=\"14.00\" fill=\"#000000\">samples = 5.5%</text>\n",
       "<text text-anchor=\"middle\" x=\"56.5\" y=\"-7.8\" font-family=\"Times,serif\" font-size=\"14.00\" fill=\"#000000\">value = [1.0, 0.0]</text>\n",
       "</g>\n",
       "<!-- 2&#45;&gt;3 -->\n",
       "<g id=\"edge3\" class=\"edge\">\n",
       "<title>2&#45;&gt;3</title>\n",
       "<path fill=\"none\" stroke=\"#000000\" d=\"M240.4843,-200.3202C219.1614,-182.5511 197.5,-164.5 197.5,-164.5 197.5,-164.5 132.677,-101.0562 90.9361,-60.2034\"/>\n",
       "<polygon fill=\"#000000\" stroke=\"#000000\" points=\"93.2811,-57.6011 83.6862,-53.1078 88.3848,-62.6038 93.2811,-57.6011\"/>\n",
       "</g>\n",
       "<!-- 4 -->\n",
       "<g id=\"node5\" class=\"node\">\n",
       "<title>4</title>\n",
       "<polygon fill=\"none\" stroke=\"#000000\" points=\"356.5,-164.5 206.5,-164.5 206.5,-96.5 356.5,-96.5 356.5,-164.5\"/>\n",
       "<text text-anchor=\"middle\" x=\"281.5\" y=\"-149.3\" font-family=\"Times,serif\" font-size=\"14.00\" fill=\"#000000\">weekday_Friday &lt;= 0.5</text>\n",
       "<text text-anchor=\"middle\" x=\"281.5\" y=\"-134.3\" font-family=\"Times,serif\" font-size=\"14.00\" fill=\"#000000\">gini = 0.001</text>\n",
       "<text text-anchor=\"middle\" x=\"281.5\" y=\"-119.3\" font-family=\"Times,serif\" font-size=\"14.00\" fill=\"#000000\">samples = 8.4%</text>\n",
       "<text text-anchor=\"middle\" x=\"281.5\" y=\"-104.3\" font-family=\"Times,serif\" font-size=\"14.00\" fill=\"#000000\">value = [0.999, 0.001]</text>\n",
       "</g>\n",
       "<!-- 2&#45;&gt;4 -->\n",
       "<g id=\"edge4\" class=\"edge\">\n",
       "<title>2&#45;&gt;4</title>\n",
       "<path fill=\"none\" stroke=\"#000000\" d=\"M281.5,-200.4465C281.5,-192.276 281.5,-183.4318 281.5,-174.8697\"/>\n",
       "<polygon fill=\"#000000\" stroke=\"#000000\" points=\"285.0001,-174.63 281.5,-164.63 278.0001,-174.63 285.0001,-174.63\"/>\n",
       "</g>\n",
       "<!-- 5 -->\n",
       "<g id=\"node6\" class=\"node\">\n",
       "<title>5</title>\n",
       "<polygon fill=\"none\" stroke=\"#000000\" points=\"272,-53 131,-53 131,0 272,0 272,-53\"/>\n",
       "<text text-anchor=\"middle\" x=\"201.5\" y=\"-37.8\" font-family=\"Times,serif\" font-size=\"14.00\" fill=\"#000000\">gini = 0.001</text>\n",
       "<text text-anchor=\"middle\" x=\"201.5\" y=\"-22.8\" font-family=\"Times,serif\" font-size=\"14.00\" fill=\"#000000\">samples = 7.2%</text>\n",
       "<text text-anchor=\"middle\" x=\"201.5\" y=\"-7.8\" font-family=\"Times,serif\" font-size=\"14.00\" fill=\"#000000\">value = [0.999, 0.001]</text>\n",
       "</g>\n",
       "<!-- 4&#45;&gt;5 -->\n",
       "<g id=\"edge5\" class=\"edge\">\n",
       "<title>4&#45;&gt;5</title>\n",
       "<path fill=\"none\" stroke=\"#000000\" d=\"M255.305,-96.4465C246.5778,-85.1012 236.8513,-72.4567 228.0941,-61.0724\"/>\n",
       "<polygon fill=\"#000000\" stroke=\"#000000\" points=\"230.7884,-58.8344 221.917,-53.0422 225.24,-63.1024 230.7884,-58.8344\"/>\n",
       "</g>\n",
       "<!-- 6 -->\n",
       "<g id=\"node7\" class=\"node\">\n",
       "<title>6</title>\n",
       "<polygon fill=\"none\" stroke=\"#000000\" points=\"431,-53 290,-53 290,0 431,0 431,-53\"/>\n",
       "<text text-anchor=\"middle\" x=\"360.5\" y=\"-37.8\" font-family=\"Times,serif\" font-size=\"14.00\" fill=\"#000000\">gini = 0.004</text>\n",
       "<text text-anchor=\"middle\" x=\"360.5\" y=\"-22.8\" font-family=\"Times,serif\" font-size=\"14.00\" fill=\"#000000\">samples = 1.2%</text>\n",
       "<text text-anchor=\"middle\" x=\"360.5\" y=\"-7.8\" font-family=\"Times,serif\" font-size=\"14.00\" fill=\"#000000\">value = [0.998, 0.002]</text>\n",
       "</g>\n",
       "<!-- 4&#45;&gt;6 -->\n",
       "<g id=\"edge6\" class=\"edge\">\n",
       "<title>4&#45;&gt;6</title>\n",
       "<path fill=\"none\" stroke=\"#000000\" d=\"M307.3676,-96.4465C315.9857,-85.1012 325.5906,-72.4567 334.2383,-61.0724\"/>\n",
       "<polygon fill=\"#000000\" stroke=\"#000000\" points=\"337.0763,-63.1224 340.3382,-53.0422 331.5021,-58.8882 337.0763,-63.1224\"/>\n",
       "</g>\n",
       "<!-- 8 -->\n",
       "<g id=\"node9\" class=\"node\">\n",
       "<title>8</title>\n",
       "<polygon fill=\"none\" stroke=\"#000000\" points=\"745.5,-164.5 573.5,-164.5 573.5,-96.5 745.5,-96.5 745.5,-164.5\"/>\n",
       "<text text-anchor=\"middle\" x=\"659.5\" y=\"-149.3\" font-family=\"Times,serif\" font-size=\"14.00\" fill=\"#000000\">user_past_purchases &lt;= 2.5</text>\n",
       "<text text-anchor=\"middle\" x=\"659.5\" y=\"-134.3\" font-family=\"Times,serif\" font-size=\"14.00\" fill=\"#000000\">gini = 0.022</text>\n",
       "<text text-anchor=\"middle\" x=\"659.5\" y=\"-119.3\" font-family=\"Times,serif\" font-size=\"14.00\" fill=\"#000000\">samples = 29.4%</text>\n",
       "<text text-anchor=\"middle\" x=\"659.5\" y=\"-104.3\" font-family=\"Times,serif\" font-size=\"14.00\" fill=\"#000000\">value = [0.989, 0.011]</text>\n",
       "</g>\n",
       "<!-- 7&#45;&gt;8 -->\n",
       "<g id=\"edge8\" class=\"edge\">\n",
       "<title>7&#45;&gt;8</title>\n",
       "<path fill=\"none\" stroke=\"#000000\" d=\"M723.3934,-200.4465C715.1099,-191.3782 706.0682,-181.4799 697.4621,-172.0585\"/>\n",
       "<polygon fill=\"#000000\" stroke=\"#000000\" points=\"700.005,-169.6528 690.6764,-164.63 694.8367,-174.3739 700.005,-169.6528\"/>\n",
       "</g>\n",
       "<!-- 11 -->\n",
       "<g id=\"node12\" class=\"node\">\n",
       "<title>11</title>\n",
       "<polygon fill=\"none\" stroke=\"#000000\" points=\"935.5,-164.5 763.5,-164.5 763.5,-96.5 935.5,-96.5 935.5,-164.5\"/>\n",
       "<text text-anchor=\"middle\" x=\"849.5\" y=\"-149.3\" font-family=\"Times,serif\" font-size=\"14.00\" fill=\"#000000\">user_past_purchases &lt;= 3.5</text>\n",
       "<text text-anchor=\"middle\" x=\"849.5\" y=\"-134.3\" font-family=\"Times,serif\" font-size=\"14.00\" fill=\"#000000\">gini = 0.045</text>\n",
       "<text text-anchor=\"middle\" x=\"849.5\" y=\"-119.3\" font-family=\"Times,serif\" font-size=\"14.00\" fill=\"#000000\">samples = 29.3%</text>\n",
       "<text text-anchor=\"middle\" x=\"849.5\" y=\"-104.3\" font-family=\"Times,serif\" font-size=\"14.00\" fill=\"#000000\">value = [0.977, 0.023]</text>\n",
       "</g>\n",
       "<!-- 7&#45;&gt;11 -->\n",
       "<g id=\"edge11\" class=\"edge\">\n",
       "<title>7&#45;&gt;11</title>\n",
       "<path fill=\"none\" stroke=\"#000000\" d=\"M785.6066,-200.4465C793.8901,-191.3782 802.9318,-181.4799 811.5379,-172.0585\"/>\n",
       "<polygon fill=\"#000000\" stroke=\"#000000\" points=\"814.1633,-174.3739 818.3236,-164.63 808.995,-169.6528 814.1633,-174.3739\"/>\n",
       "</g>\n",
       "<!-- 9 -->\n",
       "<g id=\"node10\" class=\"node\">\n",
       "<title>9</title>\n",
       "<polygon fill=\"none\" stroke=\"#000000\" points=\"590,-53 449,-53 449,0 590,0 590,-53\"/>\n",
       "<text text-anchor=\"middle\" x=\"519.5\" y=\"-37.8\" font-family=\"Times,serif\" font-size=\"14.00\" fill=\"#000000\">gini = 0.016</text>\n",
       "<text text-anchor=\"middle\" x=\"519.5\" y=\"-22.8\" font-family=\"Times,serif\" font-size=\"14.00\" fill=\"#000000\">samples = 13.4%</text>\n",
       "<text text-anchor=\"middle\" x=\"519.5\" y=\"-7.8\" font-family=\"Times,serif\" font-size=\"14.00\" fill=\"#000000\">value = [0.992, 0.008]</text>\n",
       "</g>\n",
       "<!-- 8&#45;&gt;9 -->\n",
       "<g id=\"edge9\" class=\"edge\">\n",
       "<title>8&#45;&gt;9</title>\n",
       "<path fill=\"none\" stroke=\"#000000\" d=\"M613.6588,-96.4465C597.4965,-84.4403 579.3758,-70.9791 563.3795,-59.0962\"/>\n",
       "<polygon fill=\"#000000\" stroke=\"#000000\" points=\"565.3444,-56.1958 555.2298,-53.0422 561.1701,-61.8151 565.3444,-56.1958\"/>\n",
       "</g>\n",
       "<!-- 10 -->\n",
       "<g id=\"node11\" class=\"node\">\n",
       "<title>10</title>\n",
       "<polygon fill=\"none\" stroke=\"#000000\" points=\"749,-53 608,-53 608,0 749,0 749,-53\"/>\n",
       "<text text-anchor=\"middle\" x=\"678.5\" y=\"-37.8\" font-family=\"Times,serif\" font-size=\"14.00\" fill=\"#000000\">gini = 0.027</text>\n",
       "<text text-anchor=\"middle\" x=\"678.5\" y=\"-22.8\" font-family=\"Times,serif\" font-size=\"14.00\" fill=\"#000000\">samples = 16.0%</text>\n",
       "<text text-anchor=\"middle\" x=\"678.5\" y=\"-7.8\" font-family=\"Times,serif\" font-size=\"14.00\" fill=\"#000000\">value = [0.986, 0.014]</text>\n",
       "</g>\n",
       "<!-- 8&#45;&gt;10 -->\n",
       "<g id=\"edge10\" class=\"edge\">\n",
       "<title>8&#45;&gt;10</title>\n",
       "<path fill=\"none\" stroke=\"#000000\" d=\"M665.7213,-96.4465C667.6733,-85.7621 669.8357,-73.9254 671.8182,-63.0742\"/>\n",
       "<polygon fill=\"#000000\" stroke=\"#000000\" points=\"675.2967,-63.5084 673.651,-53.0422 668.4107,-62.2503 675.2967,-63.5084\"/>\n",
       "</g>\n",
       "<!-- 12 -->\n",
       "<g id=\"node13\" class=\"node\">\n",
       "<title>12</title>\n",
       "<polygon fill=\"none\" stroke=\"#000000\" points=\"894,-53 767,-53 767,0 894,0 894,-53\"/>\n",
       "<text text-anchor=\"middle\" x=\"830.5\" y=\"-37.8\" font-family=\"Times,serif\" font-size=\"14.00\" fill=\"#000000\">gini = 0.039</text>\n",
       "<text text-anchor=\"middle\" x=\"830.5\" y=\"-22.8\" font-family=\"Times,serif\" font-size=\"14.00\" fill=\"#000000\">samples = 19.4%</text>\n",
       "<text text-anchor=\"middle\" x=\"830.5\" y=\"-7.8\" font-family=\"Times,serif\" font-size=\"14.00\" fill=\"#000000\">value = [0.98, 0.02]</text>\n",
       "</g>\n",
       "<!-- 11&#45;&gt;12 -->\n",
       "<g id=\"edge12\" class=\"edge\">\n",
       "<title>11&#45;&gt;12</title>\n",
       "<path fill=\"none\" stroke=\"#000000\" d=\"M843.2787,-96.4465C841.3267,-85.7621 839.1643,-73.9254 837.1818,-63.0742\"/>\n",
       "<polygon fill=\"#000000\" stroke=\"#000000\" points=\"840.5893,-62.2503 835.349,-53.0422 833.7033,-63.5084 840.5893,-62.2503\"/>\n",
       "</g>\n",
       "<!-- 13 -->\n",
       "<g id=\"node14\" class=\"node\">\n",
       "<title>13</title>\n",
       "<polygon fill=\"none\" stroke=\"#000000\" points=\"1039,-53 912,-53 912,0 1039,0 1039,-53\"/>\n",
       "<text text-anchor=\"middle\" x=\"975.5\" y=\"-37.8\" font-family=\"Times,serif\" font-size=\"14.00\" fill=\"#000000\">gini = 0.058</text>\n",
       "<text text-anchor=\"middle\" x=\"975.5\" y=\"-22.8\" font-family=\"Times,serif\" font-size=\"14.00\" fill=\"#000000\">samples = 9.9%</text>\n",
       "<text text-anchor=\"middle\" x=\"975.5\" y=\"-7.8\" font-family=\"Times,serif\" font-size=\"14.00\" fill=\"#000000\">value = [0.97, 0.03]</text>\n",
       "</g>\n",
       "<!-- 11&#45;&gt;13 -->\n",
       "<g id=\"edge13\" class=\"edge\">\n",
       "<title>11&#45;&gt;13</title>\n",
       "<path fill=\"none\" stroke=\"#000000\" d=\"M890.7571,-96.4465C905.1697,-84.5504 921.3127,-71.226 935.6117,-59.4237\"/>\n",
       "<polygon fill=\"#000000\" stroke=\"#000000\" points=\"937.8589,-62.1071 943.3431,-53.0422 933.4029,-56.7086 937.8589,-62.1071\"/>\n",
       "</g>\n",
       "<!-- 15 -->\n",
       "<g id=\"node16\" class=\"node\">\n",
       "<title>15</title>\n",
       "<polygon fill=\"none\" stroke=\"#000000\" points=\"1458.5,-268.5 1244.5,-268.5 1244.5,-200.5 1458.5,-200.5 1458.5,-268.5\"/>\n",
       "<text text-anchor=\"middle\" x=\"1351.5\" y=\"-253.3\" font-family=\"Times,serif\" font-size=\"14.00\" fill=\"#000000\">email_version_personalized &lt;= 0.5</text>\n",
       "<text text-anchor=\"middle\" x=\"1351.5\" y=\"-238.3\" font-family=\"Times,serif\" font-size=\"14.00\" fill=\"#000000\">gini = 0.073</text>\n",
       "<text text-anchor=\"middle\" x=\"1351.5\" y=\"-223.3\" font-family=\"Times,serif\" font-size=\"14.00\" fill=\"#000000\">samples = 26.5%</text>\n",
       "<text text-anchor=\"middle\" x=\"1351.5\" y=\"-208.3\" font-family=\"Times,serif\" font-size=\"14.00\" fill=\"#000000\">value = [0.962, 0.038]</text>\n",
       "</g>\n",
       "<!-- 14&#45;&gt;15 -->\n",
       "<g id=\"edge15\" class=\"edge\">\n",
       "<title>14&#45;&gt;15</title>\n",
       "<path fill=\"none\" stroke=\"#000000\" d=\"M1351.5,-304.4465C1351.5,-296.276 1351.5,-287.4318 1351.5,-278.8697\"/>\n",
       "<polygon fill=\"#000000\" stroke=\"#000000\" points=\"1355.0001,-278.63 1351.5,-268.63 1348.0001,-278.63 1355.0001,-278.63\"/>\n",
       "</g>\n",
       "<!-- 22 -->\n",
       "<g id=\"node23\" class=\"node\">\n",
       "<title>22</title>\n",
       "<polygon fill=\"none\" stroke=\"#000000\" points=\"1918,-268.5 1739,-268.5 1739,-200.5 1918,-200.5 1918,-268.5\"/>\n",
       "<text text-anchor=\"middle\" x=\"1828.5\" y=\"-253.3\" font-family=\"Times,serif\" font-size=\"14.00\" fill=\"#000000\">user_past_purchases &lt;= 20.5</text>\n",
       "<text text-anchor=\"middle\" x=\"1828.5\" y=\"-238.3\" font-family=\"Times,serif\" font-size=\"14.00\" fill=\"#000000\">gini = 0.201</text>\n",
       "<text text-anchor=\"middle\" x=\"1828.5\" y=\"-223.3\" font-family=\"Times,serif\" font-size=\"14.00\" fill=\"#000000\">samples = 0.8%</text>\n",
       "<text text-anchor=\"middle\" x=\"1828.5\" y=\"-208.3\" font-family=\"Times,serif\" font-size=\"14.00\" fill=\"#000000\">value = [0.887, 0.113]</text>\n",
       "</g>\n",
       "<!-- 14&#45;&gt;22 -->\n",
       "<g id=\"edge22\" class=\"edge\">\n",
       "<title>14&#45;&gt;22</title>\n",
       "<path fill=\"none\" stroke=\"#000000\" d=\"M1441.2201,-318.9384C1523.1223,-301.0813 1643.9989,-274.7267 1728.8705,-256.2221\"/>\n",
       "<polygon fill=\"#000000\" stroke=\"#000000\" points=\"1729.7529,-259.6121 1738.7778,-254.0621 1728.2617,-252.7727 1729.7529,-259.6121\"/>\n",
       "</g>\n",
       "<!-- 16 -->\n",
       "<g id=\"node17\" class=\"node\">\n",
       "<title>16</title>\n",
       "<polygon fill=\"none\" stroke=\"#000000\" points=\"1338,-164.5 1185,-164.5 1185,-96.5 1338,-96.5 1338,-164.5\"/>\n",
       "<text text-anchor=\"middle\" x=\"1261.5\" y=\"-149.3\" font-family=\"Times,serif\" font-size=\"14.00\" fill=\"#000000\">user_country_ES &lt;= 0.5</text>\n",
       "<text text-anchor=\"middle\" x=\"1261.5\" y=\"-134.3\" font-family=\"Times,serif\" font-size=\"14.00\" fill=\"#000000\">gini = 0.055</text>\n",
       "<text text-anchor=\"middle\" x=\"1261.5\" y=\"-119.3\" font-family=\"Times,serif\" font-size=\"14.00\" fill=\"#000000\">samples = 13.3%</text>\n",
       "<text text-anchor=\"middle\" x=\"1261.5\" y=\"-104.3\" font-family=\"Times,serif\" font-size=\"14.00\" fill=\"#000000\">value = [0.972, 0.028]</text>\n",
       "</g>\n",
       "<!-- 15&#45;&gt;16 -->\n",
       "<g id=\"edge16\" class=\"edge\">\n",
       "<title>15&#45;&gt;16</title>\n",
       "<path fill=\"none\" stroke=\"#000000\" d=\"M1322.0306,-200.4465C1314.2607,-191.468 1305.7868,-181.6758 1297.7064,-172.3385\"/>\n",
       "<polygon fill=\"#000000\" stroke=\"#000000\" points=\"1300.226,-169.9014 1291.0356,-164.63 1294.9328,-174.482 1300.226,-169.9014\"/>\n",
       "</g>\n",
       "<!-- 19 -->\n",
       "<g id=\"node20\" class=\"node\">\n",
       "<title>19</title>\n",
       "<polygon fill=\"none\" stroke=\"#000000\" points=\"1528.5,-164.5 1356.5,-164.5 1356.5,-96.5 1528.5,-96.5 1528.5,-164.5\"/>\n",
       "<text text-anchor=\"middle\" x=\"1442.5\" y=\"-149.3\" font-family=\"Times,serif\" font-size=\"14.00\" fill=\"#000000\">user_past_purchases &lt;= 8.5</text>\n",
       "<text text-anchor=\"middle\" x=\"1442.5\" y=\"-134.3\" font-family=\"Times,serif\" font-size=\"14.00\" fill=\"#000000\">gini = 0.091</text>\n",
       "<text text-anchor=\"middle\" x=\"1442.5\" y=\"-119.3\" font-family=\"Times,serif\" font-size=\"14.00\" fill=\"#000000\">samples = 13.2%</text>\n",
       "<text text-anchor=\"middle\" x=\"1442.5\" y=\"-104.3\" font-family=\"Times,serif\" font-size=\"14.00\" fill=\"#000000\">value = [0.952, 0.048]</text>\n",
       "</g>\n",
       "<!-- 15&#45;&gt;19 -->\n",
       "<g id=\"edge19\" class=\"edge\">\n",
       "<title>15&#45;&gt;19</title>\n",
       "<path fill=\"none\" stroke=\"#000000\" d=\"M1381.2968,-200.4465C1389.153,-191.468 1397.7212,-181.6758 1405.8913,-172.3385\"/>\n",
       "<polygon fill=\"#000000\" stroke=\"#000000\" points=\"1408.6852,-174.4606 1412.6363,-164.63 1403.4171,-169.851 1408.6852,-174.4606\"/>\n",
       "</g>\n",
       "<!-- 17 -->\n",
       "<g id=\"node18\" class=\"node\">\n",
       "<title>17</title>\n",
       "<polygon fill=\"none\" stroke=\"#000000\" points=\"1184,-53 1057,-53 1057,0 1184,0 1184,-53\"/>\n",
       "<text text-anchor=\"middle\" x=\"1120.5\" y=\"-37.8\" font-family=\"Times,serif\" font-size=\"14.00\" fill=\"#000000\">gini = 0.059</text>\n",
       "<text text-anchor=\"middle\" x=\"1120.5\" y=\"-22.8\" font-family=\"Times,serif\" font-size=\"14.00\" fill=\"#000000\">samples = 11.9%</text>\n",
       "<text text-anchor=\"middle\" x=\"1120.5\" y=\"-7.8\" font-family=\"Times,serif\" font-size=\"14.00\" fill=\"#000000\">value = [0.97, 0.03]</text>\n",
       "</g>\n",
       "<!-- 16&#45;&gt;17 -->\n",
       "<g id=\"edge17\" class=\"edge\">\n",
       "<title>16&#45;&gt;17</title>\n",
       "<path fill=\"none\" stroke=\"#000000\" d=\"M1215.3313,-96.4465C1199.0536,-84.4403 1180.8035,-70.9791 1164.693,-59.0962\"/>\n",
       "<polygon fill=\"#000000\" stroke=\"#000000\" points=\"1166.6103,-56.1614 1156.485,-53.0422 1162.4552,-61.7948 1166.6103,-56.1614\"/>\n",
       "</g>\n",
       "<!-- 18 -->\n",
       "<g id=\"node19\" class=\"node\">\n",
       "<title>18</title>\n",
       "<polygon fill=\"none\" stroke=\"#000000\" points=\"1343,-53 1202,-53 1202,0 1343,0 1343,-53\"/>\n",
       "<text text-anchor=\"middle\" x=\"1272.5\" y=\"-37.8\" font-family=\"Times,serif\" font-size=\"14.00\" fill=\"#000000\">gini = 0.021</text>\n",
       "<text text-anchor=\"middle\" x=\"1272.5\" y=\"-22.8\" font-family=\"Times,serif\" font-size=\"14.00\" fill=\"#000000\">samples = 1.4%</text>\n",
       "<text text-anchor=\"middle\" x=\"1272.5\" y=\"-7.8\" font-family=\"Times,serif\" font-size=\"14.00\" fill=\"#000000\">value = [0.989, 0.011]</text>\n",
       "</g>\n",
       "<!-- 16&#45;&gt;18 -->\n",
       "<g id=\"edge18\" class=\"edge\">\n",
       "<title>16&#45;&gt;18</title>\n",
       "<path fill=\"none\" stroke=\"#000000\" d=\"M1265.1018,-96.4465C1266.2319,-85.7621 1267.4838,-73.9254 1268.6316,-63.0742\"/>\n",
       "<polygon fill=\"#000000\" stroke=\"#000000\" points=\"1272.1213,-63.3549 1269.6927,-53.0422 1265.1602,-62.6185 1272.1213,-63.3549\"/>\n",
       "</g>\n",
       "<!-- 20 -->\n",
       "<g id=\"node21\" class=\"node\">\n",
       "<title>20</title>\n",
       "<polygon fill=\"none\" stroke=\"#000000\" points=\"1502,-53 1361,-53 1361,0 1502,0 1502,-53\"/>\n",
       "<text text-anchor=\"middle\" x=\"1431.5\" y=\"-37.8\" font-family=\"Times,serif\" font-size=\"14.00\" fill=\"#000000\">gini = 0.076</text>\n",
       "<text text-anchor=\"middle\" x=\"1431.5\" y=\"-22.8\" font-family=\"Times,serif\" font-size=\"14.00\" fill=\"#000000\">samples = 8.9%</text>\n",
       "<text text-anchor=\"middle\" x=\"1431.5\" y=\"-7.8\" font-family=\"Times,serif\" font-size=\"14.00\" fill=\"#000000\">value = [0.961, 0.039]</text>\n",
       "</g>\n",
       "<!-- 19&#45;&gt;20 -->\n",
       "<g id=\"edge20\" class=\"edge\">\n",
       "<title>19&#45;&gt;20</title>\n",
       "<path fill=\"none\" stroke=\"#000000\" d=\"M1438.8982,-96.4465C1437.7681,-85.7621 1436.5162,-73.9254 1435.3684,-63.0742\"/>\n",
       "<polygon fill=\"#000000\" stroke=\"#000000\" points=\"1438.8398,-62.6185 1434.3073,-53.0422 1431.8787,-63.3549 1438.8398,-62.6185\"/>\n",
       "</g>\n",
       "<!-- 21 -->\n",
       "<g id=\"node22\" class=\"node\">\n",
       "<title>21</title>\n",
       "<polygon fill=\"none\" stroke=\"#000000\" points=\"1661,-53 1520,-53 1520,0 1661,0 1661,-53\"/>\n",
       "<text text-anchor=\"middle\" x=\"1590.5\" y=\"-37.8\" font-family=\"Times,serif\" font-size=\"14.00\" fill=\"#000000\">gini = 0.123</text>\n",
       "<text text-anchor=\"middle\" x=\"1590.5\" y=\"-22.8\" font-family=\"Times,serif\" font-size=\"14.00\" fill=\"#000000\">samples = 4.3%</text>\n",
       "<text text-anchor=\"middle\" x=\"1590.5\" y=\"-7.8\" font-family=\"Times,serif\" font-size=\"14.00\" fill=\"#000000\">value = [0.934, 0.066]</text>\n",
       "</g>\n",
       "<!-- 19&#45;&gt;21 -->\n",
       "<g id=\"edge21\" class=\"edge\">\n",
       "<title>19&#45;&gt;21</title>\n",
       "<path fill=\"none\" stroke=\"#000000\" d=\"M1490.9607,-96.4465C1508.0465,-84.4403 1527.2028,-70.9791 1544.113,-59.0962\"/>\n",
       "<polygon fill=\"#000000\" stroke=\"#000000\" points=\"1546.5588,-61.6553 1552.7285,-53.0422 1542.5342,-55.928 1546.5588,-61.6553\"/>\n",
       "</g>\n",
       "<!-- 23 -->\n",
       "<g id=\"node24\" class=\"node\">\n",
       "<title>23</title>\n",
       "<polygon fill=\"none\" stroke=\"#000000\" points=\"1906,-164.5 1751,-164.5 1751,-96.5 1906,-96.5 1906,-164.5\"/>\n",
       "<text text-anchor=\"middle\" x=\"1828.5\" y=\"-149.3\" font-family=\"Times,serif\" font-size=\"14.00\" fill=\"#000000\">user_country_US &lt;= 0.5</text>\n",
       "<text text-anchor=\"middle\" x=\"1828.5\" y=\"-134.3\" font-family=\"Times,serif\" font-size=\"14.00\" fill=\"#000000\">gini = 0.194</text>\n",
       "<text text-anchor=\"middle\" x=\"1828.5\" y=\"-119.3\" font-family=\"Times,serif\" font-size=\"14.00\" fill=\"#000000\">samples = 0.8%</text>\n",
       "<text text-anchor=\"middle\" x=\"1828.5\" y=\"-104.3\" font-family=\"Times,serif\" font-size=\"14.00\" fill=\"#000000\">value = [0.891, 0.109]</text>\n",
       "</g>\n",
       "<!-- 22&#45;&gt;23 -->\n",
       "<g id=\"edge23\" class=\"edge\">\n",
       "<title>22&#45;&gt;23</title>\n",
       "<path fill=\"none\" stroke=\"#000000\" d=\"M1828.5,-200.4465C1828.5,-192.276 1828.5,-183.4318 1828.5,-174.8697\"/>\n",
       "<polygon fill=\"#000000\" stroke=\"#000000\" points=\"1832.0001,-174.63 1828.5,-164.63 1825.0001,-174.63 1832.0001,-174.63\"/>\n",
       "</g>\n",
       "<!-- 26 -->\n",
       "<g id=\"node27\" class=\"node\">\n",
       "<title>26</title>\n",
       "<polygon fill=\"none\" stroke=\"#000000\" points=\"2124,-164.5 2011,-164.5 2011,-96.5 2124,-96.5 2124,-164.5\"/>\n",
       "<text text-anchor=\"middle\" x=\"2067.5\" y=\"-149.3\" font-family=\"Times,serif\" font-size=\"14.00\" fill=\"#000000\">hour &lt;= 13.0</text>\n",
       "<text text-anchor=\"middle\" x=\"2067.5\" y=\"-134.3\" font-family=\"Times,serif\" font-size=\"14.00\" fill=\"#000000\">gini = 0.48</text>\n",
       "<text text-anchor=\"middle\" x=\"2067.5\" y=\"-119.3\" font-family=\"Times,serif\" font-size=\"14.00\" fill=\"#000000\">samples = 0.0%</text>\n",
       "<text text-anchor=\"middle\" x=\"2067.5\" y=\"-104.3\" font-family=\"Times,serif\" font-size=\"14.00\" fill=\"#000000\">value = [0.4, 0.6]</text>\n",
       "</g>\n",
       "<!-- 22&#45;&gt;26 -->\n",
       "<g id=\"edge26\" class=\"edge\">\n",
       "<title>22&#45;&gt;26</title>\n",
       "<path fill=\"none\" stroke=\"#000000\" d=\"M1906.7575,-200.4465C1937.3454,-187.1363 1972.0424,-172.038 2001.3516,-159.2842\"/>\n",
       "<polygon fill=\"#000000\" stroke=\"#000000\" points=\"2002.8932,-162.4305 2010.6662,-155.231 2000.1002,-156.0118 2002.8932,-162.4305\"/>\n",
       "</g>\n",
       "<!-- 24 -->\n",
       "<g id=\"node25\" class=\"node\">\n",
       "<title>24</title>\n",
       "<polygon fill=\"none\" stroke=\"#000000\" points=\"1820,-53 1679,-53 1679,0 1820,0 1820,-53\"/>\n",
       "<text text-anchor=\"middle\" x=\"1749.5\" y=\"-37.8\" font-family=\"Times,serif\" font-size=\"14.00\" fill=\"#000000\">gini = 0.114</text>\n",
       "<text text-anchor=\"middle\" x=\"1749.5\" y=\"-22.8\" font-family=\"Times,serif\" font-size=\"14.00\" fill=\"#000000\">samples = 0.3%</text>\n",
       "<text text-anchor=\"middle\" x=\"1749.5\" y=\"-7.8\" font-family=\"Times,serif\" font-size=\"14.00\" fill=\"#000000\">value = [0.939, 0.061]</text>\n",
       "</g>\n",
       "<!-- 23&#45;&gt;24 -->\n",
       "<g id=\"edge24\" class=\"edge\">\n",
       "<title>23&#45;&gt;24</title>\n",
       "<path fill=\"none\" stroke=\"#000000\" d=\"M1802.6324,-96.4465C1794.0143,-85.1012 1784.4094,-72.4567 1775.7617,-61.0724\"/>\n",
       "<polygon fill=\"#000000\" stroke=\"#000000\" points=\"1778.4979,-58.8882 1769.6618,-53.0422 1772.9237,-63.1224 1778.4979,-58.8882\"/>\n",
       "</g>\n",
       "<!-- 25 -->\n",
       "<g id=\"node26\" class=\"node\">\n",
       "<title>25</title>\n",
       "<polygon fill=\"none\" stroke=\"#000000\" points=\"1979,-53 1838,-53 1838,0 1979,0 1979,-53\"/>\n",
       "<text text-anchor=\"middle\" x=\"1908.5\" y=\"-37.8\" font-family=\"Times,serif\" font-size=\"14.00\" fill=\"#000000\">gini = 0.248</text>\n",
       "<text text-anchor=\"middle\" x=\"1908.5\" y=\"-22.8\" font-family=\"Times,serif\" font-size=\"14.00\" fill=\"#000000\">samples = 0.4%</text>\n",
       "<text text-anchor=\"middle\" x=\"1908.5\" y=\"-7.8\" font-family=\"Times,serif\" font-size=\"14.00\" fill=\"#000000\">value = [0.855, 0.145]</text>\n",
       "</g>\n",
       "<!-- 23&#45;&gt;25 -->\n",
       "<g id=\"edge25\" class=\"edge\">\n",
       "<title>23&#45;&gt;25</title>\n",
       "<path fill=\"none\" stroke=\"#000000\" d=\"M1854.695,-96.4465C1863.4222,-85.1012 1873.1487,-72.4567 1881.9059,-61.0724\"/>\n",
       "<polygon fill=\"#000000\" stroke=\"#000000\" points=\"1884.76,-63.1024 1888.083,-53.0422 1879.2116,-58.8344 1884.76,-63.1024\"/>\n",
       "</g>\n",
       "<!-- 27 -->\n",
       "<g id=\"node28\" class=\"node\">\n",
       "<title>27</title>\n",
       "<polygon fill=\"none\" stroke=\"#000000\" points=\"2138,-53 1997,-53 1997,0 2138,0 2138,-53\"/>\n",
       "<text text-anchor=\"middle\" x=\"2067.5\" y=\"-37.8\" font-family=\"Times,serif\" font-size=\"14.00\" fill=\"#000000\">gini = 0.444</text>\n",
       "<text text-anchor=\"middle\" x=\"2067.5\" y=\"-22.8\" font-family=\"Times,serif\" font-size=\"14.00\" fill=\"#000000\">samples = 0.0%</text>\n",
       "<text text-anchor=\"middle\" x=\"2067.5\" y=\"-7.8\" font-family=\"Times,serif\" font-size=\"14.00\" fill=\"#000000\">value = [0.667, 0.333]</text>\n",
       "</g>\n",
       "<!-- 26&#45;&gt;27 -->\n",
       "<g id=\"edge27\" class=\"edge\">\n",
       "<title>26&#45;&gt;27</title>\n",
       "<path fill=\"none\" stroke=\"#000000\" d=\"M2067.5,-96.4465C2067.5,-85.7621 2067.5,-73.9254 2067.5,-63.0742\"/>\n",
       "<polygon fill=\"#000000\" stroke=\"#000000\" points=\"2071.0001,-63.0421 2067.5,-53.0422 2064.0001,-63.0422 2071.0001,-63.0421\"/>\n",
       "</g>\n",
       "<!-- 28 -->\n",
       "<g id=\"node29\" class=\"node\">\n",
       "<title>28</title>\n",
       "<polygon fill=\"none\" stroke=\"#000000\" points=\"2269,-53 2156,-53 2156,0 2269,0 2269,-53\"/>\n",
       "<text text-anchor=\"middle\" x=\"2212.5\" y=\"-37.8\" font-family=\"Times,serif\" font-size=\"14.00\" fill=\"#000000\">gini = 0.0</text>\n",
       "<text text-anchor=\"middle\" x=\"2212.5\" y=\"-22.8\" font-family=\"Times,serif\" font-size=\"14.00\" fill=\"#000000\">samples = 0.0%</text>\n",
       "<text text-anchor=\"middle\" x=\"2212.5\" y=\"-7.8\" font-family=\"Times,serif\" font-size=\"14.00\" fill=\"#000000\">value = [0.0, 1.0]</text>\n",
       "</g>\n",
       "<!-- 26&#45;&gt;28 -->\n",
       "<g id=\"edge28\" class=\"edge\">\n",
       "<title>26&#45;&gt;28</title>\n",
       "<path fill=\"none\" stroke=\"#000000\" d=\"M2114.9784,-96.4465C2131.7179,-84.4403 2150.4858,-70.9791 2167.0533,-59.0962\"/>\n",
       "<polygon fill=\"#000000\" stroke=\"#000000\" points=\"2169.408,-61.7146 2175.4941,-53.0422 2165.3282,-56.0264 2169.408,-61.7146\"/>\n",
       "</g>\n",
       "</g>\n",
       "</svg>\n"
      ],
      "text/plain": [
       "<graphviz.files.Source at 0x7f87533c5b80>"
      ]
     },
     "execution_count": 55,
     "metadata": {},
     "output_type": "execute_result"
    }
   ],
   "source": [
    "X_train,X_test,y_train,y_test = train_test_split(X,y,test_size=0.2,random_state=1024)\n",
    "tree_model = DecisionTreeClassifier(random_state=1024, max_depth=4, min_samples_split=5)\n",
    "tree_model.fit(X_train,y_train)\n",
    "feature_names = X.columns\n",
    "tree_graph = tree.export_graphviz(tree_model, proportion=True, out_file=None, feature_names=feature_names,leaves_parallel=True)\n",
    "graphviz.Source(tree_graph)"
   ]
  },
  {
   "cell_type": "code",
   "execution_count": 57,
   "metadata": {},
   "outputs": [
    {
     "data": {
      "text/plain": [
       "user_past_purchases           0.780000\n",
       "email_version_personalized    0.143868\n",
       "user_country_US               0.041192\n",
       "hour                          0.020455\n",
       "user_country_ES               0.014408\n",
       "weekday_Friday                0.000077\n",
       "user_country_UK               0.000000\n",
       "weekday_Wednesday             0.000000\n",
       "weekday_Tuesday               0.000000\n",
       "weekday_Thursday              0.000000\n",
       "weekday_Sunday                0.000000\n",
       "weekday_Saturday              0.000000\n",
       "email_text_short_email        0.000000\n",
       "dtype: float64"
      ]
     },
     "execution_count": 57,
     "metadata": {},
     "output_type": "execute_result"
    }
   ],
   "source": [
    "pd.Series(tree_model.feature_importances_,index = X_train.columns).sort_values(ascending=False)"
   ]
  },
  {
   "cell_type": "markdown",
   "metadata": {},
   "source": [
    "### h20"
   ]
  },
  {
   "cell_type": "code",
   "execution_count": 83,
   "metadata": {},
   "outputs": [
    {
     "name": "stdout",
     "output_type": "stream",
     "text": [
      "Checking whether there is an H2O instance running at http://localhost:54321 ..... not found.\n",
      "Attempting to start a local H2O server...\n",
      "  Java Version: openjdk version \"11.0.6\" 2020-01-14; OpenJDK Runtime Environment (build 11.0.6+8-b765.1); OpenJDK 64-Bit Server VM (build 11.0.6+8-b765.1, mixed mode)\n",
      "  Starting server from /Users/yli/opt/anaconda3/lib/python3.8/site-packages/h2o/backend/bin/h2o.jar\n",
      "  Ice root: /var/folders/df/669jwmvs7m78zz36wmxbr_zm0000gn/T/tmp0xay9g4z\n",
      "  JVM stdout: /var/folders/df/669jwmvs7m78zz36wmxbr_zm0000gn/T/tmp0xay9g4z/h2o_yli_started_from_python.out\n",
      "  JVM stderr: /var/folders/df/669jwmvs7m78zz36wmxbr_zm0000gn/T/tmp0xay9g4z/h2o_yli_started_from_python.err\n",
      "  Server is running at http://127.0.0.1:54321\n",
      "Connecting to H2O server at http://127.0.0.1:54321 ... successful.\n"
     ]
    },
    {
     "data": {
      "text/html": [
       "<div style=\"overflow:auto\"><table style=\"width:50%\"><tr><td>H2O_cluster_uptime:</td>\n",
       "<td>02 secs</td></tr>\n",
       "<tr><td>H2O_cluster_timezone:</td>\n",
       "<td>Asia/Shanghai</td></tr>\n",
       "<tr><td>H2O_data_parsing_timezone:</td>\n",
       "<td>UTC</td></tr>\n",
       "<tr><td>H2O_cluster_version:</td>\n",
       "<td>3.32.0.2</td></tr>\n",
       "<tr><td>H2O_cluster_version_age:</td>\n",
       "<td>1 month </td></tr>\n",
       "<tr><td>H2O_cluster_name:</td>\n",
       "<td>H2O_from_python_yli_uenf74</td></tr>\n",
       "<tr><td>H2O_cluster_total_nodes:</td>\n",
       "<td>1</td></tr>\n",
       "<tr><td>H2O_cluster_free_memory:</td>\n",
       "<td>4 Gb</td></tr>\n",
       "<tr><td>H2O_cluster_total_cores:</td>\n",
       "<td>8</td></tr>\n",
       "<tr><td>H2O_cluster_allowed_cores:</td>\n",
       "<td>8</td></tr>\n",
       "<tr><td>H2O_cluster_status:</td>\n",
       "<td>accepting new members, healthy</td></tr>\n",
       "<tr><td>H2O_connection_url:</td>\n",
       "<td>http://127.0.0.1:54321</td></tr>\n",
       "<tr><td>H2O_connection_proxy:</td>\n",
       "<td>{\"http\": null, \"https\": null}</td></tr>\n",
       "<tr><td>H2O_internal_security:</td>\n",
       "<td>False</td></tr>\n",
       "<tr><td>H2O_API_Extensions:</td>\n",
       "<td>Amazon S3, XGBoost, Algos, AutoML, Core V3, TargetEncoder, Core V4</td></tr>\n",
       "<tr><td>Python_version:</td>\n",
       "<td>3.8.2 final</td></tr></table></div>"
      ],
      "text/plain": [
       "--------------------------  ------------------------------------------------------------------\n",
       "H2O_cluster_uptime:         02 secs\n",
       "H2O_cluster_timezone:       Asia/Shanghai\n",
       "H2O_data_parsing_timezone:  UTC\n",
       "H2O_cluster_version:        3.32.0.2\n",
       "H2O_cluster_version_age:    1 month\n",
       "H2O_cluster_name:           H2O_from_python_yli_uenf74\n",
       "H2O_cluster_total_nodes:    1\n",
       "H2O_cluster_free_memory:    4 Gb\n",
       "H2O_cluster_total_cores:    8\n",
       "H2O_cluster_allowed_cores:  8\n",
       "H2O_cluster_status:         accepting new members, healthy\n",
       "H2O_connection_url:         http://127.0.0.1:54321\n",
       "H2O_connection_proxy:       {\"http\": null, \"https\": null}\n",
       "H2O_internal_security:      False\n",
       "H2O_API_Extensions:         Amazon S3, XGBoost, Algos, AutoML, Core V3, TargetEncoder, Core V4\n",
       "Python_version:             3.8.2 final\n",
       "--------------------------  ------------------------------------------------------------------"
      ]
     },
     "metadata": {},
     "output_type": "display_data"
    }
   ],
   "source": [
    "h2o.init()\n",
    "h2o.remove_all()"
   ]
  },
  {
   "cell_type": "code",
   "execution_count": 85,
   "metadata": {},
   "outputs": [
    {
     "name": "stdout",
     "output_type": "stream",
     "text": [
      "Parse progress: |█████████████████████████████████████████████████████████| 100%\n"
     ]
    },
    {
     "data": {
      "text/html": [
       "<table>\n",
       "<thead>\n",
       "<tr><th>       </th><th>email_id          </th><th>email_text  </th><th>email_version  </th><th>hour             </th><th>weekday  </th><th>user_country  </th><th>user_past_purchases  </th><th>open  </th><th>click  </th></tr>\n",
       "</thead>\n",
       "<tbody>\n",
       "<tr><td>type   </td><td>int               </td><td>enum        </td><td>enum           </td><td>int              </td><td>enum     </td><td>enum          </td><td>int                  </td><td>enum  </td><td>enum   </td></tr>\n",
       "<tr><td>mins   </td><td>8.0               </td><td>            </td><td>               </td><td>1.0              </td><td>         </td><td>              </td><td>0.0                  </td><td>      </td><td>       </td></tr>\n",
       "<tr><td>mean   </td><td>498690.1961600017 </td><td>            </td><td>               </td><td>9.059300000000105</td><td>         </td><td>              </td><td>3.8784500000000186   </td><td>      </td><td>       </td></tr>\n",
       "<tr><td>maxs   </td><td>999998.0          </td><td>            </td><td>               </td><td>24.0             </td><td>         </td><td>              </td><td>22.0                 </td><td>      </td><td>       </td></tr>\n",
       "<tr><td>sigma  </td><td>289230.72753429407</td><td>            </td><td>               </td><td>4.439637441706958</td><td>         </td><td>              </td><td>3.1961097835771426   </td><td>      </td><td>       </td></tr>\n",
       "<tr><td>zeros  </td><td>0                 </td><td>            </td><td>               </td><td>0                </td><td>         </td><td>              </td><td>13877                </td><td>      </td><td>       </td></tr>\n",
       "<tr><td>missing</td><td>0                 </td><td>0           </td><td>0              </td><td>0                </td><td>0        </td><td>0             </td><td>0                    </td><td>0     </td><td>0      </td></tr>\n",
       "<tr><td>0      </td><td>85120.0           </td><td>short_email </td><td>personalized   </td><td>2.0              </td><td>Sunday   </td><td>US            </td><td>5.0                  </td><td>0     </td><td>0      </td></tr>\n",
       "<tr><td>1      </td><td>966622.0          </td><td>long_email  </td><td>personalized   </td><td>12.0             </td><td>Sunday   </td><td>UK            </td><td>2.0                  </td><td>1     </td><td>1      </td></tr>\n",
       "<tr><td>2      </td><td>777221.0          </td><td>long_email  </td><td>personalized   </td><td>11.0             </td><td>Wednesday</td><td>US            </td><td>2.0                  </td><td>0     </td><td>0      </td></tr>\n",
       "<tr><td>3      </td><td>493711.0          </td><td>short_email </td><td>generic        </td><td>6.0              </td><td>Monday   </td><td>UK            </td><td>1.0                  </td><td>0     </td><td>0      </td></tr>\n",
       "<tr><td>4      </td><td>106887.0          </td><td>long_email  </td><td>generic        </td><td>14.0             </td><td>Monday   </td><td>US            </td><td>6.0                  </td><td>0     </td><td>0      </td></tr>\n",
       "<tr><td>5      </td><td>684440.0          </td><td>long_email  </td><td>personalized   </td><td>6.0              </td><td>Sunday   </td><td>UK            </td><td>3.0                  </td><td>0     </td><td>0      </td></tr>\n",
       "<tr><td>6      </td><td>139620.0          </td><td>short_email </td><td>personalized   </td><td>9.0              </td><td>Saturday </td><td>US            </td><td>8.0                  </td><td>1     </td><td>0      </td></tr>\n",
       "<tr><td>7      </td><td>694933.0          </td><td>long_email  </td><td>generic        </td><td>8.0              </td><td>Saturday </td><td>US            </td><td>2.0                  </td><td>0     </td><td>0      </td></tr>\n",
       "<tr><td>8      </td><td>485760.0          </td><td>long_email  </td><td>personalized   </td><td>5.0              </td><td>Monday   </td><td>US            </td><td>4.0                  </td><td>0     </td><td>0      </td></tr>\n",
       "<tr><td>9      </td><td>592665.0          </td><td>short_email </td><td>personalized   </td><td>23.0             </td><td>Wednesday</td><td>US            </td><td>3.0                  </td><td>0     </td><td>0      </td></tr>\n",
       "</tbody>\n",
       "</table>"
      ]
     },
     "metadata": {},
     "output_type": "display_data"
    }
   ],
   "source": [
    "# Transform to H2O Frame, and make sure the target variable is categorical\n",
    "h2o_df = H2OFrame(data)\n",
    "h2o_df['click'] = h2o_df['click'].asfactor()\n",
    "h2o_df['open'] = h2o_df['open'].asfactor()\n",
    "\n",
    "h2o_df.summary()"
   ]
  },
  {
   "cell_type": "code",
   "execution_count": 86,
   "metadata": {},
   "outputs": [],
   "source": [
    "# Split into 75% training and 25% test dataset\n",
    "strat_split = h2o_df['click'].stratified_split(test_frac=0.25, seed=42)\n",
    "\n",
    "train = h2o_df[strat_split == 'train']\n",
    "test = h2o_df[strat_split == 'test']\n",
    "\n",
    "feature = ['email_text', 'email_version', 'hour', 'weekday', 'user_country', 'user_past_purchases']\n",
    "target = 'click'"
   ]
  },
  {
   "cell_type": "markdown",
   "metadata": {},
   "source": [
    "#### Random Forest"
   ]
  },
  {
   "cell_type": "code",
   "execution_count": 68,
   "metadata": {},
   "outputs": [
    {
     "name": "stdout",
     "output_type": "stream",
     "text": [
      "drf Model Build progress: |███████████████████████████████████████████████| 100%\n"
     ]
    }
   ],
   "source": [
    "# Build random forest model\n",
    "model = H2ORandomForestEstimator(balance_classes=True, ntrees=100, max_depth=10, \n",
    "                                 mtries=-1, seed=42, score_each_iteration=True)\n",
    "model.train(x=feature, y=target, training_frame=train)"
   ]
  },
  {
   "cell_type": "code",
   "execution_count": 69,
   "metadata": {},
   "outputs": [
    {
     "data": {
      "image/png": "[encoded data removed]",
      "text/plain": [
       "<Figure size 576x360 with 1 Axes>"
      ]
     },
     "metadata": {
      "needs_background": "light"
     },
     "output_type": "display_data"
    }
   ],
   "source": [
    "# Feature importance\n",
    "importance = model.varimp(use_pandas=True)\n",
    "\n",
    "fig, ax = plt.subplots(figsize=(8, 5))\n",
    "sns.barplot(x='scaled_importance', y='variable', data=importance)\n",
    "plt.tight_layout()"
   ]
  },
  {
   "cell_type": "code",
   "execution_count": 70,
   "metadata": {},
   "outputs": [
    {
     "name": "stdout",
     "output_type": "stream",
     "text": [
      "drf prediction progress: |████████████████████████████████████████████████| 100%\n",
      "drf prediction progress: |████████████████████████████████████████████████| 100%\n"
     ]
    },
    {
     "name": "stderr",
     "output_type": "stream",
     "text": [
      "/Users/yli/opt/anaconda3/lib/python3.8/site-packages/sklearn/metrics/_classification.py:1221: UndefinedMetricWarning: Precision and F-score are ill-defined and being set to 0.0 in labels with no predicted samples. Use `zero_division` parameter to control this behavior.\n",
      "  _warn_prf(average, modifier, msg_start, len(result))\n"
     ]
    },
    {
     "name": "stdout",
     "output_type": "stream",
     "text": [
      "              precision    recall  f1-score   support\n",
      "\n",
      "           0       0.98      1.00      0.99     24470\n",
      "           1       0.00      0.00      0.00       530\n",
      "\n",
      "    accuracy                           0.98     25000\n",
      "   macro avg       0.49      0.50      0.49     25000\n",
      "weighted avg       0.96      0.98      0.97     25000\n",
      "\n"
     ]
    }
   ],
   "source": [
    "# Make predictions\n",
    "train_true = train.as_data_frame()['click'].values\n",
    "test_true = test.as_data_frame()['click'].values\n",
    "train_pred = model.predict(train).as_data_frame()['p1'].values\n",
    "test_pred = model.predict(test).as_data_frame()['p1'].values\n",
    "\n",
    "train_fpr, train_tpr, _ = roc_curve(train_true, train_pred)\n",
    "test_fpr, test_tpr, _ = roc_curve(test_true, test_pred)\n",
    "train_auc = np.round(auc(train_fpr, train_tpr), 3)\n",
    "test_auc = np.round(auc(test_fpr, test_tpr), 3)\n",
    "\n",
    "# Classification report\n",
    "print(classification_report(y_true=test_true, y_pred=(test_pred > 0.5).astype(int)))"
   ]
  },
  {
   "cell_type": "code",
   "execution_count": 71,
   "metadata": {},
   "outputs": [
    {
     "data": {
      "image/png": "[encoded data removed]",
      "text/plain": [
       "<Figure size 576x432 with 1 Axes>"
      ]
     },
     "metadata": {
      "needs_background": "light"
     },
     "output_type": "display_data"
    }
   ],
   "source": [
    "# ROC curves\n",
    "fig, ax = plt.subplots(figsize=(8, 6))\n",
    "ax.plot(train_fpr, train_tpr, label='Train AUC: ' + str(train_auc))\n",
    "ax.plot(test_fpr, test_tpr, label='Test AUC: ' + str(test_auc))\n",
    "ax.set_xlabel('False Positive Rate', fontsize=12)\n",
    "ax.set_ylabel('True Positive Rate', fontsize=12)\n",
    "ax.legend(fontsize=12)\n",
    "plt.show()"
   ]
  },
  {
   "cell_type": "code",
   "execution_count": 72,
   "metadata": {},
   "outputs": [
    {
     "name": "stdout",
     "output_type": "stream",
     "text": [
      "PartialDependencePlot progress: |█████████████████████████████████████████| 100%\n"
     ]
    },
    {
     "name": "stderr",
     "output_type": "stream",
     "text": [
      "/Users/yli/opt/anaconda3/lib/python3.8/site-packages/h2o/model/model_base.py:1394: MatplotlibDeprecationWarning: Since 3.2, the parameter *where* must have the same size as [0 1] in fill_betweenx(). This will become an error two minor releases later.\n",
      "  axs.fill_between(x, lower, upper, where=lower < upper, alpha=0.1, interpolate=False)\n",
      "/Users/yli/opt/anaconda3/lib/python3.8/site-packages/h2o/model/model_base.py:1394: MatplotlibDeprecationWarning: Since 3.2, the parameter *where* must have the same size as [1.0 2.2105263157894735 3.4210526315789473 4.631578947368421\n",
      " 5.842105263157895 7.052631578947368 8.263157894736842 9.473684210526315\n",
      " 10.68421052631579 11.894736842105264 13.105263157894736 14.31578947368421\n",
      " 15.526315789473685 16.736842105263158 17.94736842105263\n",
      " 19.157894736842106 20.36842105263158 21.57894736842105 22.789473684210527\n",
      " 24.0] in fill_betweenx(). This will become an error two minor releases later.\n",
      "  axs.fill_between(x, lower, upper, where=lower < upper, alpha=0.1, interpolate=False)\n",
      "/Users/yli/opt/anaconda3/lib/python3.8/site-packages/h2o/model/model_base.py:1394: MatplotlibDeprecationWarning: Since 3.2, the parameter *where* must have the same size as [0 1 2 3 4 5 6] in fill_betweenx(). This will become an error two minor releases later.\n",
      "  axs.fill_between(x, lower, upper, where=lower < upper, alpha=0.1, interpolate=False)\n",
      "/Users/yli/opt/anaconda3/lib/python3.8/site-packages/h2o/model/model_base.py:1394: MatplotlibDeprecationWarning: Since 3.2, the parameter *where* must have the same size as [0 1 2 3] in fill_betweenx(). This will become an error two minor releases later.\n",
      "  axs.fill_between(x, lower, upper, where=lower < upper, alpha=0.1, interpolate=False)\n",
      "/Users/yli/opt/anaconda3/lib/python3.8/site-packages/h2o/model/model_base.py:1394: MatplotlibDeprecationWarning: Since 3.2, the parameter *where* must have the same size as [0.0 1.105263157894737 2.210526315789474 3.3157894736842106\n",
      " 4.421052631578948 5.526315789473685 6.631578947368421 7.736842105263158\n",
      " 8.842105263157896 9.947368421052632 11.05263157894737 12.157894736842106\n",
      " 13.263157894736842 14.36842105263158 15.473684210526317\n",
      " 16.578947368421055 17.68421052631579 18.789473684210527\n",
      " 19.894736842105264 21.000000000000004] in fill_betweenx(). This will become an error two minor releases later.\n",
      "  axs.fill_between(x, lower, upper, where=lower < upper, alpha=0.1, interpolate=False)\n"
     ]
    },
    {
     "data": {
      "image/png": "[encoded data removed]",
      "text/plain": [
       "<Figure size 576x1080 with 6 Axes>"
      ]
     },
     "metadata": {
      "needs_background": "light"
     },
     "output_type": "display_data"
    }
   ],
   "source": [
    "# partial_plot\n",
    "## the blue block represents the confidence interval\n",
    "_ = model.partial_plot(train, cols=feature, figsize=(8, 15))"
   ]
  },
  {
   "cell_type": "code",
   "execution_count": 94,
   "metadata": {},
   "outputs": [
    {
     "name": "stdout",
     "output_type": "stream",
     "text": [
      "H2O session _sid_a579 closed.\n"
     ]
    }
   ],
   "source": [
    "# Shutdown h2o instance\n",
    "h2o.cluster().shutdown()"
   ]
  },
  {
   "cell_type": "markdown",
   "metadata": {},
   "source": [
    "It seems that currently there are some overfitting, which could be solved with grid search."
   ]
  },
  {
   "cell_type": "markdown",
   "metadata": {},
   "source": [
    "# Question 3"
   ]
  },
  {
   "cell_type": "markdown",
   "metadata": {},
   "source": [
    "Based on the model built previously, the company can send email to selected users that are predicted to have higher probability to click the link. "
   ]
  },
  {
   "cell_type": "markdown",
   "metadata": {},
   "source": [
    "To test it, we can conduct A/B test to see if the built model can actually help improve the click-through-rate.\n",
    "* Randomly assign users to two groups, Control group and Experiment group.\n",
    "* In Control group, still use the old email-campaign strategy, i.e., just send emails to all users in Control group.\n",
    "* In Experiment group, use my model to predict whether the user will click the link or not. and only send emails to those users whose predictive result is positive.\n",
    "* Preform a one-tail unpaired t-test to test whether Experiement group's population proportion is higher than Control group's population proportion."
   ]
  },
  {
   "cell_type": "markdown",
   "metadata": {},
   "source": [
    "# Question 4"
   ]
  },
  {
   "cell_type": "markdown",
   "metadata": {},
   "source": [
    "See visualization and partial dependence plot for details, which should be very clear."
   ]
  },
  {
   "cell_type": "code",
   "execution_count": null,
   "metadata": {},
   "outputs": [],
   "source": []
  }
 ],
 "metadata": {
  "kernelspec": {
   "display_name": "Python 3",
   "language": "python",
   "name": "python3"
  },
  "language_info": {
   "codemirror_mode": {
    "name": "ipython",
    "version": 3
   },
   "file_extension": ".py",
   "mimetype": "text/x-python",
   "name": "python",
   "nbconvert_exporter": "python",
   "pygments_lexer": "ipython3",
   "version": "3.8.2"
  },
  "toc": {
   "base_numbering": 1,
   "nav_menu": {},
   "number_sections": true,
   "sideBar": true,
   "skip_h1_title": false,
   "title_cell": "Table of Contents",
   "title_sidebar": "Contents",
   "toc_cell": false,
   "toc_position": {},
   "toc_section_display": true,
   "toc_window_display": false
  }
 },
 "nbformat": 4,
 "nbformat_minor": 4
}
